{
 "cells": [
  {
   "cell_type": "markdown",
   "id": "5bbdb6e7-fb08-4051-8ae3-7dade927a17b",
   "metadata": {},
   "source": [
    "# Task 1 - In silico perturbation workflow"
   ]
  },
  {
   "cell_type": "markdown",
   "id": "6e32cd25-f800-4aa5-985d-541aa929106f",
   "metadata": {},
   "source": [
    "## Imports"
   ]
  },
  {
   "cell_type": "code",
   "execution_count": 1,
   "id": "7b229018-2fa4-4f23-b811-56cc042bce0d",
   "metadata": {},
   "outputs": [],
   "source": [
    "import scanpy as sc\n",
    "import numpy as np\n",
    "\n",
    "from collections.abc import Sequence\n",
    "from typing import Literal\n",
    "from anndata import AnnData"
   ]
  },
  {
   "cell_type": "markdown",
   "id": "1fef8772-b1e9-4eb5-ae92-e5b6df505ab2",
   "metadata": {},
   "source": [
    "## Functions"
   ]
  },
  {
   "cell_type": "code",
   "execution_count": 2,
   "id": "1e6e93f1-0f15-4140-a670-6a958e1c0696",
   "metadata": {},
   "outputs": [],
   "source": [
    "def perturb_genes(\n",
    "    adata: AnnData,\n",
    "    target: tuple[str, Sequence[str]],\n",
    "    factor: tuple[float, Sequence[float]],\n",
    "    copy: bool = False,\n",
    ") -> AnnData | None:\n",
    "    \"\"\"Perturb selected genes.\n",
    "\n",
    "    Change the expression of provided genes by a factor and round back to integers.\n",
    "    Expects raw count data.\n",
    "\n",
    "    Parameters\n",
    "    ----------\n",
    "    adata\n",
    "        The annotated data matrix.\n",
    "    target\n",
    "        Which gene(s) to perturb.\n",
    "    factor\n",
    "        Factor for simulated perturbation per provided gene. Must be a positive number.\n",
    "    copy\n",
    "        Whether to copy `adata` or modify it inplace.\n",
    "\n",
    "    Returns\n",
    "    -------\n",
    "    Returns `None` if `copy=False`, else returns an `AnnData` object.\n",
    "\n",
    "    \"\"\"\n",
    "    # Sanity checks on inputs\n",
    "    if isinstance(target, str):\n",
    "        target = [target]\n",
    "    if isinstance(factor, float):\n",
    "        factor = [factor]\n",
    "        \n",
    "    if len(target) != len(factor):\n",
    "        msg = (\n",
    "            f\"the number of provided targets must match the number of provided factors, but {len(target)} and {len(factor)} values were passed, respectively\"\n",
    "        )\n",
    "        raise ValueError(msg)\n",
    "\n",
    "    missing_genes = [t for t in target if t not in adata.var_names]\n",
    "    if missing_genes:\n",
    "        msg = (\n",
    "            f\"the following provided targets were not found in the index of the provided anndata object: {missing_genes!r}. Example names are {adata.var_names[:3].tolist()}\"\n",
    "        )\n",
    "        raise ValueError(msg)\n",
    "\n",
    "    if [f for f in factor if f < 0.]:\n",
    "        msg = (\n",
    "            f\"some provided factors were smaller than 0. Please only provide positive numbers.\"\n",
    "        )\n",
    "        raise ValueError(msg)\n",
    "\n",
    "    if len(target) != len(set(target)):\n",
    "        msg = (\n",
    "            f\"target contains duplicate values.\"\n",
    "        )\n",
    "        raise ValueError(msg)\n",
    "\n",
    "    # Create copy of adata if requested\n",
    "    adata = adata.copy() if copy else adata\n",
    "\n",
    "    # Perturb genes\n",
    "    perturbed_counts = adata[:, target].X.multiply(factor)\n",
    "    perturbed_counts = np.round(perturbed_counts)\n",
    "    adata[:, target].X = perturbed_counts.tocsr()\n",
    "\n",
    "    return adata if copy else None"
   ]
  },
  {
   "cell_type": "markdown",
   "id": "d515ffc3-7f4b-476c-87dd-ff7b54a14a2d",
   "metadata": {},
   "source": [
    "## Testing"
   ]
  },
  {
   "cell_type": "code",
   "execution_count": 4,
   "id": "5f640765-d985-479d-bf99-b5f5cd4a8f14",
   "metadata": {},
   "outputs": [
    {
     "data": {
      "text/plain": [
       "array([[ 1., 13.],\n",
       "       [ 0., 26.],\n",
       "       [ 0., 68.],\n",
       "       ...,\n",
       "       [ 0.,  0.],\n",
       "       [ 0.,  0.],\n",
       "       [ 0.,  1.]], dtype=float32)"
      ]
     },
     "execution_count": 4,
     "metadata": {},
     "output_type": "execute_result"
    }
   ],
   "source": [
    "# Load data and check expression of two example genes\n",
    "adata = sc.read_h5ad(\"../data/processed_data.h5ad\")\n",
    "adata[:, [\"ENSG00000171532\", \"ENSG00000078018\"]].X.A"
   ]
  },
  {
   "cell_type": "code",
   "execution_count": 5,
   "id": "bc7edb37-1790-4f9f-9ac5-6605aa7e43e3",
   "metadata": {},
   "outputs": [],
   "source": [
    "# Apply perturbation function in place\n",
    "perturb_genes(adata, [\"ENSG00000171532\", \"ENSG00000078018\"], [2., 0.5])"
   ]
  },
  {
   "cell_type": "code",
   "execution_count": 6,
   "id": "b91546bd-c3fe-43bc-adc8-de71b47cc52d",
   "metadata": {},
   "outputs": [
    {
     "data": {
      "text/plain": [
       "array([[ 2.,  6.],\n",
       "       [ 0., 13.],\n",
       "       [ 0., 34.],\n",
       "       ...,\n",
       "       [ 0.,  0.],\n",
       "       [ 0.,  0.],\n",
       "       [ 0.,  0.]], dtype=float32)"
      ]
     },
     "execution_count": 6,
     "metadata": {},
     "output_type": "execute_result"
    }
   ],
   "source": [
    "# Check counts of perturbed genes\n",
    "adata[:, [\"ENSG00000171532\", \"ENSG00000078018\"]].X.A"
   ]
  }
 ],
 "metadata": {
  "kernelspec": {
   "display_name": "Python 3 (ipykernel)",
   "language": "python",
   "name": "python3"
  },
  "language_info": {
   "codemirror_mode": {
    "name": "ipython",
    "version": 3
   },
   "file_extension": ".py",
   "mimetype": "text/x-python",
   "name": "python",
   "nbconvert_exporter": "python",
   "pygments_lexer": "ipython3",
   "version": "3.11.8"
  }
 },
 "nbformat": 4,
 "nbformat_minor": 5
}
