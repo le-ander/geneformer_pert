{
 "cells": [
  {
   "cell_type": "markdown",
   "id": "f9c52569-9196-4a1b-9431-c25b72e8296d",
   "metadata": {},
   "source": [
    "# Data Preparation"
   ]
  },
  {
   "cell_type": "markdown",
   "id": "8377d887-8c93-436d-af81-7ab174714126",
   "metadata": {},
   "source": [
    "## Imports"
   ]
  },
  {
   "cell_type": "code",
   "execution_count": 16,
   "id": "0a1d8708-856c-4d88-b5e2-90cf521d2f6e",
   "metadata": {},
   "outputs": [],
   "source": [
    "import synapseclient\n",
    "import synapseutils\n",
    "\n",
    "import os\n",
    "import scanpy as sc\n",
    "import anndata as ad\n",
    "import pandas as pd"
   ]
  },
  {
   "cell_type": "markdown",
   "id": "11b50bcd-2304-45bc-89b0-ba83af667640",
   "metadata": {},
   "source": [
    "## Download Data"
   ]
  },
  {
   "cell_type": "code",
   "execution_count": 3,
   "id": "267fbc34-1979-4aea-a57a-1d31435779a9",
   "metadata": {},
   "outputs": [
    {
     "name": "stdout",
     "output_type": "stream",
     "text": [
      "Welcome, vbsethrtbgd!\n",
      "\n"
     ]
    }
   ],
   "source": [
    "syn = synapseclient.Synapse()\n",
    "syn.login(authToken=\"redacted\")"
   ]
  },
  {
   "cell_type": "code",
   "execution_count": 4,
   "id": "cdfdb850-01a1-405d-af42-9929aa74237d",
   "metadata": {
    "scrolled": true
   },
   "outputs": [
    {
     "name": "stderr",
     "output_type": "stream",
     "text": [
      "Downloading files:   0%|                                                                                                                                                      | 0.00/1.00 [00:00<?, ?B/s]"
     ]
    },
    {
     "name": "stdout",
     "output_type": "stream",
     "text": [
      "[syn51105515:Single-cell dissection of the human motor and prefrontal cortices in ALS and FTLD]: Syncing Project from Synapse.\n"
     ]
    },
    {
     "name": "stderr",
     "output_type": "stream",
     "text": [
      "Downloading files:   0%|                                                                                                                                                      | 0.00/1.00 [00:01<?, ?B/s]"
     ]
    },
    {
     "name": "stdout",
     "output_type": "stream",
     "text": [
      "[syn53421586:Processed Data]: Syncing Folder from Synapse.\n"
     ]
    },
    {
     "name": "stderr",
     "output_type": "stream",
     "text": [
      "Downloading files:   0%|                                                                                                                                                      | 0.00/1.00 [00:01<?, ?B/s]"
     ]
    },
    {
     "name": "stdout",
     "output_type": "stream",
     "text": [
      "[syn53416892:Supplemental Materials]: Syncing Folder from Synapse.\n"
     ]
    },
    {
     "name": "stderr",
     "output_type": "stream",
     "text": [
      "Downloading files:   0%|                                                                                                                                                      | 0.00/1.00 [00:01<?, ?B/s]"
     ]
    },
    {
     "name": "stdout",
     "output_type": "stream",
     "text": [
      "[syn54100741:Pineda_et_al_suppmat_README.txt]: Copying existing file from /storage/my_disk/helical_coding_challenge/.synapsecache/88/134591088/Pineda_et_al_suppmat_README.txt to /storage/my_disk/helical_coding_challenge/data/syn51105515/Supplemental Materials/Pineda_et_al_suppmat_README.txt\n"
     ]
    },
    {
     "name": "stderr",
     "output_type": "stream",
     "text": [
      "Downloading files:   0%|                                                                                                                                                      | 0.00/1.00 [00:01<?, ?B/s]"
     ]
    },
    {
     "name": "stdout",
     "output_type": "stream",
     "text": [
      "[syn53497707:S01_sample_information.xlsx]: Copying existing file from /storage/my_disk/helical_coding_challenge/.synapsecache/741/133019741/S01_sample_information.xlsx to /storage/my_disk/helical_coding_challenge/data/syn51105515/Supplemental Materials/S01_sample_information.xlsx\n"
     ]
    },
    {
     "name": "stderr",
     "output_type": "stream",
     "text": [
      "Downloading files:   0%|                                                                                                                                                      | 0.00/1.00 [00:02<?, ?B/s]"
     ]
    },
    {
     "name": "stdout",
     "output_type": "stream",
     "text": [
      "[syn53421665:191112_ALS_129_snRNA-A2]: Syncing Folder from Synapse.\n"
     ]
    },
    {
     "name": "stderr",
     "output_type": "stream",
     "text": [
      "Downloading files:   0%|                                                                                                                                                      | 0.00/1.00 [00:02<?, ?B/s]"
     ]
    },
    {
     "name": "stdout",
     "output_type": "stream",
     "text": [
      "[syn53421688:191112_ALS_128_snRNA-A7]: Syncing Folder from Synapse.\n"
     ]
    },
    {
     "name": "stderr",
     "output_type": "stream",
     "text": [
      "Downloading files:   0%|                                                                                                                                                      | 0.00/1.00 [00:02<?, ?B/s]"
     ]
    },
    {
     "name": "stdout",
     "output_type": "stream",
     "text": [
      "[syn53417765:S04 - DEGs pan-neuronal]: Syncing Folder from Synapse.\n"
     ]
    },
    {
     "name": "stderr",
     "output_type": "stream",
     "text": [
      "Downloading files:   0%|                                                                                                                                                      | 0.00/1.00 [00:02<?, ?B/s]"
     ]
    },
    {
     "name": "stdout",
     "output_type": "stream",
     "text": [
      "[syn53417850:S10 - TxD-associated pathway enrichments]: Syncing Folder from Synapse.\n"
     ]
    },
    {
     "name": "stderr",
     "output_type": "stream",
     "text": [
      "Downloading files:   0%|                                                                                                                                                      | 0.00/1.00 [00:02<?, ?B/s]"
     ]
    },
    {
     "name": "stdout",
     "output_type": "stream",
     "text": [
      "[syn53417779:S05 - Pathway enrichments pan-neuronal]: Syncing Folder from Synapse.\n"
     ]
    },
    {
     "name": "stderr",
     "output_type": "stream",
     "text": [
      "Downloading files:   0%|                                                                                                                                                      | 0.00/1.00 [00:02<?, ?B/s]"
     ]
    },
    {
     "name": "stdout",
     "output_type": "stream",
     "text": [
      "[syn53417759:S03_annotation_mapping.csv]: Copying existing file from /storage/my_disk/helical_coding_challenge/.synapsecache/547/133019547/S03_annotation_mapping.csv to /storage/my_disk/helical_coding_challenge/data/syn51105515/Supplemental Materials/S03_annotation_mapping.csv\n"
     ]
    },
    {
     "name": "stderr",
     "output_type": "stream",
     "text": [
      "Downloading files:   0%|                                                                                                                                                      | 0.00/1.00 [00:02<?, ?B/s]"
     ]
    },
    {
     "name": "stdout",
     "output_type": "stream",
     "text": [
      "[syn53421654:191112_ALS_130_snRNA-A5]: Syncing Folder from Synapse.\n"
     ]
    },
    {
     "name": "stderr",
     "output_type": "stream",
     "text": [
      "Downloading files:   0%|                                                                                                                                                      | 0.00/1.00 [00:02<?, ?B/s]"
     ]
    },
    {
     "name": "stdout",
     "output_type": "stream",
     "text": [
      "[syn53421740:210910_PFC_ALS_138_snRNA-D5]: Syncing Folder from Synapse.\n"
     ]
    },
    {
     "name": "stderr",
     "output_type": "stream",
     "text": [
      "Downloading files:   0%|                                                                                                                                                      | 0.00/1.00 [00:02<?, ?B/s]"
     ]
    },
    {
     "name": "stdout",
     "output_type": "stream",
     "text": [
      "[syn53417871:S11_regulators_of_txd_associated.xlsx]: Copying existing file from /storage/my_disk/helical_coding_challenge/.synapsecache/215/132640215/S11_regulators_of_txd_associated.xlsx to /storage/my_disk/helical_coding_challenge/data/syn51105515/Supplemental Materials/S11_regulators_of_txd_associated.xlsx\n"
     ]
    },
    {
     "name": "stderr",
     "output_type": "stream",
     "text": [
      "Downloading files:   0%|                                                                                                                                                      | 0.00/1.00 [00:02<?, ?B/s]"
     ]
    },
    {
     "name": "stdout",
     "output_type": "stream",
     "text": [
      "[syn53417817:S07 - Pathway enrichments by cell type]: Syncing Folder from Synapse.\n"
     ]
    },
    {
     "name": "stderr",
     "output_type": "stream",
     "text": [
      "Downloading files:   0%|                                                                                                                                                      | 0.00/1.00 [00:02<?, ?B/s]"
     ]
    },
    {
     "name": "stdout",
     "output_type": "stream",
     "text": [
      "[syn53417797:S06 - DEGs cell type-specific]: Syncing Folder from Synapse.\n"
     ]
    },
    {
     "name": "stderr",
     "output_type": "stream",
     "text": [
      "Downloading files:   0%|                                                                                                                                                      | 0.00/1.00 [00:02<?, ?B/s]"
     ]
    },
    {
     "name": "stdout",
     "output_type": "stream",
     "text": [
      "[syn53417758:S02_top_subtype_marker_genes.xlsx]: Copying existing file from /storage/my_disk/helical_coding_challenge/.synapsecache/546/133019546/S02_top_subtype_marker_genes.xlsx to /storage/my_disk/helical_coding_challenge/data/syn51105515/Supplemental Materials/S02_top_subtype_marker_genes.xlsx\n"
     ]
    },
    {
     "name": "stderr",
     "output_type": "stream",
     "text": [
      "Downloading files:   0%|                                                                                                                                                      | 0.00/1.00 [00:02<?, ?B/s]"
     ]
    },
    {
     "name": "stdout",
     "output_type": "stream",
     "text": [
      "[syn53417834:S08 - DEG regulators by cell type]: Syncing Folder from Synapse.\n"
     ]
    },
    {
     "name": "stderr",
     "output_type": "stream",
     "text": [
      "Downloading files:   0%|                                                                                                                                                      | 0.00/1.00 [00:02<?, ?B/s]"
     ]
    },
    {
     "name": "stdout",
     "output_type": "stream",
     "text": [
      "[syn53417847:S09_txd_association_analysis.xlsx]: Copying existing file from /storage/my_disk/helical_coding_challenge/.synapsecache/549/133019549/S09_txd_association_analysis.xlsx to /storage/my_disk/helical_coding_challenge/data/syn51105515/Supplemental Materials/S09_txd_association_analysis.xlsx\n"
     ]
    },
    {
     "name": "stderr",
     "output_type": "stream",
     "text": [
      "Downloading files:   0%|                                                                                                                                                      | 0.00/1.00 [00:02<?, ?B/s]"
     ]
    },
    {
     "name": "stdout",
     "output_type": "stream",
     "text": [
      "[syn53421748:210526_ALS_110_snRNA-H11]: Syncing Folder from Synapse.\n"
     ]
    },
    {
     "name": "stderr",
     "output_type": "stream",
     "text": [
      "Downloading files:   0%|                                                                                                                                                      | 0.00/1.00 [00:02<?, ?B/s]"
     ]
    },
    {
     "name": "stdout",
     "output_type": "stream",
     "text": [
      "[syn53421639:210526_ALS_113_snRNA-A3]: Syncing Folder from Synapse.\n"
     ]
    },
    {
     "name": "stderr",
     "output_type": "stream",
     "text": [
      "Downloading files:   0%|                                                                                                                                                      | 0.00/1.00 [00:02<?, ?B/s]"
     ]
    },
    {
     "name": "stdout",
     "output_type": "stream",
     "text": [
      "[syn53421728:210526_ALS_117_snRNA-A7]: Syncing Folder from Synapse.\n"
     ]
    },
    {
     "name": "stderr",
     "output_type": "stream",
     "text": [
      "Downloading files:   0%|                                                                                                                                                      | 0.00/1.00 [00:02<?, ?B/s]"
     ]
    },
    {
     "name": "stdout",
     "output_type": "stream",
     "text": [
      "[syn53421734:210526_ALS_114_snRNA-A4]: Syncing Folder from Synapse.\n"
     ]
    },
    {
     "name": "stderr",
     "output_type": "stream",
     "text": [
      "Downloading files:   0%|                                                                                                                                                      | 0.00/1.00 [00:02<?, ?B/s]"
     ]
    },
    {
     "name": "stdout",
     "output_type": "stream",
     "text": [
      "[syn53421689:191112_ALS_114_snRNA-B12]: Syncing Folder from Synapse.\n"
     ]
    },
    {
     "name": "stderr",
     "output_type": "stream",
     "text": [
      "Downloading files:   0%|                                                                                                                                                      | 0.00/1.00 [00:02<?, ?B/s]"
     ]
    },
    {
     "name": "stdout",
     "output_type": "stream",
     "text": [
      "[syn53421781:191112_ALS_112_snRNA-D1]: Syncing Folder from Synapse.\n"
     ]
    },
    {
     "name": "stderr",
     "output_type": "stream",
     "text": [
      "Downloading files:   0%|                                                                                                                                                      | 0.00/1.00 [00:02<?, ?B/s]"
     ]
    },
    {
     "name": "stdout",
     "output_type": "stream",
     "text": [
      "[syn53421648:191112_ALS_115_snRNA-C1]: Syncing Folder from Synapse.\n"
     ]
    },
    {
     "name": "stderr",
     "output_type": "stream",
     "text": [
      "Downloading files:   0%|                                                                                                                                                      | 0.00/1.00 [00:02<?, ?B/s]"
     ]
    },
    {
     "name": "stdout",
     "output_type": "stream",
     "text": [
      "[syn53421753:191112_ALS_122_snRNA-D2]: Syncing Folder from Synapse.\n"
     ]
    },
    {
     "name": "stderr",
     "output_type": "stream",
     "text": [
      "Downloading files:   0%|                                                                                                                                                      | 0.00/1.00 [00:02<?, ?B/s]"
     ]
    },
    {
     "name": "stdout",
     "output_type": "stream",
     "text": [
      "[syn53421674:191112_ALS_110_snRNA-B9]: Syncing Folder from Synapse.\n"
     ]
    },
    {
     "name": "stderr",
     "output_type": "stream",
     "text": [
      "Downloading files:   0%|                                                                                                                                                      | 0.00/1.00 [00:02<?, ?B/s]"
     ]
    },
    {
     "name": "stdout",
     "output_type": "stream",
     "text": [
      "[syn53421764:191112_ALS_117_snRNA-C3]: Syncing Folder from Synapse.\n"
     ]
    },
    {
     "name": "stderr",
     "output_type": "stream",
     "text": [
      "Downloading files:   0%|                                                                                                                                                      | 0.00/1.00 [00:02<?, ?B/s]"
     ]
    },
    {
     "name": "stdout",
     "output_type": "stream",
     "text": [
      "[syn53421732:191112_ALS_127_snRNA-A4]: Syncing Folder from Synapse.\n"
     ]
    },
    {
     "name": "stderr",
     "output_type": "stream",
     "text": [
      "                                                                                                                                                                                                         "
     ]
    },
    {
     "name": "stdout",
     "output_type": "stream",
     "text": [
      "[syn53421735:210526_FTLD_238_snRNA-D4]: Syncing Folder from Synapse.\n"
     ]
    },
    {
     "name": "stderr",
     "output_type": "stream",
     "text": [
      "Downloading files:   0%|                                                                                                                                                      | 0.00/1.00 [00:02<?, ?B/s]"
     ]
    },
    {
     "name": "stdout",
     "output_type": "stream",
     "text": [
      "[syn53421771:191112_ALS_126_snRNA-A6]: Syncing Folder from Synapse.\n"
     ]
    },
    {
     "name": "stderr",
     "output_type": "stream",
     "text": [
      "Downloading files:   0%|                                                                                                                                                      | 0.00/1.00 [00:02<?, ?B/s]"
     ]
    },
    {
     "name": "stdout",
     "output_type": "stream",
     "text": [
      "[syn53421762:210526_FTLD_239_snRNA-D5]: Syncing Folder from Synapse.\n"
     ]
    },
    {
     "name": "stderr",
     "output_type": "stream",
     "text": [
      "                                                                                                                                                                                                         "
     ]
    },
    {
     "name": "stdout",
     "output_type": "stream",
     "text": [
      "[syn53421731:191112_ALS_118_snRNA-C4]: Syncing Folder from Synapse.\n"
     ]
    },
    {
     "name": "stderr",
     "output_type": "stream",
     "text": [
      "                                                                                                                                                                                                         "
     ]
    },
    {
     "name": "stdout",
     "output_type": "stream",
     "text": [
      "[syn53421729:191112_ALS_124_snRNA-A3]: Syncing Folder from Synapse.\n"
     ]
    },
    {
     "name": "stderr",
     "output_type": "stream",
     "text": [
      "Downloading files:   0%|                                                                                                                                                      | 0.00/1.00 [00:02<?, ?B/s]"
     ]
    },
    {
     "name": "stdout",
     "output_type": "stream",
     "text": [
      "[syn53421790:191112_ALS_116_snRNA-C2]: Syncing Folder from Synapse.\n"
     ]
    },
    {
     "name": "stderr",
     "output_type": "stream",
     "text": [
      "Downloading files:   0%|                                                                                                                                                      | 0.00/1.00 [00:02<?, ?B/s]"
     ]
    },
    {
     "name": "stdout",
     "output_type": "stream",
     "text": [
      "[syn53421692:191112_ALS_120_snRNA-A1]: Syncing Folder from Synapse.\n"
     ]
    },
    {
     "name": "stderr",
     "output_type": "stream",
     "text": [
      "Downloading files:   0%|                                                                                                                                                      | 0.00/1.00 [00:02<?, ?B/s]"
     ]
    },
    {
     "name": "stdout",
     "output_type": "stream",
     "text": [
      "[syn53421682:191112_ALS_111_snRNA-B10]: Syncing Folder from Synapse.\n"
     ]
    },
    {
     "name": "stderr",
     "output_type": "stream",
     "text": [
      "Downloading files:   0%|                                                                                                                                                      | 0.00/1.00 [00:02<?, ?B/s]"
     ]
    },
    {
     "name": "stdout",
     "output_type": "stream",
     "text": [
      "[syn53421750:201019_ALS_113_snRNA-B7]: Syncing Folder from Synapse.\n"
     ]
    },
    {
     "name": "stderr",
     "output_type": "stream",
     "text": [
      "Downloading files:   0%|                                                                                                                                                      | 0.00/1.00 [00:02<?, ?B/s]"
     ]
    },
    {
     "name": "stdout",
     "output_type": "stream",
     "text": [
      "[syn53421687:210526_PN_302_snRNA-D8]: Syncing Folder from Synapse.\n"
     ]
    },
    {
     "name": "stderr",
     "output_type": "stream",
     "text": [
      "Downloading files:   0%|                                                                                                                                                      | 0.00/1.00 [00:02<?, ?B/s]"
     ]
    },
    {
     "name": "stdout",
     "output_type": "stream",
     "text": [
      "[syn53421702:210526_PN_304_snRNA-D10]: Syncing Folder from Synapse.\n"
     ]
    },
    {
     "name": "stderr",
     "output_type": "stream",
     "text": [
      "Downloading files:   0%|                                                                                                                                                      | 0.00/1.00 [00:02<?, ?B/s]"
     ]
    },
    {
     "name": "stdout",
     "output_type": "stream",
     "text": [
      "[syn53421664:201019_PN_311_snRNA-B8]: Syncing Folder from Synapse.\n"
     ]
    },
    {
     "name": "stderr",
     "output_type": "stream",
     "text": [
      "Downloading files:   0%|                                                                                                                                                      | 0.00/1.00 [00:02<?, ?B/s]"
     ]
    },
    {
     "name": "stdout",
     "output_type": "stream",
     "text": [
      "[syn53421776:210526_PN_317_snRNA-E4]: Syncing Folder from Synapse.\n"
     ]
    },
    {
     "name": "stderr",
     "output_type": "stream",
     "text": [
      "Downloading files:   0%|                                                                                                                                                      | 0.00/1.00 [00:02<?, ?B/s]"
     ]
    },
    {
     "name": "stdout",
     "output_type": "stream",
     "text": [
      "[syn53421714:201025_FTLD_238_snRNA-C10]: Syncing Folder from Synapse.\n"
     ]
    },
    {
     "name": "stderr",
     "output_type": "stream",
     "text": [
      "Downloading files:   0%|                                                                                                                                                      | 0.00/1.00 [00:02<?, ?B/s]"
     ]
    },
    {
     "name": "stdout",
     "output_type": "stream",
     "text": [
      "[syn53421669:210526_PN_318_snRNA-H12]: Syncing Folder from Synapse.\n"
     ]
    },
    {
     "name": "stderr",
     "output_type": "stream",
     "text": [
      "Downloading files:   0%|                                                                                                                                                      | 0.00/1.00 [00:02<?, ?B/s]"
     ]
    },
    {
     "name": "stdout",
     "output_type": "stream",
     "text": [
      "[syn53421789:210526_PN_306_snRNA-D11]: Syncing Folder from Synapse.\n"
     ]
    },
    {
     "name": "stderr",
     "output_type": "stream",
     "text": [
      "Downloading files:   0%|                                                                                                                                                      | 0.00/1.00 [00:03<?, ?B/s]"
     ]
    },
    {
     "name": "stdout",
     "output_type": "stream",
     "text": [
      "[syn53421640:210526_FTLD_240_snRNA-D6]: Syncing Folder from Synapse.\n"
     ]
    },
    {
     "name": "stderr",
     "output_type": "stream",
     "text": [
      "Downloading files:   0%|                                                                                                                                                      | 0.00/1.00 [00:03<?, ?B/s]"
     ]
    },
    {
     "name": "stdout",
     "output_type": "stream",
     "text": [
      "[syn53421759:210526_PN_328_snRNA-F6]: Syncing Folder from Synapse.\n"
     ]
    },
    {
     "name": "stderr",
     "output_type": "stream",
     "text": [
      "Downloading files:   0%|                                                                                                                                                      | 0.00/1.00 [00:03<?, ?B/s]"
     ]
    },
    {
     "name": "stdout",
     "output_type": "stream",
     "text": [
      "[syn53422132:counts_fil.mtx]: Copying existing file from /storage/my_disk/helical_coding_challenge/.synapsecache/590/132658590/counts_fil.mtx to /storage/my_disk/helical_coding_challenge/data/syn51105515/Processed Data/191112_ALS_128_snRNA-A7/counts_fil.mtx\n"
     ]
    },
    {
     "name": "stderr",
     "output_type": "stream",
     "text": [
      "Downloading files:   0%|                                                                                                                                                      | 0.00/1.00 [00:04<?, ?B/s]"
     ]
    },
    {
     "name": "stdout",
     "output_type": "stream",
     "text": [
      "[syn53422134:col_metadata.tsv]: Copying existing file from /storage/my_disk/helical_coding_challenge/.synapsecache/592/132658592/col_metadata.tsv to /storage/my_disk/helical_coding_challenge/data/syn51105515/Processed Data/191112_ALS_128_snRNA-A7/col_metadata.tsv\n"
     ]
    },
    {
     "name": "stderr",
     "output_type": "stream",
     "text": [
      "Downloading files:   0%|                                                                                                                                                      | 0.00/1.00 [00:04<?, ?B/s]"
     ]
    },
    {
     "name": "stdout",
     "output_type": "stream",
     "text": [
      "[syn53421778:210910_MCX_ALS_138_snRNA-C9]: Syncing Folder from Synapse.\n"
     ]
    },
    {
     "name": "stderr",
     "output_type": "stream",
     "text": [
      "Downloading files:   0%|                                                                                                                                                      | 0.00/1.00 [00:04<?, ?B/s]"
     ]
    },
    {
     "name": "stdout",
     "output_type": "stream",
     "text": [
      "[syn53421730:210910_MCX_ALS_133_snRNA-C4]: Syncing Folder from Synapse.\n"
     ]
    },
    {
     "name": "stderr",
     "output_type": "stream",
     "text": [
      "Downloading files:   0%|                                                                                                                                                      | 0.00/1.00 [00:04<?, ?B/s]"
     ]
    },
    {
     "name": "stdout",
     "output_type": "stream",
     "text": [
      "[syn53421690:201025_FTLD_232_snRNA-C5]: Syncing Folder from Synapse.\n"
     ]
    },
    {
     "name": "stderr",
     "output_type": "stream",
     "text": [
      "Downloading files:   0%|                                                                                                                                                      | 0.00/1.00 [00:04<?, ?B/s]"
     ]
    },
    {
     "name": "stdout",
     "output_type": "stream",
     "text": [
      "[syn53422368:col_metadata.tsv]: Copying existing file from /storage/my_disk/helical_coding_challenge/.synapsecache/838/132658838/col_metadata.tsv to /storage/my_disk/helical_coding_challenge/data/syn51105515/Processed Data/191112_ALS_126_snRNA-A6/col_metadata.tsv\n"
     ]
    },
    {
     "name": "stderr",
     "output_type": "stream",
     "text": [
      "Downloading files:   0%|                                                                                                                                                      | 0.00/1.00 [00:04<?, ?B/s]"
     ]
    },
    {
     "name": "stdout",
     "output_type": "stream",
     "text": [
      "[syn53421755:220616_BL6_MCX_snRNA-H11]: Syncing Folder from Synapse.\n"
     ]
    },
    {
     "name": "stderr",
     "output_type": "stream",
     "text": [
      "Downloading files:   0%|                                                                                                                                                      | 0.00/1.00 [00:04<?, ?B/s]"
     ]
    },
    {
     "name": "stdout",
     "output_type": "stream",
     "text": [
      "[syn53421653:220616_BL6_MCX_snRNA-H10]: Syncing Folder from Synapse.\n"
     ]
    },
    {
     "name": "stderr",
     "output_type": "stream",
     "text": [
      "Downloading files:   0%|                                                                                                                                                      | 0.00/1.00 [00:04<?, ?B/s]"
     ]
    },
    {
     "name": "stdout",
     "output_type": "stream",
     "text": [
      "[syn53421680:210910_PFC_ALS_132_snRNA-C11]: Syncing Folder from Synapse.\n"
     ]
    },
    {
     "name": "stderr",
     "output_type": "stream",
     "text": [
      "                                                                                                                                                                                                         "
     ]
    },
    {
     "name": "stdout",
     "output_type": "stream",
     "text": [
      "[syn53421717:210910_PFC_ALS_133_snRNA-C12]: Syncing Folder from Synapse.\n"
     ]
    },
    {
     "name": "stderr",
     "output_type": "stream",
     "text": [
      "Downloading files:   0%|                                                                                                                                                      | 0.00/1.00 [00:04<?, ?B/s]"
     ]
    },
    {
     "name": "stdout",
     "output_type": "stream",
     "text": [
      "[syn53421678:210526_PN_307_snRNA-D12]: Syncing Folder from Synapse.\n"
     ]
    },
    {
     "name": "stderr",
     "output_type": "stream",
     "text": [
      "Downloading files:   0%|                                                                                                                                                      | 0.00/1.00 [00:04<?, ?B/s]"
     ]
    },
    {
     "name": "stdout",
     "output_type": "stream",
     "text": [
      "[syn53417775:4_7_deg_res_BA9_SFTLD.xlsx]: Copying existing file from /storage/my_disk/helical_coding_challenge/.synapsecache/122/132640122/4_7_deg_res_BA9_SFTLD.xlsx to /storage/my_disk/helical_coding_challenge/data/syn51105515/Supplemental Materials/S04 - DEGs pan-neuronal/4_7_deg_res_BA9_SFTLD.xlsx\n"
     ]
    },
    {
     "name": "stderr",
     "output_type": "stream",
     "text": [
      "Downloading files:   0%|                                                                                                                                                      | 0.00/1.00 [00:04<?, ?B/s]"
     ]
    },
    {
     "name": "stdout",
     "output_type": "stream",
     "text": [
      "[syn53422383:counts_fil.mtx]: Copying existing file from /storage/my_disk/helical_coding_challenge/.synapsecache/852/132658852/counts_fil.mtx to /storage/my_disk/helical_coding_challenge/data/syn51105515/Processed Data/191112_ALS_126_snRNA-A6/counts_fil.mtx\n"
     ]
    },
    {
     "name": "stderr",
     "output_type": "stream",
     "text": [
      "Downloading files:   0%|                                                                                                                                                      | 0.00/1.00 [00:04<?, ?B/s]"
     ]
    },
    {
     "name": "stdout",
     "output_type": "stream",
     "text": [
      "[syn53421710:210910_MCX_ALS_139_snRNA-D6]: Syncing Folder from Synapse.\n"
     ]
    },
    {
     "name": "stderr",
     "output_type": "stream",
     "text": [
      "Downloading files:   0%|                                                                                                                                                      | 0.00/1.00 [00:04<?, ?B/s]"
     ]
    },
    {
     "name": "stdout",
     "output_type": "stream",
     "text": [
      "[syn53421770:210910_PFC_ALS_136_snRNA-D3]: Syncing Folder from Synapse.\n"
     ]
    },
    {
     "name": "stderr",
     "output_type": "stream",
     "text": [
      "Downloading files:   0%|                                                                                                                                                      | 0.00/1.00 [00:04<?, ?B/s]"
     ]
    },
    {
     "name": "stdout",
     "output_type": "stream",
     "text": [
      "[syn53417803:6_1_deg_res_BA4_SALS.xlsx]: Copying existing file from /storage/my_disk/helical_coding_challenge/.synapsecache/148/132640148/6_1_deg_res_BA4_SALS.xlsx to /storage/my_disk/helical_coding_challenge/data/syn51105515/Supplemental Materials/S06 - DEGs cell type-specific/6_1_deg_res_BA4_SALS.xlsx\n"
     ]
    },
    {
     "name": "stderr",
     "output_type": "stream",
     "text": [
      "Downloading files:   0%|                                                                                                                                                      | 0.00/1.00 [00:04<?, ?B/s]"
     ]
    },
    {
     "name": "stdout",
     "output_type": "stream",
     "text": [
      "[syn53417791:5_7_deg_pathway_BA9_SFTLD.xlsx]: Copying existing file from /storage/my_disk/helical_coding_challenge/.synapsecache/137/132640137/5_7_deg_pathway_BA9_SFTLD.xlsx to /storage/my_disk/helical_coding_challenge/data/syn51105515/Supplemental Materials/S05 - Pathway enrichments pan-neuronal/5_7_deg_pathway_BA9_SFTLD.xlsx\n"
     ]
    },
    {
     "name": "stderr",
     "output_type": "stream",
     "text": [
      "Downloading files:   0%|                                                                                                                                                      | 0.00/1.00 [00:04<?, ?B/s]"
     ]
    },
    {
     "name": "stdout",
     "output_type": "stream",
     "text": [
      "[syn53421784:210526_PN_303_snRNA-D9]: Syncing Folder from Synapse.\n"
     ]
    },
    {
     "name": "stderr",
     "output_type": "stream",
     "text": [
      "Downloading files:   0%|                                                                                                                                                      | 0.00/1.00 [00:04<?, ?B/s]"
     ]
    },
    {
     "name": "stdout",
     "output_type": "stream",
     "text": [
      "[syn53421704:210526_ALS_103_snRNA-H7]: Syncing Folder from Synapse.\n"
     ]
    },
    {
     "name": "stderr",
     "output_type": "stream",
     "text": [
      "Downloading files:   0%|                                                                                                                                                      | 0.00/1.00 [00:05<?, ?B/s]"
     ]
    },
    {
     "name": "stdout",
     "output_type": "stream",
     "text": [
      "[syn53417788:5_4_deg_pathway_BA4_C9FTLD.xlsx]: Copying existing file from /storage/my_disk/helical_coding_challenge/.synapsecache/134/132640134/5_4_deg_pathway_BA4_C9FTLD.xlsx to /storage/my_disk/helical_coding_challenge/data/syn51105515/Supplemental Materials/S05 - Pathway enrichments pan-neuronal/5_4_deg_pathway_BA4_C9FTLD.xlsx\n"
     ]
    },
    {
     "name": "stderr",
     "output_type": "stream",
     "text": [
      "Downloading files:   0%|                                                                                                                                                      | 0.00/1.00 [00:05<?, ?B/s]"
     ]
    },
    {
     "name": "stdout",
     "output_type": "stream",
     "text": [
      "[syn53417864:10_6_txd_assoc_pty_BA9_C9ALS.xlsx]: Copying existing file from /storage/my_disk/helical_coding_challenge/.synapsecache/208/132640208/10_6_txd_assoc_pty_BA9_C9ALS.xlsx to /storage/my_disk/helical_coding_challenge/data/syn51105515/Supplemental Materials/S10 - TxD-associated pathway enrichments/10_6_txd_assoc_pty_BA9_C9ALS.xlsx\n"
     ]
    },
    {
     "name": "stderr",
     "output_type": "stream",
     "text": [
      "Downloading files:   0%|                                                                                                                                                      | 0.00/1.00 [00:05<?, ?B/s]"
     ]
    },
    {
     "name": "stdout",
     "output_type": "stream",
     "text": [
      "[syn53417822:7_3_deg_pathway_BA4_SFTLD.xlsx]: Copying existing file from /storage/my_disk/helical_coding_challenge/.synapsecache/168/132640168/7_3_deg_pathway_BA4_SFTLD.xlsx to /storage/my_disk/helical_coding_challenge/data/syn51105515/Supplemental Materials/S07 - Pathway enrichments by cell type/7_3_deg_pathway_BA4_SFTLD.xlsx\n"
     ]
    },
    {
     "name": "stderr",
     "output_type": "stream",
     "text": [
      "Downloading files:   0%|                                                                                                                                                      | 0.00/1.00 [00:05<?, ?B/s]"
     ]
    },
    {
     "name": "stdout",
     "output_type": "stream",
     "text": [
      "[syn53421641:220616_BL6_MCX_snRNA-H12]: Syncing Folder from Synapse.\n"
     ]
    },
    {
     "name": "stderr",
     "output_type": "stream",
     "text": [
      "Downloading files:   0%|                                                                                                                                                      | 0.00/1.00 [00:05<?, ?B/s]"
     ]
    },
    {
     "name": "stdout",
     "output_type": "stream",
     "text": [
      "[syn53422139:counts_fil.mtx]: Copying existing file from /storage/my_disk/helical_coding_challenge/.synapsecache/596/132658596/counts_fil.mtx to /storage/my_disk/helical_coding_challenge/data/syn51105515/Processed Data/210526_PN_302_snRNA-D8/counts_fil.mtx\n"
     ]
    },
    {
     "name": "stderr",
     "output_type": "stream",
     "text": [
      "Downloading files:   0%|                                                                                                                                                      | 0.00/1.00 [00:05<?, ?B/s]"
     ]
    },
    {
     "name": "stdout",
     "output_type": "stream",
     "text": [
      "[syn53421685:191114_PN_309_snRNA-F1]: Syncing Folder from Synapse.\n"
     ]
    },
    {
     "name": "stderr",
     "output_type": "stream",
     "text": [
      "Downloading files:   0%|                                                                                                                                                      | 0.00/1.00 [00:05<?, ?B/s]"
     ]
    },
    {
     "name": "stdout",
     "output_type": "stream",
     "text": [
      "[syn53422242:row_metadata.tsv]: Copying existing file from /storage/my_disk/helical_coding_challenge/.synapsecache/423/132658423/row_metadata.tsv to /storage/my_disk/helical_coding_challenge/data/syn51105515/Processed Data/210526_ALS_114_snRNA-A4/row_metadata.tsv\n"
     ]
    },
    {
     "name": "stderr",
     "output_type": "stream",
     "text": [
      "Downloading files:   0%|                                                                                                                                                      | 0.00/1.00 [00:05<?, ?B/s]"
     ]
    },
    {
     "name": "stdout",
     "output_type": "stream",
     "text": [
      "[syn53422108:row_metadata.tsv]: Copying existing file from /storage/my_disk/helical_coding_challenge/.synapsecache/423/132658423/row_metadata.tsv to /storage/my_disk/helical_coding_challenge/data/syn51105515/Processed Data/191112_ALS_128_snRNA-A7/row_metadata.tsv\n"
     ]
    },
    {
     "name": "stderr",
     "output_type": "stream",
     "text": [
      "Downloading files:   0%|                                                                                                                                                      | 0.00/1.00 [00:05<?, ?B/s]"
     ]
    },
    {
     "name": "stdout",
     "output_type": "stream",
     "text": [
      "[syn53421676:201025_FTLD_234_snRNA-C6]: Syncing Folder from Synapse.\n"
     ]
    },
    {
     "name": "stderr",
     "output_type": "stream",
     "text": [
      "Downloading files:   0%|                                                                                                                                                      | 0.00/1.00 [00:05<?, ?B/s]"
     ]
    },
    {
     "name": "stdout",
     "output_type": "stream",
     "text": [
      "[syn53422261:row_metadata.tsv]: Copying existing file from /storage/my_disk/helical_coding_challenge/.synapsecache/423/132658423/row_metadata.tsv to /storage/my_disk/helical_coding_challenge/data/syn51105515/Processed Data/210910_PFC_ALS_138_snRNA-D5/row_metadata.tsv\n"
     ]
    },
    {
     "name": "stderr",
     "output_type": "stream",
     "text": [
      "Downloading files:   0%|                                                                                                                                                      | 0.00/1.00 [00:05<?, ?B/s]"
     ]
    },
    {
     "name": "stdout",
     "output_type": "stream",
     "text": [
      "[syn53421773:210526_ALS_106_snRNA-H9]: Syncing Folder from Synapse.\n"
     ]
    },
    {
     "name": "stderr",
     "output_type": "stream",
     "text": [
      "Downloading files:   0%|                                                                                                                                                      | 0.00/1.00 [00:05<?, ?B/s]"
     ]
    },
    {
     "name": "stdout",
     "output_type": "stream",
     "text": [
      "[syn53422276:col_metadata.tsv]: Copying existing file from /storage/my_disk/helical_coding_challenge/.synapsecache/740/132658740/col_metadata.tsv to /storage/my_disk/helical_coding_challenge/data/syn51105515/Processed Data/210910_PFC_ALS_138_snRNA-D5/col_metadata.tsv\n"
     ]
    },
    {
     "name": "stderr",
     "output_type": "stream",
     "text": [
      "Downloading files:   0%|                                                                                                                                                      | 0.00/1.00 [00:05<?, ?B/s]"
     ]
    },
    {
     "name": "stdout",
     "output_type": "stream",
     "text": [
      "[syn53421774:191114_PN_323_snRNA-F6]: Syncing Folder from Synapse.\n"
     ]
    },
    {
     "name": "stderr",
     "output_type": "stream",
     "text": [
      "Downloading files:   0%|                                                                                                                                                      | 0.00/1.00 [00:05<?, ?B/s]"
     ]
    },
    {
     "name": "stdout",
     "output_type": "stream",
     "text": [
      "[syn53421681:191113_FTLD_225_snRNA-H5]: Syncing Folder from Synapse.\n"
     ]
    },
    {
     "name": "stderr",
     "output_type": "stream",
     "text": [
      "Downloading files:   0%|                                                                                                                                                      | 0.00/1.00 [00:05<?, ?B/s]"
     ]
    },
    {
     "name": "stdout",
     "output_type": "stream",
     "text": [
      "[syn53421723:191114_PN_324_snRNA-F7]: Syncing Folder from Synapse.\n"
     ]
    },
    {
     "name": "stderr",
     "output_type": "stream",
     "text": [
      "Downloading files:   0%|                                                                                                                                                      | 0.00/1.00 [00:05<?, ?B/s]"
     ]
    },
    {
     "name": "stdout",
     "output_type": "stream",
     "text": [
      "[syn53417772:4_5_deg_res_BA9_SALS.xlsx]: Copying existing file from /storage/my_disk/helical_coding_challenge/.synapsecache/120/132640120/4_5_deg_res_BA9_SALS.xlsx to /storage/my_disk/helical_coding_challenge/data/syn51105515/Supplemental Materials/S04 - DEGs pan-neuronal/4_5_deg_res_BA9_SALS.xlsx\n"
     ]
    },
    {
     "name": "stderr",
     "output_type": "stream",
     "text": [
      "Downloading files:   0%|                                                                                                                                                      | 0.00/1.00 [00:05<?, ?B/s]"
     ]
    },
    {
     "name": "stdout",
     "output_type": "stream",
     "text": [
      "[syn53421787:200721_FTLD_206_snRNA-A10]: Syncing Folder from Synapse.\n"
     ]
    },
    {
     "name": "stderr",
     "output_type": "stream",
     "text": [
      "Downloading files:   0%|                                                                                                                                                      | 0.00/1.00 [00:05<?, ?B/s]"
     ]
    },
    {
     "name": "stdout",
     "output_type": "stream",
     "text": [
      "[syn53421724:210526_PN_323_snRNA-B7]: Syncing Folder from Synapse.\n"
     ]
    },
    {
     "name": "stderr",
     "output_type": "stream",
     "text": [
      "Downloading files:   0%|                                                                                                                                                      | 0.00/1.00 [00:05<?, ?B/s]"
     ]
    },
    {
     "name": "stdout",
     "output_type": "stream",
     "text": [
      "[syn53421760:191113_FTLD_228_snRNA-E5]: Syncing Folder from Synapse.\n"
     ]
    },
    {
     "name": "stderr",
     "output_type": "stream",
     "text": [
      "Downloading files:   0%|                                                                                                                                                      | 0.00/1.00 [00:05<?, ?B/s]"
     ]
    },
    {
     "name": "stdout",
     "output_type": "stream",
     "text": [
      "[syn53421757:210910_PFC_ALS_139_snRNA-D8]: Syncing Folder from Synapse.\n"
     ]
    },
    {
     "name": "stderr",
     "output_type": "stream",
     "text": [
      "Downloading files:   0%|                                                                                                                                                      | 0.00/1.00 [00:05<?, ?B/s]"
     ]
    },
    {
     "name": "stdout",
     "output_type": "stream",
     "text": [
      "[syn53421738:191113_FTLD_218_snRNA-H4]: Syncing Folder from Synapse.\n"
     ]
    },
    {
     "name": "stderr",
     "output_type": "stream",
     "text": [
      "Downloading files:   0%|                                                                                                                                                      | 0.00/1.00 [00:05<?, ?B/s]"
     ]
    },
    {
     "name": "stdout",
     "output_type": "stream",
     "text": [
      "[syn53417821:7_2_deg_pathway_BA4_C9ALS.xlsx]: Copying existing file from /storage/my_disk/helical_coding_challenge/.synapsecache/167/132640167/7_2_deg_pathway_BA4_C9ALS.xlsx to /storage/my_disk/helical_coding_challenge/data/syn51105515/Supplemental Materials/S07 - Pathway enrichments by cell type/7_2_deg_pathway_BA4_C9ALS.xlsx\n"
     ]
    },
    {
     "name": "stderr",
     "output_type": "stream",
     "text": [
      "Downloading files:   0%|                                                                                                                                                      | 0.00/1.00 [00:05<?, ?B/s]"
     ]
    },
    {
     "name": "stdout",
     "output_type": "stream",
     "text": [
      "[syn53417838:8_2_deg_chea_BA4_C9ALS.xlsx]: Copying existing file from /storage/my_disk/helical_coding_challenge/.synapsecache/183/132640183/8_2_deg_chea_BA4_C9ALS.xlsx to /storage/my_disk/helical_coding_challenge/data/syn51105515/Supplemental Materials/S08 - DEG regulators by cell type/8_2_deg_chea_BA4_C9ALS.xlsx\n"
     ]
    },
    {
     "name": "stderr",
     "output_type": "stream",
     "text": [
      "Downloading files:   0%|                                                                                                                                                      | 0.00/1.00 [00:05<?, ?B/s]"
     ]
    },
    {
     "name": "stdout",
     "output_type": "stream",
     "text": [
      "[syn53421644:210910_PFC_ALS_135_snRNA-D2]: Syncing Folder from Synapse.\n"
     ]
    },
    {
     "name": "stderr",
     "output_type": "stream",
     "text": [
      "                                                                                                                                                                                                         "
     ]
    },
    {
     "name": "stdout",
     "output_type": "stream",
     "text": [
      "[syn53421656:210910_PFC_ALS_140_snRNA-D9]: Syncing Folder from Synapse.\n"
     ]
    },
    {
     "name": "stderr",
     "output_type": "stream",
     "text": [
      "Downloading files:   0%|                                                                                                                                                      | 0.00/1.00 [00:06<?, ?B/s]"
     ]
    },
    {
     "name": "stdout",
     "output_type": "stream",
     "text": [
      "[syn53417787:5_3_deg_pathway_BA4_SFTLD.xlsx]: Copying existing file from /storage/my_disk/helical_coding_challenge/.synapsecache/133/132640133/5_3_deg_pathway_BA4_SFTLD.xlsx to /storage/my_disk/helical_coding_challenge/data/syn51105515/Supplemental Materials/S05 - Pathway enrichments pan-neuronal/5_3_deg_pathway_BA4_SFTLD.xlsx\n"
     ]
    },
    {
     "name": "stderr",
     "output_type": "stream",
     "text": [
      "Downloading files:   0%|                                                                                                                                                      | 0.00/1.00 [00:06<?, ?B/s]"
     ]
    },
    {
     "name": "stdout",
     "output_type": "stream",
     "text": [
      "[syn53417828:7_7_deg_pathway_BA9_SFTLD.xlsx]: Copying existing file from /storage/my_disk/helical_coding_challenge/.synapsecache/174/132640174/7_7_deg_pathway_BA9_SFTLD.xlsx to /storage/my_disk/helical_coding_challenge/data/syn51105515/Supplemental Materials/S07 - Pathway enrichments by cell type/7_7_deg_pathway_BA9_SFTLD.xlsx\n"
     ]
    },
    {
     "name": "stderr",
     "output_type": "stream",
     "text": [
      "Downloading files:   0%|                                                                                                                                                      | 0.00/1.00 [00:06<?, ?B/s]"
     ]
    },
    {
     "name": "stdout",
     "output_type": "stream",
     "text": [
      "[syn53421745:191113_FTLD_209_snRNA-D6]: Syncing Folder from Synapse.\n"
     ]
    },
    {
     "name": "stderr",
     "output_type": "stream",
     "text": [
      "Downloading files:   0%|                                                                                                                                                      | 0.00/1.00 [00:06<?, ?B/s]"
     ]
    },
    {
     "name": "stdout",
     "output_type": "stream",
     "text": [
      "[syn53417825:7_4_deg_pathway_BA4_C9FTLD.xlsx]: Copying existing file from /storage/my_disk/helical_coding_challenge/.synapsecache/171/132640171/7_4_deg_pathway_BA4_C9FTLD.xlsx to /storage/my_disk/helical_coding_challenge/data/syn51105515/Supplemental Materials/S07 - Pathway enrichments by cell type/7_4_deg_pathway_BA4_C9FTLD.xlsx\n"
     ]
    },
    {
     "name": "stderr",
     "output_type": "stream",
     "text": [
      "Downloading files:   0%|                                                                                                                                                      | 0.00/1.00 [00:06<?, ?B/s]"
     ]
    },
    {
     "name": "stdout",
     "output_type": "stream",
     "text": [
      "[syn53421747:191114_PN_328_snRNA-F9]: Syncing Folder from Synapse.\n"
     ]
    },
    {
     "name": "stderr",
     "output_type": "stream",
     "text": [
      "Downloading files:   0%|                                                                                                                                                      | 0.00/1.00 [00:06<?, ?B/s]"
     ]
    },
    {
     "name": "stdout",
     "output_type": "stream",
     "text": [
      "[syn53421709:191113_FTLD_204_snRNA-D4]: Syncing Folder from Synapse.\n"
     ]
    },
    {
     "name": "stderr",
     "output_type": "stream",
     "text": [
      "Downloading files:   0%|                                                                                                                                                      | 0.00/1.00 [00:06<?, ?B/s]"
     ]
    },
    {
     "name": "stdout",
     "output_type": "stream",
     "text": [
      "[syn53422168:col_metadata.tsv]: Copying existing file from /storage/my_disk/helical_coding_challenge/.synapsecache/629/132658629/col_metadata.tsv to /storage/my_disk/helical_coding_challenge/data/syn51105515/Processed Data/210526_PN_304_snRNA-D10/col_metadata.tsv\n"
     ]
    },
    {
     "name": "stderr",
     "output_type": "stream",
     "text": [
      "Downloading files:   0%|                                                                                                                                                      | 0.00/1.00 [00:06<?, ?B/s]"
     ]
    },
    {
     "name": "stdout",
     "output_type": "stream",
     "text": [
      "[syn53421708:201025_FTLD_237_snRNA-C9]: Syncing Folder from Synapse.\n"
     ]
    },
    {
     "name": "stderr",
     "output_type": "stream",
     "text": [
      "Downloading files:   0%|                                                                                                                                                      | 0.00/1.00 [00:06<?, ?B/s]"
     ]
    },
    {
     "name": "stdout",
     "output_type": "stream",
     "text": [
      "[syn53417804:6_2_deg_res_BA4_C9ALS.xlsx]: Copying existing file from /storage/my_disk/helical_coding_challenge/.synapsecache/149/132640149/6_2_deg_res_BA4_C9ALS.xlsx to /storage/my_disk/helical_coding_challenge/data/syn51105515/Supplemental Materials/S06 - DEGs cell type-specific/6_2_deg_res_BA4_C9ALS.xlsx\n"
     ]
    },
    {
     "name": "stderr",
     "output_type": "stream",
     "text": [
      "Downloading files:   0%|                                                                                                                                                      | 0.00/1.00 [00:06<?, ?B/s]"
     ]
    },
    {
     "name": "stdout",
     "output_type": "stream",
     "text": [
      "[syn53417820:7_1_deg_pathway_BA4_SALS.xlsx]: Copying existing file from /storage/my_disk/helical_coding_challenge/.synapsecache/166/132640166/7_1_deg_pathway_BA4_SALS.xlsx to /storage/my_disk/helical_coding_challenge/data/syn51105515/Supplemental Materials/S07 - Pathway enrichments by cell type/7_1_deg_pathway_BA4_SALS.xlsx\n"
     ]
    },
    {
     "name": "stderr",
     "output_type": "stream",
     "text": [
      "Downloading files:   0%|                                                                                                                                                      | 0.00/1.00 [00:06<?, ?B/s]"
     ]
    },
    {
     "name": "stdout",
     "output_type": "stream",
     "text": [
      "[syn53421719:210910_MCX_ALS_137_snRNA-C8]: Syncing Folder from Synapse.\n"
     ]
    },
    {
     "name": "stderr",
     "output_type": "stream",
     "text": [
      "Downloading files:   0%|                                                                                                                                                      | 0.00/1.00 [00:06<?, ?B/s]"
     ]
    },
    {
     "name": "stdout",
     "output_type": "stream",
     "text": [
      "[syn53421649:210526_FTLD_222_snRNA-C4]: Syncing Folder from Synapse.\n"
     ]
    },
    {
     "name": "stderr",
     "output_type": "stream",
     "text": [
      "Downloading files:   0%|                                                                                                                                                      | 0.00/1.00 [00:06<?, ?B/s]"
     ]
    },
    {
     "name": "stdout",
     "output_type": "stream",
     "text": [
      "[syn53421766:210526_FTLD_214_snRNA-B12]: Syncing Folder from Synapse.\n"
     ]
    },
    {
     "name": "stderr",
     "output_type": "stream",
     "text": [
      "Downloading files:   0%|                                                                                                                                                      | 0.00/1.00 [00:06<?, ?B/s]"
     ]
    },
    {
     "name": "stdout",
     "output_type": "stream",
     "text": [
      "[syn53417841:8_5_deg_chea_BA9_SALS.xlsx]: Copying existing file from /storage/my_disk/helical_coding_challenge/.synapsecache/186/132640186/8_5_deg_chea_BA9_SALS.xlsx to /storage/my_disk/helical_coding_challenge/data/syn51105515/Supplemental Materials/S08 - DEG regulators by cell type/8_5_deg_chea_BA9_SALS.xlsx\n"
     ]
    },
    {
     "name": "stderr",
     "output_type": "stream",
     "text": [
      "Downloading files:   0%|                                                                                                                                                      | 0.00/1.00 [00:06<?, ?B/s]"
     ]
    },
    {
     "name": "stdout",
     "output_type": "stream",
     "text": [
      "[syn53421785:201019_ALS_101_snRNA-B1]: Syncing Folder from Synapse.\n"
     ]
    },
    {
     "name": "stderr",
     "output_type": "stream",
     "text": [
      "Downloading files:   0%|                                                                                                                                                      | 0.00/1.00 [00:06<?, ?B/s]"
     ]
    },
    {
     "name": "stdout",
     "output_type": "stream",
     "text": [
      "[syn53421736:201019_ALS_102_snRNA-B2]: Syncing Folder from Synapse.\n"
     ]
    },
    {
     "name": "stderr",
     "output_type": "stream",
     "text": [
      "Downloading files:   0%|                                                                                                                                                      | 0.00/1.00 [00:06<?, ?B/s]"
     ]
    },
    {
     "name": "stdout",
     "output_type": "stream",
     "text": [
      "[syn53421663:210526_FTLD_228_snRNA-C8]: Syncing Folder from Synapse.\n"
     ]
    },
    {
     "name": "stderr",
     "output_type": "stream",
     "text": [
      "Downloading files:   0%|                                                                                                                                                      | 0.00/1.00 [00:06<?, ?B/s]"
     ]
    },
    {
     "name": "stdout",
     "output_type": "stream",
     "text": [
      "[syn53421695:191114_PN_303_snRNA-E8]: Syncing Folder from Synapse.\n"
     ]
    },
    {
     "name": "stderr",
     "output_type": "stream",
     "text": [
      "Downloading files:   0%|                                                                                                                                                      | 0.00/1.00 [00:06<?, ?B/s]"
     ]
    },
    {
     "name": "stdout",
     "output_type": "stream",
     "text": [
      "[syn53422122:col_metadata.tsv]: Copying existing file from /storage/my_disk/helical_coding_challenge/.synapsecache/580/132658580/col_metadata.tsv to /storage/my_disk/helical_coding_challenge/data/syn51105515/Processed Data/210526_PN_302_snRNA-D8/col_metadata.tsv\n"
     ]
    },
    {
     "name": "stderr",
     "output_type": "stream",
     "text": [
      "Downloading files:   0%|                                                                                                                                                      | 0.00/1.00 [00:06<?, ?B/s]"
     ]
    },
    {
     "name": "stdout",
     "output_type": "stream",
     "text": [
      "[syn53421733:220616_BL6_MCX_snRNA-A2]: Syncing Folder from Synapse.\n"
     ]
    },
    {
     "name": "stderr",
     "output_type": "stream",
     "text": [
      "Downloading files:   0%|                                                                                                                                                      | 0.00/1.00 [00:06<?, ?B/s]"
     ]
    },
    {
     "name": "stdout",
     "output_type": "stream",
     "text": [
      "[syn53421749:210526_FTLD_235_snRNA-D1]: Syncing Folder from Synapse.\n"
     ]
    },
    {
     "name": "stderr",
     "output_type": "stream",
     "text": [
      "Downloading files:   0%|                                                                                                                                                      | 0.00/1.00 [00:06<?, ?B/s]"
     ]
    },
    {
     "name": "stdout",
     "output_type": "stream",
     "text": [
      "[syn53417836:8_1_deg_chea_BA4_SALS.xlsx]: Copying existing file from /storage/my_disk/helical_coding_challenge/.synapsecache/182/132640182/8_1_deg_chea_BA4_SALS.xlsx to /storage/my_disk/helical_coding_challenge/data/syn51105515/Supplemental Materials/S08 - DEG regulators by cell type/8_1_deg_chea_BA4_SALS.xlsx\n"
     ]
    },
    {
     "name": "stderr",
     "output_type": "stream",
     "text": [
      "Downloading files:   0%|                                                                                                                                                      | 0.00/1.00 [00:06<?, ?B/s]"
     ]
    },
    {
     "name": "stdout",
     "output_type": "stream",
     "text": [
      "[syn53417790:5_6_deg_pathway_BA9_C9ALS.xlsx]: Copying existing file from /storage/my_disk/helical_coding_challenge/.synapsecache/136/132640136/5_6_deg_pathway_BA9_C9ALS.xlsx to /storage/my_disk/helical_coding_challenge/data/syn51105515/Supplemental Materials/S05 - Pathway enrichments pan-neuronal/5_6_deg_pathway_BA9_C9ALS.xlsx\n"
     ]
    },
    {
     "name": "stderr",
     "output_type": "stream",
     "text": [
      "Downloading files:   0%|                                                                                                                                                      | 0.00/1.00 [00:06<?, ?B/s]"
     ]
    },
    {
     "name": "stdout",
     "output_type": "stream",
     "text": [
      "[syn53421658:210526_FTLD_209_snRNA-B9]: Syncing Folder from Synapse.\n"
     ]
    },
    {
     "name": "stderr",
     "output_type": "stream",
     "text": [
      "Downloading files:   0%|                                                                                                                                                      | 0.00/1.00 [00:06<?, ?B/s]"
     ]
    },
    {
     "name": "stdout",
     "output_type": "stream",
     "text": [
      "[syn53421711:210526_ALS_120_snRNA-A9]: Syncing Folder from Synapse.\n"
     ]
    },
    {
     "name": "stderr",
     "output_type": "stream",
     "text": [
      "Downloading files:   0%|                                                                                                                                                      | 0.00/1.00 [00:06<?, ?B/s]"
     ]
    },
    {
     "name": "stdout",
     "output_type": "stream",
     "text": [
      "[syn53421684:210526_ALS_128_snRNA-F7]: Syncing Folder from Synapse.\n"
     ]
    },
    {
     "name": "stderr",
     "output_type": "stream",
     "text": [
      "Downloading files:   0%|                                                                                                                                                      | 0.00/1.00 [00:06<?, ?B/s]"
     ]
    },
    {
     "name": "stdout",
     "output_type": "stream",
     "text": [
      "[syn53421716:201019_ALS_106_snRNA-B5]: Syncing Folder from Synapse.\n"
     ]
    },
    {
     "name": "stderr",
     "output_type": "stream",
     "text": [
      "Downloading files:   0%|                                                                                                                                                      | 0.00/1.00 [00:06<?, ?B/s]"
     ]
    },
    {
     "name": "stdout",
     "output_type": "stream",
     "text": [
      "[syn53421670:210910_PFC_ALS_137_snRNA-D4]: Syncing Folder from Synapse.\n"
     ]
    },
    {
     "name": "stderr",
     "output_type": "stream",
     "text": [
      "Downloading files:   0%|                                                                                                                                                      | 0.00/1.00 [00:06<?, ?B/s]"
     ]
    },
    {
     "name": "stdout",
     "output_type": "stream",
     "text": [
      "[syn53421756:191114_PN_304_snRNA-E9]: Syncing Folder from Synapse.\n"
     ]
    },
    {
     "name": "stderr",
     "output_type": "stream",
     "text": [
      "Downloading files:   0%|                                                                                                                                                      | 0.00/1.00 [00:06<?, ?B/s]"
     ]
    },
    {
     "name": "stdout",
     "output_type": "stream",
     "text": [
      "[syn53421700:191114_PN_322_snRNA-F5]: Syncing Folder from Synapse.\n"
     ]
    },
    {
     "name": "stderr",
     "output_type": "stream",
     "text": [
      "Downloading files:   0%|                                                                                                                                                      | 0.00/1.00 [00:06<?, ?B/s]"
     ]
    },
    {
     "name": "stdout",
     "output_type": "stream",
     "text": [
      "[syn53417812:6_8_deg_res_BA9_C9FTLD.xlsx]: Copying existing file from /storage/my_disk/helical_coding_challenge/.synapsecache/159/132640159/6_8_deg_res_BA9_C9FTLD.xlsx to /storage/my_disk/helical_coding_challenge/data/syn51105515/Supplemental Materials/S06 - DEGs cell type-specific/6_8_deg_res_BA9_C9FTLD.xlsx\n"
     ]
    },
    {
     "name": "stderr",
     "output_type": "stream",
     "text": [
      "Downloading files:   0%|                                                                                                                                                      | 0.00/1.00 [00:06<?, ?B/s]"
     ]
    },
    {
     "name": "stdout",
     "output_type": "stream",
     "text": [
      "[syn53417827:7_6_deg_pathway_BA9_C9ALS.xlsx]: Copying existing file from /storage/my_disk/helical_coding_challenge/.synapsecache/173/132640173/7_6_deg_pathway_BA9_C9ALS.xlsx to /storage/my_disk/helical_coding_challenge/data/syn51105515/Supplemental Materials/S07 - Pathway enrichments by cell type/7_6_deg_pathway_BA9_C9ALS.xlsx\n"
     ]
    },
    {
     "name": "stderr",
     "output_type": "stream",
     "text": [
      "Downloading files:   0%|                                                                                                                                                      | 0.00/1.00 [00:06<?, ?B/s]"
     ]
    },
    {
     "name": "stdout",
     "output_type": "stream",
     "text": [
      "[syn53421666:210526_FTLD_217_snRNA-C2]: Syncing Folder from Synapse.\n"
     ]
    },
    {
     "name": "stderr",
     "output_type": "stream",
     "text": [
      "Downloading files:   0%|                                                                                                                                                      | 0.00/1.00 [00:06<?, ?B/s]"
     ]
    },
    {
     "name": "stdout",
     "output_type": "stream",
     "text": [
      "[syn53421744:210526_PN_301_snRNA-D7]: Syncing Folder from Synapse.\n"
     ]
    },
    {
     "name": "stderr",
     "output_type": "stream",
     "text": [
      "Downloading files:   0%|                                                                                                                                                      | 0.00/1.00 [00:06<?, ?B/s]"
     ]
    },
    {
     "name": "stdout",
     "output_type": "stream",
     "text": [
      "[syn53421712:210526_PN_309_snRNA-E2]: Syncing Folder from Synapse.\n"
     ]
    },
    {
     "name": "stderr",
     "output_type": "stream",
     "text": [
      "Downloading files:   0%|                                                                                                                                                      | 0.00/1.00 [00:07<?, ?B/s]"
     ]
    },
    {
     "name": "stdout",
     "output_type": "stream",
     "text": [
      "[syn53421995:counts_fil.mtx]: Copying existing file from /storage/my_disk/helical_coding_challenge/.synapsecache/445/132658445/counts_fil.mtx to /storage/my_disk/helical_coding_challenge/data/syn51105515/Processed Data/210526_ALS_113_snRNA-A3/counts_fil.mtx\n"
     ]
    },
    {
     "name": "stderr",
     "output_type": "stream",
     "text": [
      "Downloading files:   0%|                                                                                                                                                      | 0.00/1.00 [00:07<?, ?B/s]"
     ]
    },
    {
     "name": "stdout",
     "output_type": "stream",
     "text": [
      "[syn53422355:row_metadata.tsv]: Copying existing file from /storage/my_disk/helical_coding_challenge/.synapsecache/423/132658423/row_metadata.tsv to /storage/my_disk/helical_coding_challenge/data/syn51105515/Processed Data/191112_ALS_126_snRNA-A6/row_metadata.tsv\n"
     ]
    },
    {
     "name": "stderr",
     "output_type": "stream",
     "text": [
      "Downloading files:   0%|                                                                                                                                                      | 0.00/1.00 [00:07<?, ?B/s]"
     ]
    },
    {
     "name": "stdout",
     "output_type": "stream",
     "text": [
      "[syn53417840:8_4_deg_chea_BA4_C9FTLD.xlsx]: Copying existing file from /storage/my_disk/helical_coding_challenge/.synapsecache/185/132640185/8_4_deg_chea_BA4_C9FTLD.xlsx to /storage/my_disk/helical_coding_challenge/data/syn51105515/Supplemental Materials/S08 - DEG regulators by cell type/8_4_deg_chea_BA4_C9FTLD.xlsx\n"
     ]
    },
    {
     "name": "stderr",
     "output_type": "stream",
     "text": [
      "Downloading files:   0%|                                                                                                                                                      | 0.00/1.00 [00:07<?, ?B/s]"
     ]
    },
    {
     "name": "stdout",
     "output_type": "stream",
     "text": [
      "[syn53421722:210526_FTLD_216_snRNA-C1]: Syncing Folder from Synapse.\n"
     ]
    },
    {
     "name": "stderr",
     "output_type": "stream",
     "text": [
      "Downloading files:   0%|                                                                                                                                                      | 0.00/1.00 [00:07<?, ?B/s]"
     ]
    },
    {
     "name": "stdout",
     "output_type": "stream",
     "text": [
      "[syn53421699:191114_PN_306_snRNA-E10]: Syncing Folder from Synapse.\n"
     ]
    },
    {
     "name": "stderr",
     "output_type": "stream",
     "text": [
      "Downloading files:   0%|                                                                                                                                                      | 0.00/1.00 [00:07<?, ?B/s]"
     ]
    },
    {
     "name": "stdout",
     "output_type": "stream",
     "text": [
      "[syn53421659:191113_FTLD_222_snRNA-E1]: Syncing Folder from Synapse.\n"
     ]
    },
    {
     "name": "stderr",
     "output_type": "stream",
     "text": [
      "Downloading files:   0%|                                                                                                                                                      | 0.00/1.00 [00:07<?, ?B/s]"
     ]
    },
    {
     "name": "stdout",
     "output_type": "stream",
     "text": [
      "[syn53421696:210910_PFC_ALS_134_snRNA-D1]: Syncing Folder from Synapse.\n"
     ]
    },
    {
     "name": "stderr",
     "output_type": "stream",
     "text": [
      "Downloading files:   0%|                                                                                                                                                      | 0.00/1.00 [00:07<?, ?B/s]"
     ]
    },
    {
     "name": "stdout",
     "output_type": "stream",
     "text": [
      "[syn53421655:191113_FTLD_207_snRNA-D5]: Syncing Folder from Synapse.\n"
     ]
    },
    {
     "name": "stderr",
     "output_type": "stream",
     "text": [
      "Downloading files:   0%|                                                                                                                                                      | 0.00/1.00 [00:07<?, ?B/s]"
     ]
    },
    {
     "name": "stdout",
     "output_type": "stream",
     "text": [
      "[syn53422340:col_metadata.tsv]: Copying existing file from /storage/my_disk/helical_coding_challenge/.synapsecache/807/132658807/col_metadata.tsv to /storage/my_disk/helical_coding_challenge/data/syn51105515/Processed Data/210526_FTLD_239_snRNA-D5/col_metadata.tsv\n"
     ]
    },
    {
     "name": "stderr",
     "output_type": "stream",
     "text": [
      "Downloading files:   0%|                                                                                                                                                      | 0.00/1.00 [00:07<?, ?B/s]"
     ]
    },
    {
     "name": "stdout",
     "output_type": "stream",
     "text": [
      "[syn53421646:210526_ALS_111_snRNA-A1]: Syncing Folder from Synapse.\n"
     ]
    },
    {
     "name": "stderr",
     "output_type": "stream",
     "text": [
      "Downloading files:   0%|                                                                                                                                                      | 0.00/1.00 [00:07<?, ?B/s]"
     ]
    },
    {
     "name": "stdout",
     "output_type": "stream",
     "text": [
      "[syn53417771:4_4_deg_res_BA4_C9FTLD.xlsx]: Copying existing file from /storage/my_disk/helical_coding_challenge/.synapsecache/118/132640118/4_4_deg_res_BA4_C9FTLD.xlsx to /storage/my_disk/helical_coding_challenge/data/syn51105515/Supplemental Materials/S04 - DEGs pan-neuronal/4_4_deg_res_BA4_C9FTLD.xlsx\n"
     ]
    },
    {
     "name": "stderr",
     "output_type": "stream",
     "text": [
      "Downloading files:   0%|                                                                                                                                                      | 0.00/1.00 [00:07<?, ?B/s]"
     ]
    },
    {
     "name": "stdout",
     "output_type": "stream",
     "text": [
      "[syn53422384:col_metadata.tsv]: Copying existing file from /storage/my_disk/helical_coding_challenge/.synapsecache/853/132658853/col_metadata.tsv to /storage/my_disk/helical_coding_challenge/data/syn51105515/Processed Data/210526_PN_317_snRNA-E4/col_metadata.tsv\n"
     ]
    },
    {
     "name": "stderr",
     "output_type": "stream",
     "text": [
      "Downloading files:   0%|                                                                                                                                                      | 0.00/1.00 [00:07<?, ?B/s]"
     ]
    },
    {
     "name": "stdout",
     "output_type": "stream",
     "text": [
      "[syn53422000:row_metadata.tsv]: Copying existing file from /storage/my_disk/helical_coding_challenge/.synapsecache/423/132658423/row_metadata.tsv to /storage/my_disk/helical_coding_challenge/data/syn51105515/Processed Data/191112_ALS_130_snRNA-A5/row_metadata.tsv\n"
     ]
    },
    {
     "name": "stderr",
     "output_type": "stream",
     "text": [
      "Downloading files:   0%|                                                                                                                                                      | 0.00/1.00 [00:07<?, ?B/s]"
     ]
    },
    {
     "name": "stdout",
     "output_type": "stream",
     "text": [
      "[syn53417776:4_8_deg_res_BA9_C9FTLD.xlsx]: Copying existing file from /storage/my_disk/helical_coding_challenge/.synapsecache/123/132640123/4_8_deg_res_BA9_C9FTLD.xlsx to /storage/my_disk/helical_coding_challenge/data/syn51105515/Supplemental Materials/S04 - DEGs pan-neuronal/4_8_deg_res_BA9_C9FTLD.xlsx\n"
     ]
    },
    {
     "name": "stderr",
     "output_type": "stream",
     "text": [
      "Downloading files:   0%|                                                                                                                                                      | 0.00/1.00 [00:07<?, ?B/s]"
     ]
    },
    {
     "name": "stdout",
     "output_type": "stream",
     "text": [
      "[syn53421769:210526_ALS_115_snRNA-A5]: Syncing Folder from Synapse.\n"
     ]
    },
    {
     "name": "stderr",
     "output_type": "stream",
     "text": [
      "Downloading files:   0%|                                                                                                                                                      | 0.00/1.00 [00:07<?, ?B/s]"
     ]
    },
    {
     "name": "stdout",
     "output_type": "stream",
     "text": [
      "[syn53421686:191113_FTLD_217_snRNA-D11]: Syncing Folder from Synapse.\n"
     ]
    },
    {
     "name": "stderr",
     "output_type": "stream",
     "text": [
      "Downloading files:   0%|                                                                                                                                                      | 0.00/1.00 [00:07<?, ?B/s]"
     ]
    },
    {
     "name": "stdout",
     "output_type": "stream",
     "text": [
      "[syn53421754:210910_MCX_ALS_132_snRNA-C3]: Syncing Folder from Synapse.\n"
     ]
    },
    {
     "name": "stderr",
     "output_type": "stream",
     "text": [
      "Downloading files:   0%|                                                                                                                                                      | 0.00/1.00 [00:07<?, ?B/s]"
     ]
    },
    {
     "name": "stdout",
     "output_type": "stream",
     "text": [
      "[syn53421752:210526_ALS_101_snRNA-H5]: Syncing Folder from Synapse.\n"
     ]
    },
    {
     "name": "stderr",
     "output_type": "stream",
     "text": [
      "Downloading files:   0%|                                                                                                                                                      | 0.00/1.00 [00:07<?, ?B/s]"
     ]
    },
    {
     "name": "stdout",
     "output_type": "stream",
     "text": [
      "[syn53421786:191114_PN_325_snRNA-F8]: Syncing Folder from Synapse.\n"
     ]
    },
    {
     "name": "stderr",
     "output_type": "stream",
     "text": [
      "Downloading files:   0%|                                                                                                                                                      | 0.00/1.00 [00:07<?, ?B/s]"
     ]
    },
    {
     "name": "stdout",
     "output_type": "stream",
     "text": [
      "[syn53421683:191113_FTLD_202_snRNA-D3]: Syncing Folder from Synapse.\n"
     ]
    },
    {
     "name": "stderr",
     "output_type": "stream",
     "text": [
      "Downloading files:   0%|                                                                                                                                                      | 0.00/1.00 [00:07<?, ?B/s]"
     ]
    },
    {
     "name": "stdout",
     "output_type": "stream",
     "text": [
      "[syn53421775:210910_PFC_ALS_131_snRNA-C10]: Syncing Folder from Synapse.\n"
     ]
    },
    {
     "name": "stderr",
     "output_type": "stream",
     "text": [
      "Downloading files:   0%|                                                                                                                                                      | 0.00/1.00 [00:07<?, ?B/s]"
     ]
    },
    {
     "name": "stdout",
     "output_type": "stream",
     "text": [
      "[syn53417843:8_6_deg_chea_BA9_C9ALS.xlsx]: Copying existing file from /storage/my_disk/helical_coding_challenge/.synapsecache/188/132640188/8_6_deg_chea_BA9_C9ALS.xlsx to /storage/my_disk/helical_coding_challenge/data/syn51105515/Supplemental Materials/S08 - DEG regulators by cell type/8_6_deg_chea_BA9_C9ALS.xlsx\n"
     ]
    },
    {
     "name": "stderr",
     "output_type": "stream",
     "text": [
      "Downloading files:   0%|                                                                                                                                                      | 0.00/1.00 [00:07<?, ?B/s]"
     ]
    },
    {
     "name": "stdout",
     "output_type": "stream",
     "text": [
      "[syn53417770:4_3_deg_res_BA4_SFTLD.xlsx]: Copying existing file from /storage/my_disk/helical_coding_challenge/.synapsecache/117/132640117/4_3_deg_res_BA4_SFTLD.xlsx to /storage/my_disk/helical_coding_challenge/data/syn51105515/Supplemental Materials/S04 - DEGs pan-neuronal/4_3_deg_res_BA4_SFTLD.xlsx\n"
     ]
    },
    {
     "name": "stderr",
     "output_type": "stream",
     "text": [
      "Downloading files:   0%|                                                                                                                                                      | 0.00/1.00 [00:07<?, ?B/s]"
     ]
    },
    {
     "name": "stdout",
     "output_type": "stream",
     "text": [
      "[syn53417810:6_6_deg_res_BA9_C9ALS.xlsx]: Copying existing file from /storage/my_disk/helical_coding_challenge/.synapsecache/155/132640155/6_6_deg_res_BA9_C9ALS.xlsx to /storage/my_disk/helical_coding_challenge/data/syn51105515/Supplemental Materials/S06 - DEGs cell type-specific/6_6_deg_res_BA9_C9ALS.xlsx\n"
     ]
    },
    {
     "name": "stderr",
     "output_type": "stream",
     "text": [
      "Downloading files:   0%|                                                                                                                                                      | 0.00/1.00 [00:07<?, ?B/s]"
     ]
    },
    {
     "name": "stdout",
     "output_type": "stream",
     "text": [
      "[syn53417774:4_6_deg_res_BA9_C9ALS.xlsx]: Copying existing file from /storage/my_disk/helical_coding_challenge/.synapsecache/121/132640121/4_6_deg_res_BA9_C9ALS.xlsx to /storage/my_disk/helical_coding_challenge/data/syn51105515/Supplemental Materials/S04 - DEGs pan-neuronal/4_6_deg_res_BA9_C9ALS.xlsx\n"
     ]
    },
    {
     "name": "stderr",
     "output_type": "stream",
     "text": [
      "                                                                                                                                                                                                         "
     ]
    },
    {
     "name": "stdout",
     "output_type": "stream",
     "text": [
      "[syn53421698:210526_PN_311_snRNA-E3]: Syncing Folder from Synapse.\n"
     ]
    },
    {
     "name": "stderr",
     "output_type": "stream",
     "text": [
      "Downloading files:   0%|                                                                                                                                                      | 0.00/1.00 [00:07<?, ?B/s]"
     ]
    },
    {
     "name": "stdout",
     "output_type": "stream",
     "text": [
      "[syn53421767:200721_FTLD_210_snRNA-A11]: Syncing Folder from Synapse.\n"
     ]
    },
    {
     "name": "stderr",
     "output_type": "stream",
     "text": [
      "Downloading files:   0%|                                                                                                                                                      | 0.00/1.00 [00:07<?, ?B/s]"
     ]
    },
    {
     "name": "stdout",
     "output_type": "stream",
     "text": [
      "[syn53421721:201019_ALS_104_snRNA-B4]: Syncing Folder from Synapse.\n"
     ]
    },
    {
     "name": "stderr",
     "output_type": "stream",
     "text": [
      "Downloading files:   0%|                                                                                                                                                      | 0.00/1.00 [00:07<?, ?B/s]"
     ]
    },
    {
     "name": "stdout",
     "output_type": "stream",
     "text": [
      "[syn53422330:row_metadata.tsv]: Copying existing file from /storage/my_disk/helical_coding_challenge/.synapsecache/423/132658423/row_metadata.tsv to /storage/my_disk/helical_coding_challenge/data/syn51105515/Processed Data/210526_FTLD_239_snRNA-D5/row_metadata.tsv\n"
     ]
    },
    {
     "name": "stderr",
     "output_type": "stream",
     "text": [
      "Downloading files:   0%|                                                                                                                                                      | 0.00/1.00 [00:07<?, ?B/s]"
     ]
    },
    {
     "name": "stdout",
     "output_type": "stream",
     "text": [
      "[syn53417862:10_5_txd_assoc_pty_BA9_SALS.xlsx]: Copying existing file from /storage/my_disk/helical_coding_challenge/.synapsecache/206/132640206/10_5_txd_assoc_pty_BA9_SALS.xlsx to /storage/my_disk/helical_coding_challenge/data/syn51105515/Supplemental Materials/S10 - TxD-associated pathway enrichments/10_5_txd_assoc_pty_BA9_SALS.xlsx\n"
     ]
    },
    {
     "name": "stderr",
     "output_type": "stream",
     "text": [
      "Downloading files:   0%|                                                                                                                                                      | 0.00/1.00 [00:07<?, ?B/s]"
     ]
    },
    {
     "name": "stdout",
     "output_type": "stream",
     "text": [
      "[syn53421705:201019_ALS_103_snRNA-B3]: Syncing Folder from Synapse.\n"
     ]
    },
    {
     "name": "stderr",
     "output_type": "stream",
     "text": [
      "Downloading files:   0%|                                                                                                                                                      | 0.00/1.00 [00:07<?, ?B/s]"
     ]
    },
    {
     "name": "stdout",
     "output_type": "stream",
     "text": [
      "[syn53422318:col_metadata.tsv]: Copying existing file from /storage/my_disk/helical_coding_challenge/.synapsecache/783/132658783/col_metadata.tsv to /storage/my_disk/helical_coding_challenge/data/syn51105515/Processed Data/191112_ALS_122_snRNA-D2/col_metadata.tsv\n"
     ]
    },
    {
     "name": "stderr",
     "output_type": "stream",
     "text": [
      "Downloading files:   0%|                                                                                                                                                      | 0.00/1.00 [00:07<?, ?B/s]"
     ]
    },
    {
     "name": "stdout",
     "output_type": "stream",
     "text": [
      "[syn53421697:210910_MCX_ALS_131_snRNA-C2]: Syncing Folder from Synapse.\n"
     ]
    },
    {
     "name": "stderr",
     "output_type": "stream",
     "text": [
      "Downloading files:   0%|                                                                                                                                                      | 0.00/1.00 [00:07<?, ?B/s]"
     ]
    },
    {
     "name": "stdout",
     "output_type": "stream",
     "text": [
      "[syn53421643:210526_ALS_116_snRNA-A6]: Syncing Folder from Synapse.\n"
     ]
    },
    {
     "name": "stderr",
     "output_type": "stream",
     "text": [
      "Downloading files:   0%|                                                                                                                                                      | 0.00/1.00 [00:07<?, ?B/s]"
     ]
    },
    {
     "name": "stdout",
     "output_type": "stream",
     "text": [
      "[syn53421706:191113_FTLD_216_snRNA-H3]: Syncing Folder from Synapse.\n"
     ]
    },
    {
     "name": "stderr",
     "output_type": "stream",
     "text": [
      "Downloading files:   0%|                                                                                                                                                      | 0.00/1.00 [00:07<?, ?B/s]"
     ]
    },
    {
     "name": "stdout",
     "output_type": "stream",
     "text": [
      "[syn53421650:210526_ALS_104_snRNA-H8]: Syncing Folder from Synapse.\n"
     ]
    },
    {
     "name": "stderr",
     "output_type": "stream",
     "text": [
      "Downloading files:   0%|                                                                                                                                                      | 0.00/1.00 [00:07<?, ?B/s]"
     ]
    },
    {
     "name": "stdout",
     "output_type": "stream",
     "text": [
      "[syn53421780:191114_PN_317_snRNA-F2]: Syncing Folder from Synapse.\n"
     ]
    },
    {
     "name": "stderr",
     "output_type": "stream",
     "text": [
      "Downloading files:   0%|                                                                                                                                                      | 0.00/1.00 [00:07<?, ?B/s]"
     ]
    },
    {
     "name": "stdout",
     "output_type": "stream",
     "text": [
      "[syn53421768:191113_FTLD_211_snRNA-D7]: Syncing Folder from Synapse.\n"
     ]
    },
    {
     "name": "stderr",
     "output_type": "stream",
     "text": [
      "Downloading files:   0%|                                                                                                                                                      | 0.00/1.00 [00:08<?, ?B/s]"
     ]
    },
    {
     "name": "stdout",
     "output_type": "stream",
     "text": [
      "[syn53421751:210526_FTLD_236_snRNA-D2]: Syncing Folder from Synapse.\n"
     ]
    },
    {
     "name": "stderr",
     "output_type": "stream",
     "text": [
      "Downloading files:   0%|                                                                                                                                                      | 0.00/1.00 [00:08<?, ?B/s]"
     ]
    },
    {
     "name": "stdout",
     "output_type": "stream",
     "text": [
      "[syn53421743:210526_ALS_130_snRNA-B4]: Syncing Folder from Synapse.\n"
     ]
    },
    {
     "name": "stderr",
     "output_type": "stream",
     "text": [
      "Downloading files:   0%|                                                                                                                                                      | 0.00/1.00 [00:08<?, ?B/s]"
     ]
    },
    {
     "name": "stdout",
     "output_type": "stream",
     "text": [
      "[syn53421765:210526_ALS_126_snRNA-A12]: Syncing Folder from Synapse.\n"
     ]
    },
    {
     "name": "stderr",
     "output_type": "stream",
     "text": [
      "Downloading files:   0%|                                                                                                                                                      | 0.00/1.00 [00:08<?, ?B/s]"
     ]
    },
    {
     "name": "stdout",
     "output_type": "stream",
     "text": [
      "[syn53417808:6_4_deg_res_BA4_C9FTLD.xlsx]: Copying existing file from /storage/my_disk/helical_coding_challenge/.synapsecache/153/132640153/6_4_deg_res_BA4_C9FTLD.xlsx to /storage/my_disk/helical_coding_challenge/data/syn51105515/Supplemental Materials/S06 - DEGs cell type-specific/6_4_deg_res_BA4_C9FTLD.xlsx\n"
     ]
    },
    {
     "name": "stderr",
     "output_type": "stream",
     "text": [
      "Downloading files:   0%|                                                                                                                                                      | 0.00/1.00 [00:08<?, ?B/s]"
     ]
    },
    {
     "name": "stdout",
     "output_type": "stream",
     "text": [
      "[syn53417811:6_7_deg_res_BA9_SFTLD.xlsx]: Copying existing file from /storage/my_disk/helical_coding_challenge/.synapsecache/156/132640156/6_7_deg_res_BA9_SFTLD.xlsx to /storage/my_disk/helical_coding_challenge/data/syn51105515/Supplemental Materials/S06 - DEGs cell type-specific/6_7_deg_res_BA9_SFTLD.xlsx\n"
     ]
    },
    {
     "name": "stderr",
     "output_type": "stream",
     "text": [
      "Downloading files:   0%|                                                                                                                                                      | 0.00/1.00 [00:08<?, ?B/s]"
     ]
    },
    {
     "name": "stdout",
     "output_type": "stream",
     "text": [
      "[syn53422023:col_metadata.tsv]: Copying existing file from /storage/my_disk/helical_coding_challenge/.synapsecache/474/132658474/col_metadata.tsv to /storage/my_disk/helical_coding_challenge/data/syn51105515/Processed Data/191112_ALS_130_snRNA-A5/col_metadata.tsv\n"
     ]
    },
    {
     "name": "stderr",
     "output_type": "stream",
     "text": [
      "Downloading files:   0%|                                                                                                                                                      | 0.00/1.00 [00:08<?, ?B/s]"
     ]
    },
    {
     "name": "stdout",
     "output_type": "stream",
     "text": [
      "[syn53421651:210526_PN_322_snRNA-E6]: Syncing Folder from Synapse.\n"
     ]
    },
    {
     "name": "stderr",
     "output_type": "stream",
     "text": [
      "Downloading files:   0%|                                                                                                                                                      | 0.00/1.00 [00:08<?, ?B/s]"
     ]
    },
    {
     "name": "stdout",
     "output_type": "stream",
     "text": [
      "[syn53417768:4_1_deg_res_BA4_SALS.xlsx]: Copying existing file from /storage/my_disk/helical_coding_challenge/.synapsecache/115/132640115/4_1_deg_res_BA4_SALS.xlsx to /storage/my_disk/helical_coding_challenge/data/syn51105515/Supplemental Materials/S04 - DEGs pan-neuronal/4_1_deg_res_BA4_SALS.xlsx\n"
     ]
    },
    {
     "name": "stderr",
     "output_type": "stream",
     "text": [
      "Downloading files:   0%|                                                                                                                                                      | 0.00/1.00 [00:08<?, ?B/s]"
     ]
    },
    {
     "name": "stdout",
     "output_type": "stream",
     "text": [
      "[syn53421761:210526_FTLD_234_snRNA-C12]: Syncing Folder from Synapse.\n"
     ]
    },
    {
     "name": "stderr",
     "output_type": "stream",
     "text": [
      "Downloading files:   0%|                                                                                                                                                      | 0.00/1.00 [00:08<?, ?B/s]"
     ]
    },
    {
     "name": "stdout",
     "output_type": "stream",
     "text": [
      "[syn53421707:210526_FTLD_237_snRNA-D3]: Syncing Folder from Synapse.\n"
     ]
    },
    {
     "name": "stderr",
     "output_type": "stream",
     "text": [
      "                                                                                                                                                                                                         "
     ]
    },
    {
     "name": "stdout",
     "output_type": "stream",
     "text": [
      "[syn53421737:210526_ALS_122_snRNA-A10]: Syncing Folder from Synapse.\n"
     ]
    },
    {
     "name": "stderr",
     "output_type": "stream",
     "text": [
      "Downloading files:   0%|                                                                                                                                                      | 0.00/1.00 [00:08<?, ?B/s]"
     ]
    },
    {
     "name": "stdout",
     "output_type": "stream",
     "text": [
      "[syn53417789:5_5_deg_pathway_BA9_SALS.xlsx]: Copying existing file from /storage/my_disk/helical_coding_challenge/.synapsecache/135/132640135/5_5_deg_pathway_BA9_SALS.xlsx to /storage/my_disk/helical_coding_challenge/data/syn51105515/Supplemental Materials/S05 - Pathway enrichments pan-neuronal/5_5_deg_pathway_BA9_SALS.xlsx\n"
     ]
    },
    {
     "name": "stderr",
     "output_type": "stream",
     "text": [
      "Downloading files:   0%|                                                                                                                                                      | 0.00/1.00 [00:08<?, ?B/s]"
     ]
    },
    {
     "name": "stdout",
     "output_type": "stream",
     "text": [
      "[syn53422297:col_metadata.tsv]: Copying existing file from /storage/my_disk/helical_coding_challenge/.synapsecache/764/132658764/col_metadata.tsv to /storage/my_disk/helical_coding_challenge/data/syn51105515/Processed Data/210526_ALS_110_snRNA-H11/col_metadata.tsv\n"
     ]
    },
    {
     "name": "stderr",
     "output_type": "stream",
     "text": [
      "Downloading files:   0%|                                                                                                                                                      | 0.00/1.00 [00:08<?, ?B/s]"
     ]
    },
    {
     "name": "stdout",
     "output_type": "stream",
     "text": [
      "[syn53421662:201025_FTLD_239_snRNA-C11]: Syncing Folder from Synapse.\n"
     ]
    },
    {
     "name": "stderr",
     "output_type": "stream",
     "text": [
      "Downloading files:   0%|                                                                                                                                                      | 0.00/1.00 [00:08<?, ?B/s]"
     ]
    },
    {
     "name": "stdout",
     "output_type": "stream",
     "text": [
      "[syn53417844:8_7_deg_chea_BA9_SFTLD.xlsx]: Copying existing file from /storage/my_disk/helical_coding_challenge/.synapsecache/189/132640189/8_7_deg_chea_BA9_SFTLD.xlsx to /storage/my_disk/helical_coding_challenge/data/syn51105515/Supplemental Materials/S08 - DEG regulators by cell type/8_7_deg_chea_BA9_SFTLD.xlsx\n"
     ]
    },
    {
     "name": "stderr",
     "output_type": "stream",
     "text": [
      "Downloading files:   0%|                                                                                                                                                      | 0.00/1.00 [00:08<?, ?B/s]"
     ]
    },
    {
     "name": "stdout",
     "output_type": "stream",
     "text": [
      "[syn53422402:col_metadata.tsv]: Copying existing file from /storage/my_disk/helical_coding_challenge/.synapsecache/875/132658875/col_metadata.tsv to /storage/my_disk/helical_coding_challenge/data/syn51105515/Processed Data/191112_ALS_112_snRNA-D1/col_metadata.tsv\n"
     ]
    },
    {
     "name": "stderr",
     "output_type": "stream",
     "text": [
      "Downloading files:   0%|                                                                                                                                                      | 0.00/1.00 [00:08<?, ?B/s]"
     ]
    },
    {
     "name": "stdout",
     "output_type": "stream",
     "text": [
      "[syn53417865:10_7_txd_assoc_pty_BA9_SFTLD.xlsx]: Copying existing file from /storage/my_disk/helical_coding_challenge/.synapsecache/209/132640209/10_7_txd_assoc_pty_BA9_SFTLD.xlsx to /storage/my_disk/helical_coding_challenge/data/syn51105515/Supplemental Materials/S10 - TxD-associated pathway enrichments/10_7_txd_assoc_pty_BA9_SFTLD.xlsx\n"
     ]
    },
    {
     "name": "stderr",
     "output_type": "stream",
     "text": [
      "Downloading files:   0%|                                                                                                                                                      | 0.00/1.00 [00:08<?, ?B/s]"
     ]
    },
    {
     "name": "stdout",
     "output_type": "stream",
     "text": [
      "[syn53422279:counts_fil.mtx]: Copying existing file from /storage/my_disk/helical_coding_challenge/.synapsecache/745/132658745/counts_fil.mtx to /storage/my_disk/helical_coding_challenge/data/syn51105515/Processed Data/210526_ALS_114_snRNA-A4/counts_fil.mtx\n"
     ]
    },
    {
     "name": "stderr",
     "output_type": "stream",
     "text": [
      "Downloading files:   0%|                                                                                                                                                      | 0.00/1.00 [00:09<?, ?B/s]"
     ]
    },
    {
     "name": "stdout",
     "output_type": "stream",
     "text": [
      "[syn53421652:200721_FTLD_229_snRNA-B2]: Syncing Folder from Synapse.\n"
     ]
    },
    {
     "name": "stderr",
     "output_type": "stream",
     "text": [
      "Downloading files:   0%|                                                                                                                                                      | 0.00/1.00 [00:09<?, ?B/s]"
     ]
    },
    {
     "name": "stdout",
     "output_type": "stream",
     "text": [
      "[syn53422035:counts_fil.mtx]: Copying existing file from /storage/my_disk/helical_coding_challenge/.synapsecache/490/132658490/counts_fil.mtx to /storage/my_disk/helical_coding_challenge/data/syn51105515/Processed Data/191112_ALS_115_snRNA-C1/counts_fil.mtx\n"
     ]
    },
    {
     "name": "stderr",
     "output_type": "stream",
     "text": [
      "Downloading files:   0%|                                                                                                                                                      | 0.00/1.00 [00:10<?, ?B/s]"
     ]
    },
    {
     "name": "stdout",
     "output_type": "stream",
     "text": [
      "[syn53417845:8_8_deg_chea_BA9_C9FTLD.xlsx]: Copying existing file from /storage/my_disk/helical_coding_challenge/.synapsecache/190/132640190/8_8_deg_chea_BA9_C9FTLD.xlsx to /storage/my_disk/helical_coding_challenge/data/syn51105515/Supplemental Materials/S08 - DEG regulators by cell type/8_8_deg_chea_BA9_C9FTLD.xlsx\n"
     ]
    },
    {
     "name": "stderr",
     "output_type": "stream",
     "text": [
      "Downloading files:   0%|                                                                                                                                                      | 0.00/1.00 [00:10<?, ?B/s]"
     ]
    },
    {
     "name": "stdout",
     "output_type": "stream",
     "text": [
      "[syn53421693:210526_ALS_112_snRNA-A2]: Syncing Folder from Synapse.\n"
     ]
    },
    {
     "name": "stderr",
     "output_type": "stream",
     "text": [
      "Downloading files:   0%|                                                                                                                                                      | 0.00/1.00 [00:11<?, ?B/s]"
     ]
    },
    {
     "name": "stdout",
     "output_type": "stream",
     "text": [
      "[syn53422061:counts_fil.mtx]: Copying existing file from /storage/my_disk/helical_coding_challenge/.synapsecache/516/132658516/counts_fil.mtx to /storage/my_disk/helical_coding_challenge/data/syn51105515/Processed Data/201019_PN_311_snRNA-B8/counts_fil.mtx\n"
     ]
    },
    {
     "name": "stderr",
     "output_type": "stream",
     "text": [
      "Downloading files:   0%|                                                                                                                                                      | 0.00/1.00 [00:11<?, ?B/s]"
     ]
    },
    {
     "name": "stdout",
     "output_type": "stream",
     "text": [
      "[syn53422105:counts_fil.mtx]: Copying existing file from /storage/my_disk/helical_coding_challenge/.synapsecache/559/132658559/counts_fil.mtx to /storage/my_disk/helical_coding_challenge/data/syn51105515/Processed Data/191112_ALS_110_snRNA-B9/counts_fil.mtx\n"
     ]
    },
    {
     "name": "stderr",
     "output_type": "stream",
     "text": [
      "Downloading files:   0%|                                                                                                                                                      | 0.00/1.00 [00:13<?, ?B/s]"
     ]
    },
    {
     "name": "stdout",
     "output_type": "stream",
     "text": [
      "[syn53421758:191113_FTLD_214_snRNA-D9]: Syncing Folder from Synapse.\n"
     ]
    },
    {
     "name": "stderr",
     "output_type": "stream",
     "text": [
      "Downloading files:   0%|                                                                                                                                                      | 0.00/1.00 [00:13<?, ?B/s]"
     ]
    },
    {
     "name": "stdout",
     "output_type": "stream",
     "text": [
      "[syn53417858:10_2_txd_assoc_pty_BA4_C9ALS.xlsx]: Copying existing file from /storage/my_disk/helical_coding_challenge/.synapsecache/202/132640202/10_2_txd_assoc_pty_BA4_C9ALS.xlsx to /storage/my_disk/helical_coding_challenge/data/syn51105515/Supplemental Materials/S10 - TxD-associated pathway enrichments/10_2_txd_assoc_pty_BA4_C9ALS.xlsx\n"
     ]
    },
    {
     "name": "stderr",
     "output_type": "stream",
     "text": [
      "Downloading files:   0%|                                                                                                                                                      | 0.00/1.00 [00:13<?, ?B/s]"
     ]
    },
    {
     "name": "stdout",
     "output_type": "stream",
     "text": [
      "[syn53422037:row_metadata.tsv]: Copying existing file from /storage/my_disk/helical_coding_challenge/.synapsecache/423/132658423/row_metadata.tsv to /storage/my_disk/helical_coding_challenge/data/syn51105515/Processed Data/191112_ALS_129_snRNA-A2/row_metadata.tsv\n"
     ]
    },
    {
     "name": "stderr",
     "output_type": "stream",
     "text": [
      "Downloading files:   0%|                                                                                                                                                      | 0.00/1.00 [00:13<?, ?B/s]"
     ]
    },
    {
     "name": "stdout",
     "output_type": "stream",
     "text": [
      "[syn53421742:210526_FTLD_207_snRNA-B8]: Syncing Folder from Synapse.\n"
     ]
    },
    {
     "name": "stderr",
     "output_type": "stream",
     "text": [
      "Downloading files:   0%|                                                                                                                                                      | 0.00/1.00 [00:13<?, ?B/s]"
     ]
    },
    {
     "name": "stdout",
     "output_type": "stream",
     "text": [
      "[syn53421713:210526_FTLD_232_snRNA-C11]: Syncing Folder from Synapse.\n"
     ]
    },
    {
     "name": "stderr",
     "output_type": "stream",
     "text": [
      "Downloading files:   0%|                                                                                                                                                      | 0.00/1.00 [00:13<?, ?B/s]"
     ]
    },
    {
     "name": "stdout",
     "output_type": "stream",
     "text": [
      "[syn53422299:row_metadata.tsv]: Copying existing file from /storage/my_disk/helical_coding_challenge/.synapsecache/423/132658423/row_metadata.tsv to /storage/my_disk/helical_coding_challenge/data/syn51105515/Processed Data/191112_ALS_122_snRNA-D2/row_metadata.tsv\n"
     ]
    },
    {
     "name": "stderr",
     "output_type": "stream",
     "text": [
      "Downloading files:   0%|                                                                                                                                                      | 0.00/1.00 [00:13<?, ?B/s]"
     ]
    },
    {
     "name": "stdout",
     "output_type": "stream",
     "text": [
      "[syn53421777:210526_FTLD_218_snRNA-C3]: Syncing Folder from Synapse.\n"
     ]
    },
    {
     "name": "stderr",
     "output_type": "stream",
     "text": [
      "Downloading files:   0%|                                                                                                                                                      | 0.00/1.00 [00:13<?, ?B/s]"
     ]
    },
    {
     "name": "stdout",
     "output_type": "stream",
     "text": [
      "[syn53417856:10_1_txd_assoc_pty_BA4_SALS.xlsx]: Copying existing file from /storage/my_disk/helical_coding_challenge/.synapsecache/201/132640201/10_1_txd_assoc_pty_BA4_SALS.xlsx to /storage/my_disk/helical_coding_challenge/data/syn51105515/Supplemental Materials/S10 - TxD-associated pathway enrichments/10_1_txd_assoc_pty_BA4_SALS.xlsx\n"
     ]
    },
    {
     "name": "stderr",
     "output_type": "stream",
     "text": [
      "Downloading files:   0%|                                                                                                                                                      | 0.00/1.00 [00:13<?, ?B/s]"
     ]
    },
    {
     "name": "stdout",
     "output_type": "stream",
     "text": [
      "[syn53421701:210526_PN_324_snRNA-F4]: Syncing Folder from Synapse.\n"
     ]
    },
    {
     "name": "stderr",
     "output_type": "stream",
     "text": [
      "Downloading files:   0%|                                                                                                                                                      | 0.00/1.00 [00:13<?, ?B/s]"
     ]
    },
    {
     "name": "stdout",
     "output_type": "stream",
     "text": [
      "[syn53421671:210526_ALS_129_snRNA-B3]: Syncing Folder from Synapse.\n"
     ]
    },
    {
     "name": "stderr",
     "output_type": "stream",
     "text": [
      "Downloading files:   0%|                                                                                                                                                      | 0.00/1.00 [00:13<?, ?B/s]"
     ]
    },
    {
     "name": "stdout",
     "output_type": "stream",
     "text": [
      "[syn53422107:row_metadata.tsv]: Copying existing file from /storage/my_disk/helical_coding_challenge/.synapsecache/423/132658423/row_metadata.tsv to /storage/my_disk/helical_coding_challenge/data/syn51105515/Processed Data/210526_PN_302_snRNA-D8/row_metadata.tsv\n"
     ]
    },
    {
     "name": "stderr",
     "output_type": "stream",
     "text": [
      "Downloading files:   0%|                                                                                                                                                      | 0.00/1.00 [00:13<?, ?B/s]"
     ]
    },
    {
     "name": "stdout",
     "output_type": "stream",
     "text": [
      "[syn53421727:191114_PN_301_snRNA-E7]: Syncing Folder from Synapse.\n"
     ]
    },
    {
     "name": "stderr",
     "output_type": "stream",
     "text": [
      "Downloading files:   0%|                                                                                                                                                      | 0.00/1.00 [00:13<?, ?B/s]"
     ]
    },
    {
     "name": "stdout",
     "output_type": "stream",
     "text": [
      "[syn53421675:201025_FTLD_235_snRNA-C7]: Syncing Folder from Synapse.\n"
     ]
    },
    {
     "name": "stderr",
     "output_type": "stream",
     "text": [
      "Downloading files:   0%|                                                                                                                                                      | 0.00/1.00 [00:13<?, ?B/s]"
     ]
    },
    {
     "name": "stdout",
     "output_type": "stream",
     "text": [
      "[syn53422143:row_metadata.tsv]: Copying existing file from /storage/my_disk/helical_coding_challenge/.synapsecache/423/132658423/row_metadata.tsv to /storage/my_disk/helical_coding_challenge/data/syn51105515/Processed Data/210526_PN_304_snRNA-D10/row_metadata.tsv\n"
     ]
    },
    {
     "name": "stderr",
     "output_type": "stream",
     "text": [
      "Downloading files:   0%|                                                                                                                                                      | 0.00/1.00 [00:13<?, ?B/s]"
     ]
    },
    {
     "name": "stdout",
     "output_type": "stream",
     "text": [
      "[syn53421673:210526_FTLD_225_snRNA-C6]: Syncing Folder from Synapse.\n"
     ]
    },
    {
     "name": "stderr",
     "output_type": "stream",
     "text": [
      "Downloading files:   0%|                                                                                                                                                      | 0.00/1.00 [00:13<?, ?B/s]"
     ]
    },
    {
     "name": "stdout",
     "output_type": "stream",
     "text": [
      "[syn53421672:210526_FTLD_211_snRNA-B11]: Syncing Folder from Synapse.\n"
     ]
    },
    {
     "name": "stderr",
     "output_type": "stream",
     "text": [
      "Downloading files:   0%|                                                                                                                                                      | 0.00/1.00 [00:13<?, ?B/s]"
     ]
    },
    {
     "name": "stdout",
     "output_type": "stream",
     "text": [
      "[syn53422270:counts_fil.mtx]: Copying existing file from /storage/my_disk/helical_coding_challenge/.synapsecache/731/132658731/counts_fil.mtx to /storage/my_disk/helical_coding_challenge/data/syn51105515/Processed Data/191112_ALS_127_snRNA-A4/counts_fil.mtx\n"
     ]
    },
    {
     "name": "stderr",
     "output_type": "stream",
     "text": [
      "Downloading files:   0%|                                                                                                                                                      | 0.00/1.00 [00:14<?, ?B/s]"
     ]
    },
    {
     "name": "stdout",
     "output_type": "stream",
     "text": [
      "[syn53417809:6_5_deg_res_BA9_SALS.xlsx]: Copying existing file from /storage/my_disk/helical_coding_challenge/.synapsecache/154/132640154/6_5_deg_res_BA9_SALS.xlsx to /storage/my_disk/helical_coding_challenge/data/syn51105515/Supplemental Materials/S06 - DEGs cell type-specific/6_5_deg_res_BA9_SALS.xlsx\n"
     ]
    },
    {
     "name": "stderr",
     "output_type": "stream",
     "text": [
      "Downloading files:   0%|                                                                                                                                                      | 0.00/1.00 [00:14<?, ?B/s]"
     ]
    },
    {
     "name": "stdout",
     "output_type": "stream",
     "text": [
      "[syn53417839:8_3_deg_chea_BA4_SFTLD.xlsx]: Copying existing file from /storage/my_disk/helical_coding_challenge/.synapsecache/184/132640184/8_3_deg_chea_BA4_SFTLD.xlsx to /storage/my_disk/helical_coding_challenge/data/syn51105515/Supplemental Materials/S08 - DEG regulators by cell type/8_3_deg_chea_BA4_SFTLD.xlsx\n"
     ]
    },
    {
     "name": "stderr",
     "output_type": "stream",
     "text": [
      "Downloading files:   0%|                                                                                                                                                      | 0.00/1.00 [00:14<?, ?B/s]"
     ]
    },
    {
     "name": "stdout",
     "output_type": "stream",
     "text": [
      "[syn53421645:210526_FTLD_229_snRNA-B9]: Syncing Folder from Synapse.\n"
     ]
    },
    {
     "name": "stderr",
     "output_type": "stream",
     "text": [
      "Downloading files:   0%|                                                                                                                                                      | 0.00/1.00 [00:14<?, ?B/s]"
     ]
    },
    {
     "name": "stdout",
     "output_type": "stream",
     "text": [
      "[syn53421660:200721_FTLD_214_snRNA-A12]: Syncing Folder from Synapse.\n"
     ]
    },
    {
     "name": "stderr",
     "output_type": "stream",
     "text": [
      "Downloading files:   0%|                                                                                                                                                      | 0.00/1.00 [00:14<?, ?B/s]"
     ]
    },
    {
     "name": "stdout",
     "output_type": "stream",
     "text": [
      "[syn53422048:row_metadata.tsv]: Copying existing file from /storage/my_disk/helical_coding_challenge/.synapsecache/423/132658423/row_metadata.tsv to /storage/my_disk/helical_coding_challenge/data/syn51105515/Processed Data/210526_PN_318_snRNA-H12/row_metadata.tsv\n"
     ]
    },
    {
     "name": "stderr",
     "output_type": "stream",
     "text": [
      "Downloading files:   0%|                                                                                                                                                      | 0.00/1.00 [00:15<?, ?B/s]"
     ]
    },
    {
     "name": "stdout",
     "output_type": "stream",
     "text": [
      "[syn53422036:counts_fil.mtx]: Copying existing file from /storage/my_disk/helical_coding_challenge/.synapsecache/491/132658491/counts_fil.mtx to /storage/my_disk/helical_coding_challenge/data/syn51105515/Processed Data/191112_ALS_130_snRNA-A5/counts_fil.mtx\n"
     ]
    },
    {
     "name": "stderr",
     "output_type": "stream",
     "text": [
      "Downloading files:   0%|                                                                                                                                                      | 0.00/1.00 [00:16<?, ?B/s]"
     ]
    },
    {
     "name": "stdout",
     "output_type": "stream",
     "text": [
      "[syn53421720:201019_ALS_108_snRNA-B6]: Syncing Folder from Synapse.\n"
     ]
    },
    {
     "name": "stderr",
     "output_type": "stream",
     "text": [
      "Downloading files:   0%|                                                                                                                                                      | 0.00/1.00 [00:16<?, ?B/s]"
     ]
    },
    {
     "name": "stdout",
     "output_type": "stream",
     "text": [
      "[syn53421657:210910_MCX_ALS_135_snRNA-C6]: Syncing Folder from Synapse.\n"
     ]
    },
    {
     "name": "stderr",
     "output_type": "stream",
     "text": [
      "Downloading files:   0%|                                                                                                                                                      | 0.00/1.00 [00:16<?, ?B/s]"
     ]
    },
    {
     "name": "stdout",
     "output_type": "stream",
     "text": [
      "[syn53421718:210910_MCX_ALS_136_snRNA-C7]: Syncing Folder from Synapse.\n"
     ]
    },
    {
     "name": "stderr",
     "output_type": "stream",
     "text": [
      "Downloading files:   0%|                                                                                                                                                      | 0.00/1.00 [00:16<?, ?B/s]"
     ]
    },
    {
     "name": "stdout",
     "output_type": "stream",
     "text": [
      "[syn53422202:counts_fil.mtx]: Copying existing file from /storage/my_disk/helical_coding_challenge/.synapsecache/665/132658665/counts_fil.mtx to /storage/my_disk/helical_coding_challenge/data/syn51105515/Processed Data/201025_FTLD_238_snRNA-C10/counts_fil.mtx\n"
     ]
    },
    {
     "name": "stderr",
     "output_type": "stream",
     "text": [
      "Downloading files:   0%|                                                                                                                                                      | 0.00/1.00 [00:16<?, ?B/s]"
     ]
    },
    {
     "name": "stdout",
     "output_type": "stream",
     "text": [
      "[syn53421661:201025_FTLD_240_snRNA-C12]: Syncing Folder from Synapse.\n"
     ]
    },
    {
     "name": "stderr",
     "output_type": "stream",
     "text": [
      "Downloading files:   0%|                                                                                                                                                      | 0.00/1.00 [00:17<?, ?B/s]"
     ]
    },
    {
     "name": "stdout",
     "output_type": "stream",
     "text": [
      "[syn53422253:counts_fil.mtx]: Copying existing file from /storage/my_disk/helical_coding_challenge/.synapsecache/717/132658717/counts_fil.mtx to /storage/my_disk/helical_coding_challenge/data/syn51105515/Processed Data/210526_ALS_117_snRNA-A7/counts_fil.mtx\n"
     ]
    },
    {
     "name": "stderr",
     "output_type": "stream",
     "text": [
      "Downloading files:   0%|                                                                                                                                                      | 0.00/1.00 [00:18<?, ?B/s]"
     ]
    },
    {
     "name": "stdout",
     "output_type": "stream",
     "text": [
      "[syn53421677:191113_FTLD_226_snRNA-E4]: Syncing Folder from Synapse.\n"
     ]
    },
    {
     "name": "stderr",
     "output_type": "stream",
     "text": [
      "Downloading files:   0%|                                                                                                                                                      | 0.00/1.00 [00:18<?, ?B/s]"
     ]
    },
    {
     "name": "stdout",
     "output_type": "stream",
     "text": [
      "[syn53421991:row_metadata.tsv]: Copying existing file from /storage/my_disk/helical_coding_challenge/.synapsecache/423/132658423/row_metadata.tsv to /storage/my_disk/helical_coding_challenge/data/syn51105515/Processed Data/191112_ALS_115_snRNA-C1/row_metadata.tsv\n"
     ]
    },
    {
     "name": "stderr",
     "output_type": "stream",
     "text": [
      "Downloading files:   0%|                                                                                                                                                      | 0.00/1.00 [00:19<?, ?B/s]"
     ]
    },
    {
     "name": "stdout",
     "output_type": "stream",
     "text": [
      "[syn53422374:counts_fil.mtx]: Copying existing file from /storage/my_disk/helical_coding_challenge/.synapsecache/842/132658842/counts_fil.mtx to /storage/my_disk/helical_coding_challenge/data/syn51105515/Processed Data/191112_ALS_117_snRNA-C3/counts_fil.mtx\n"
     ]
    },
    {
     "name": "stderr",
     "output_type": "stream",
     "text": [
      "Downloading files:   0%|                                                                                                                                                      | 0.00/1.00 [00:20<?, ?B/s]"
     ]
    },
    {
     "name": "stdout",
     "output_type": "stream",
     "text": [
      "[syn53421726:210526_FTLD_226_snRNA-C7]: Syncing Folder from Synapse.\n"
     ]
    },
    {
     "name": "stderr",
     "output_type": "stream",
     "text": [
      "Downloading files:   0%|                                                                                                                                                      | 0.00/1.00 [00:20<?, ?B/s]"
     ]
    },
    {
     "name": "stdout",
     "output_type": "stream",
     "text": [
      "[syn53422224:row_metadata.tsv]: Copying existing file from /storage/my_disk/helical_coding_challenge/.synapsecache/423/132658423/row_metadata.tsv to /storage/my_disk/helical_coding_challenge/data/syn51105515/Processed Data/210526_ALS_117_snRNA-A7/row_metadata.tsv\n"
     ]
    },
    {
     "name": "stderr",
     "output_type": "stream",
     "text": [
      "Downloading files:   0%|                                                                                                                                                      | 0.00/1.00 [00:20<?, ?B/s]"
     ]
    },
    {
     "name": "stdout",
     "output_type": "stream",
     "text": [
      "[syn53417829:7_8_deg_pathway_BA9_C9FTLD.xlsx]: Copying existing file from /storage/my_disk/helical_coding_challenge/.synapsecache/175/132640175/7_8_deg_pathway_BA9_C9FTLD.xlsx to /storage/my_disk/helical_coding_challenge/data/syn51105515/Supplemental Materials/S07 - Pathway enrichments by cell type/7_8_deg_pathway_BA9_C9FTLD.xlsx\n"
     ]
    },
    {
     "name": "stderr",
     "output_type": "stream",
     "text": [
      "Downloading files:   0%|                                                                                                                                                      | 0.00/1.00 [00:20<?, ?B/s]"
     ]
    },
    {
     "name": "stdout",
     "output_type": "stream",
     "text": [
      "[syn53421746:191114_PN_319_snRNA-F4]: Syncing Folder from Synapse.\n"
     ]
    },
    {
     "name": "stderr",
     "output_type": "stream",
     "text": [
      "Downloading files:   0%|                                                                                                                                                      | 0.00/1.00 [00:20<?, ?B/s]"
     ]
    },
    {
     "name": "stdout",
     "output_type": "stream",
     "text": [
      "[syn53421725:210910_MCX_ALS_134_snRNA-C5]: Syncing Folder from Synapse.\n"
     ]
    },
    {
     "name": "stderr",
     "output_type": "stream",
     "text": [
      "Downloading files:   0%|                                                                                                                                                      | 0.00/1.00 [00:20<?, ?B/s]"
     ]
    },
    {
     "name": "stdout",
     "output_type": "stream",
     "text": [
      "[syn53422182:row_metadata.tsv]: Copying existing file from /storage/my_disk/helical_coding_challenge/.synapsecache/423/132658423/row_metadata.tsv to /storage/my_disk/helical_coding_challenge/data/syn51105515/Processed Data/201025_FTLD_238_snRNA-C10/row_metadata.tsv\n"
     ]
    },
    {
     "name": "stderr",
     "output_type": "stream",
     "text": [
      "Downloading files:   0%|                                                                                                                                                      | 0.00/1.00 [00:21<?, ?B/s]"
     ]
    },
    {
     "name": "stdout",
     "output_type": "stream",
     "text": [
      "[syn53422428:counts_fil.mtx]: Copying existing file from /storage/my_disk/helical_coding_challenge/.synapsecache/909/132658909/counts_fil.mtx to /storage/my_disk/helical_coding_challenge/data/syn51105515/Processed Data/191112_ALS_116_snRNA-C2/counts_fil.mtx\n"
     ]
    },
    {
     "name": "stderr",
     "output_type": "stream",
     "text": [
      "Downloading files:   0%|                                                                                                                                                      | 0.00/1.00 [00:22<?, ?B/s]"
     ]
    },
    {
     "name": "stdout",
     "output_type": "stream",
     "text": [
      "[syn53417806:6_3_deg_res_BA4_SFTLD.xlsx]: Copying existing file from /storage/my_disk/helical_coding_challenge/.synapsecache/151/132640151/6_3_deg_res_BA4_SFTLD.xlsx to /storage/my_disk/helical_coding_challenge/data/syn51105515/Supplemental Materials/S06 - DEGs cell type-specific/6_3_deg_res_BA4_SFTLD.xlsx\n"
     ]
    },
    {
     "name": "stderr",
     "output_type": "stream",
     "text": [
      "Downloading files:   0%|                                                                                                                                                      | 0.00/1.00 [00:22<?, ?B/s]"
     ]
    },
    {
     "name": "stdout",
     "output_type": "stream",
     "text": [
      "[syn53421739:210526_FTLD_210_snRNA-B10]: Syncing Folder from Synapse.\n"
     ]
    },
    {
     "name": "stderr",
     "output_type": "stream",
     "text": [
      "Downloading files:   0%|                                                                                                                                                      | 0.00/1.00 [00:22<?, ?B/s]"
     ]
    },
    {
     "name": "stdout",
     "output_type": "stream",
     "text": [
      "[syn53422417:col_metadata.tsv]: Copying existing file from /storage/my_disk/helical_coding_challenge/.synapsecache/890/132658890/col_metadata.tsv to /storage/my_disk/helical_coding_challenge/data/syn51105515/Processed Data/210526_PN_306_snRNA-D11/col_metadata.tsv\n"
     ]
    },
    {
     "name": "stderr",
     "output_type": "stream",
     "text": [
      "Downloading files:   0%|                                                                                                                                                      | 0.00/1.00 [00:23<?, ?B/s]"
     ]
    },
    {
     "name": "stdout",
     "output_type": "stream",
     "text": [
      "[syn53422397:counts_fil.mtx]: Copying existing file from /storage/my_disk/helical_coding_challenge/.synapsecache/869/132658869/counts_fil.mtx to /storage/my_disk/helical_coding_challenge/data/syn51105515/Processed Data/210526_PN_317_snRNA-E4/counts_fil.mtx\n"
     ]
    },
    {
     "name": "stderr",
     "output_type": "stream",
     "text": [
      "Downloading files:   0%|                                                                                                                                                      | 0.00/1.00 [00:25<?, ?B/s]"
     ]
    },
    {
     "name": "stdout",
     "output_type": "stream",
     "text": [
      "[syn53422409:row_metadata.tsv]: Copying existing file from /storage/my_disk/helical_coding_challenge/.synapsecache/423/132658423/row_metadata.tsv to /storage/my_disk/helical_coding_challenge/data/syn51105515/Processed Data/191112_ALS_116_snRNA-C2/row_metadata.tsv\n"
     ]
    },
    {
     "name": "stderr",
     "output_type": "stream",
     "text": [
      "Downloading files:   0%|                                                                                                                                                      | 0.00/1.00 [00:25<?, ?B/s]"
     ]
    },
    {
     "name": "stdout",
     "output_type": "stream",
     "text": [
      "[syn53422255:col_metadata.tsv]: Copying existing file from /storage/my_disk/helical_coding_challenge/.synapsecache/720/132658720/col_metadata.tsv to /storage/my_disk/helical_coding_challenge/data/syn51105515/Processed Data/210526_FTLD_238_snRNA-D4/col_metadata.tsv\n"
     ]
    },
    {
     "name": "stderr",
     "output_type": "stream",
     "text": [
      "Downloading files:   0%|                                                                                                                                                      | 0.00/1.00 [00:25<?, ?B/s]"
     ]
    },
    {
     "name": "stdout",
     "output_type": "stream",
     "text": [
      "[syn53422264:col_metadata.tsv]: Copying existing file from /storage/my_disk/helical_coding_challenge/.synapsecache/729/132658729/col_metadata.tsv to /storage/my_disk/helical_coding_challenge/data/syn51105515/Processed Data/191112_ALS_127_snRNA-A4/col_metadata.tsv\n"
     ]
    },
    {
     "name": "stderr",
     "output_type": "stream",
     "text": [
      "Downloading files:   0%|                                                                                                                                                      | 0.00/1.00 [00:25<?, ?B/s]"
     ]
    },
    {
     "name": "stdout",
     "output_type": "stream",
     "text": [
      "[syn53421679:191113_FTLD_229_snRNA-E6]: Syncing Folder from Synapse.\n"
     ]
    },
    {
     "name": "stderr",
     "output_type": "stream",
     "text": [
      "Downloading files:   0%|                                                                                                                                                      | 0.00/1.00 [00:25<?, ?B/s]"
     ]
    },
    {
     "name": "stdout",
     "output_type": "stream",
     "text": [
      "[syn53422049:col_metadata.tsv]: Copying existing file from /storage/my_disk/helical_coding_challenge/.synapsecache/504/132658504/col_metadata.tsv to /storage/my_disk/helical_coding_challenge/data/syn51105515/Processed Data/191112_ALS_129_snRNA-A2/col_metadata.tsv\n"
     ]
    },
    {
     "name": "stderr",
     "output_type": "stream",
     "text": [
      "Downloading files:   0%|                                                                                                                                                      | 0.00/1.00 [00:25<?, ?B/s]"
     ]
    },
    {
     "name": "stdout",
     "output_type": "stream",
     "text": [
      "[syn53421783:200721_PN_302_snRNA-B4]: Syncing Folder from Synapse.\n"
     ]
    },
    {
     "name": "stderr",
     "output_type": "stream",
     "text": [
      "Downloading files:   0%|                                                                                                                                                      | 0.00/1.00 [00:25<?, ?B/s]"
     ]
    },
    {
     "name": "stdout",
     "output_type": "stream",
     "text": [
      "[syn53422248:counts_fil.mtx]: Copying existing file from /storage/my_disk/helical_coding_challenge/.synapsecache/712/132658712/counts_fil.mtx to /storage/my_disk/helical_coding_challenge/data/syn51105515/Processed Data/191112_ALS_124_snRNA-A3/counts_fil.mtx\n"
     ]
    },
    {
     "name": "stderr",
     "output_type": "stream",
     "text": [
      "Downloading files:   0%|                                                                                                                                                      | 0.00/1.00 [00:26<?, ?B/s]"
     ]
    },
    {
     "name": "stdout",
     "output_type": "stream",
     "text": [
      "[syn53421975:col_metadata.tsv]: Copying existing file from /storage/my_disk/helical_coding_challenge/.synapsecache/418/132658418/col_metadata.tsv to /storage/my_disk/helical_coding_challenge/data/syn51105515/Processed Data/210526_FTLD_240_snRNA-D6/col_metadata.tsv\n"
     ]
    },
    {
     "name": "stderr",
     "output_type": "stream",
     "text": [
      "Downloading files:   0%|                                                                                                                                                      | 0.00/1.00 [00:26<?, ?B/s]"
     ]
    },
    {
     "name": "stdout",
     "output_type": "stream",
     "text": [
      "[syn53421715:210526_PN_325_snRNA-F5]: Syncing Folder from Synapse.\n"
     ]
    },
    {
     "name": "stderr",
     "output_type": "stream",
     "text": [
      "Downloading files:   0%|                                                                                                                                                      | 0.00/1.00 [00:26<?, ?B/s]"
     ]
    },
    {
     "name": "stdout",
     "output_type": "stream",
     "text": [
      "[syn53421694:210526_ALS_102_snRNA-H6]: Syncing Folder from Synapse.\n"
     ]
    },
    {
     "name": "stderr",
     "output_type": "stream",
     "text": [
      "Downloading files:   0%|                                                                                                                                                      | 0.00/1.00 [00:26<?, ?B/s]"
     ]
    },
    {
     "name": "stdout",
     "output_type": "stream",
     "text": [
      "[syn53421668:210526_ALS_124_snRNA-A11]: Syncing Folder from Synapse.\n"
     ]
    },
    {
     "name": "stderr",
     "output_type": "stream",
     "text": [
      "Downloading files:   0%|                                                                                                                                                      | 0.00/1.00 [00:26<?, ?B/s]"
     ]
    },
    {
     "name": "stdout",
     "output_type": "stream",
     "text": [
      "[syn53422157:counts_fil.mtx]: Copying existing file from /storage/my_disk/helical_coding_challenge/.synapsecache/614/132658614/counts_fil.mtx to /storage/my_disk/helical_coding_challenge/data/syn51105515/Processed Data/191112_ALS_120_snRNA-A1/counts_fil.mtx\n"
     ]
    },
    {
     "name": "stderr",
     "output_type": "stream",
     "text": [
      "Downloading files:   0%|                                                                                                                                                      | 0.00/1.00 [00:27<?, ?B/s]"
     ]
    },
    {
     "name": "stdout",
     "output_type": "stream",
     "text": [
      "[syn53421642:210526_PN_319_snRNA-E5]: Syncing Folder from Synapse.\n"
     ]
    },
    {
     "name": "stderr",
     "output_type": "stream",
     "text": [
      "Downloading files:   0%|                                                                                                                                                      | 0.00/1.00 [00:27<?, ?B/s]"
     ]
    },
    {
     "name": "stdout",
     "output_type": "stream",
     "text": [
      "[syn53422086:row_metadata.tsv]: Copying existing file from /storage/my_disk/helical_coding_challenge/.synapsecache/423/132658423/row_metadata.tsv to /storage/my_disk/helical_coding_challenge/data/syn51105515/Processed Data/191112_ALS_111_snRNA-B10/row_metadata.tsv\n"
     ]
    },
    {
     "name": "stderr",
     "output_type": "stream",
     "text": [
      "Downloading files:   0%|                                                                                                                                                      | 0.00/1.00 [00:27<?, ?B/s]"
     ]
    },
    {
     "name": "stdout",
     "output_type": "stream",
     "text": [
      "[syn53422269:counts_fil.mtx]: Copying existing file from /storage/my_disk/helical_coding_challenge/.synapsecache/732/132658732/counts_fil.mtx to /storage/my_disk/helical_coding_challenge/data/syn51105515/Processed Data/210526_FTLD_238_snRNA-D4/counts_fil.mtx\n"
     ]
    },
    {
     "name": "stderr",
     "output_type": "stream",
     "text": [
      "Downloading files:   0%|                                                                                                                                                      | 0.00/1.00 [00:27<?, ?B/s]"
     ]
    },
    {
     "name": "stdout",
     "output_type": "stream",
     "text": [
      "[syn53417784:5_1_deg_pathway_BA4_SALS.xlsx]: Copying existing file from /storage/my_disk/helical_coding_challenge/.synapsecache/130/132640130/5_1_deg_pathway_BA4_SALS.xlsx to /storage/my_disk/helical_coding_challenge/data/syn51105515/Supplemental Materials/S05 - Pathway enrichments pan-neuronal/5_1_deg_pathway_BA4_SALS.xlsx\n"
     ]
    },
    {
     "name": "stderr",
     "output_type": "stream",
     "text": [
      "Downloading files:   0%|                                                                                                                                                      | 0.00/1.00 [00:27<?, ?B/s]"
     ]
    },
    {
     "name": "stdout",
     "output_type": "stream",
     "text": [
      "[syn53422095:col_metadata.tsv]: Copying existing file from /storage/my_disk/helical_coding_challenge/.synapsecache/550/132658550/col_metadata.tsv to /storage/my_disk/helical_coding_challenge/data/syn51105515/Processed Data/191112_ALS_111_snRNA-B10/col_metadata.tsv\n"
     ]
    },
    {
     "name": "stderr",
     "output_type": "stream",
     "text": [
      "Downloading files:   0%|                                                                                                                                                      | 0.00/1.00 [00:27<?, ?B/s]"
     ]
    },
    {
     "name": "stdout",
     "output_type": "stream",
     "text": [
      "[syn53421985:col_metadata.tsv]: Copying existing file from /storage/my_disk/helical_coding_challenge/.synapsecache/427/132658427/col_metadata.tsv to /storage/my_disk/helical_coding_challenge/data/syn51105515/Processed Data/210526_ALS_113_snRNA-A3/col_metadata.tsv\n"
     ]
    },
    {
     "name": "stderr",
     "output_type": "stream",
     "text": [
      "Downloading files:   0%|                                                                                                                                                      | 0.00/1.00 [00:27<?, ?B/s]"
     ]
    },
    {
     "name": "stdout",
     "output_type": "stream",
     "text": [
      "[syn53417859:10_3_txd_assoc_pty_BA4_SFTLD.xlsx]: Copying existing file from /storage/my_disk/helical_coding_challenge/.synapsecache/203/132640203/10_3_txd_assoc_pty_BA4_SFTLD.xlsx to /storage/my_disk/helical_coding_challenge/data/syn51105515/Supplemental Materials/S10 - TxD-associated pathway enrichments/10_3_txd_assoc_pty_BA4_SFTLD.xlsx\n"
     ]
    },
    {
     "name": "stderr",
     "output_type": "stream",
     "text": [
      "Downloading files:   0%|                                                                                                                                                      | 0.00/1.00 [00:27<?, ?B/s]"
     ]
    },
    {
     "name": "stdout",
     "output_type": "stream",
     "text": [
      "[syn53422110:row_metadata.tsv]: Copying existing file from /storage/my_disk/helical_coding_challenge/.synapsecache/423/132658423/row_metadata.tsv to /storage/my_disk/helical_coding_challenge/data/syn51105515/Processed Data/191112_ALS_114_snRNA-B12/row_metadata.tsv\n"
     ]
    },
    {
     "name": "stderr",
     "output_type": "stream",
     "text": [
      "Downloading files:   0%|                                                                                                                                                      | 0.00/1.00 [00:28<?, ?B/s]"
     ]
    },
    {
     "name": "stdout",
     "output_type": "stream",
     "text": [
      "[syn53422119:counts_fil.mtx]: Copying existing file from /storage/my_disk/helical_coding_challenge/.synapsecache/573/132658573/counts_fil.mtx to /storage/my_disk/helical_coding_challenge/data/syn51105515/Processed Data/191112_ALS_111_snRNA-B10/counts_fil.mtx\n"
     ]
    },
    {
     "name": "stderr",
     "output_type": "stream",
     "text": [
      "Downloading files:   0%|                                                                                                                                                      | 0.00/1.00 [00:29<?, ?B/s]"
     ]
    },
    {
     "name": "stdout",
     "output_type": "stream",
     "text": [
      "[syn53421782:210526_FTLD_204_snRNA-B6]: Syncing Folder from Synapse.\n"
     ]
    },
    {
     "name": "stderr",
     "output_type": "stream",
     "text": [
      "Downloading files:   0%|                                                                                                                                                      | 0.00/1.00 [00:29<?, ?B/s]"
     ]
    },
    {
     "name": "stdout",
     "output_type": "stream",
     "text": [
      "[syn53421779:210526_ALS_118_snRNA-A8]: Syncing Folder from Synapse.\n"
     ]
    },
    {
     "name": "stderr",
     "output_type": "stream",
     "text": [
      "Downloading files:   0%|                                                                                                                                                      | 0.00/1.00 [00:29<?, ?B/s]"
     ]
    },
    {
     "name": "stdout",
     "output_type": "stream",
     "text": [
      "[syn53421763:210526_ALS_127_snRNA-B1]: Syncing Folder from Synapse.\n"
     ]
    },
    {
     "name": "stderr",
     "output_type": "stream",
     "text": [
      "Downloading files:   0%|                                                                                                                                                      | 0.00/1.00 [00:29<?, ?B/s]"
     ]
    },
    {
     "name": "stdout",
     "output_type": "stream",
     "text": [
      "[syn53417826:7_5_deg_pathway_BA9_SALS.xlsx]: Copying existing file from /storage/my_disk/helical_coding_challenge/.synapsecache/172/132640172/7_5_deg_pathway_BA9_SALS.xlsx to /storage/my_disk/helical_coding_challenge/data/syn51105515/Supplemental Materials/S07 - Pathway enrichments by cell type/7_5_deg_pathway_BA9_SALS.xlsx\n"
     ]
    },
    {
     "name": "stderr",
     "output_type": "stream",
     "text": [
      "Downloading files:   0%|                                                                                                                                                      | 0.00/1.00 [00:29<?, ?B/s]"
     ]
    },
    {
     "name": "stdout",
     "output_type": "stream",
     "text": [
      "[syn53422116:row_metadata.tsv]: Copying existing file from /storage/my_disk/helical_coding_challenge/.synapsecache/423/132658423/row_metadata.tsv to /storage/my_disk/helical_coding_challenge/data/syn51105515/Processed Data/191112_ALS_120_snRNA-A1/row_metadata.tsv\n"
     ]
    },
    {
     "name": "stderr",
     "output_type": "stream",
     "text": [
      "Downloading files:   0%|                                                                                                                                                      | 0.00/1.00 [00:29<?, ?B/s]"
     ]
    },
    {
     "name": "stdout",
     "output_type": "stream",
     "text": [
      "[syn53422387:row_metadata.tsv]: Copying existing file from /storage/my_disk/helical_coding_challenge/.synapsecache/423/132658423/row_metadata.tsv to /storage/my_disk/helical_coding_challenge/data/syn51105515/Processed Data/191112_ALS_112_snRNA-D1/row_metadata.tsv\n"
     ]
    },
    {
     "name": "stderr",
     "output_type": "stream",
     "text": [
      "Downloading files:   0%|                                                                                                                                                      | 0.00/1.00 [00:29<?, ?B/s]"
     ]
    },
    {
     "name": "stdout",
     "output_type": "stream",
     "text": [
      "[syn53421703:191114_PN_318_snRNA-F3]: Syncing Folder from Synapse.\n"
     ]
    },
    {
     "name": "stderr",
     "output_type": "stream",
     "text": [
      "Downloading files:   0%|                                                                                                                                                      | 0.00/1.00 [00:29<?, ?B/s]"
     ]
    },
    {
     "name": "stdout",
     "output_type": "stream",
     "text": [
      "[syn53421647:210526_FTLD_202_snRNA-B5]: Syncing Folder from Synapse.\n"
     ]
    },
    {
     "name": "stderr",
     "output_type": "stream",
     "text": [
      "Downloading files:   0%|                                                                                                                                                      | 0.00/1.00 [00:29<?, ?B/s]"
     ]
    },
    {
     "name": "stdout",
     "output_type": "stream",
     "text": [
      "[syn53417866:10_8_txd_assoc_pty_BA9_C9FTLD.xlsx]: Copying existing file from /storage/my_disk/helical_coding_challenge/.synapsecache/210/132640210/10_8_txd_assoc_pty_BA9_C9FTLD.xlsx to /storage/my_disk/helical_coding_challenge/data/syn51105515/Supplemental Materials/S10 - TxD-associated pathway enrichments/10_8_txd_assoc_pty_BA9_C9FTLD.xlsx\n"
     ]
    },
    {
     "name": "stderr",
     "output_type": "stream",
     "text": [
      "Downloading files:   0%|                                                                                                                                                      | 0.00/1.00 [00:29<?, ?B/s]"
     ]
    },
    {
     "name": "stdout",
     "output_type": "stream",
     "text": [
      "[syn53421772:191114_PN_307_snRNA-E11]: Syncing Folder from Synapse.\n"
     ]
    },
    {
     "name": "stderr",
     "output_type": "stream",
     "text": [
      "Downloading files:   0%|                                                                                                                                                      | 0.00/1.00 [00:30<?, ?B/s]"
     ]
    },
    {
     "name": "stdout",
     "output_type": "stream",
     "text": [
      "[syn53422300:counts_fil.mtx]: Copying existing file from /storage/my_disk/helical_coding_challenge/.synapsecache/763/132658763/counts_fil.mtx to /storage/my_disk/helical_coding_challenge/data/syn51105515/Processed Data/210910_PFC_ALS_138_snRNA-D5/counts_fil.mtx\n"
     ]
    },
    {
     "name": "stderr",
     "output_type": "stream",
     "text": [
      "Downloading files:   0%|                                                                                                                                                      | 0.00/1.00 [00:32<?, ?B/s]"
     ]
    },
    {
     "name": "stdout",
     "output_type": "stream",
     "text": [
      "[syn53422354:counts_fil.mtx]: Copying existing file from /storage/my_disk/helical_coding_challenge/.synapsecache/825/132658825/counts_fil.mtx to /storage/my_disk/helical_coding_challenge/data/syn51105515/Processed Data/210526_FTLD_239_snRNA-D5/counts_fil.mtx\n"
     ]
    },
    {
     "name": "stderr",
     "output_type": "stream",
     "text": [
      "Downloading files:   0%|                                                                                                                                                      | 0.00/1.00 [00:33<?, ?B/s]"
     ]
    },
    {
     "name": "stdout",
     "output_type": "stream",
     "text": [
      "[syn53422207:counts_fil.mtx]: Copying existing file from /storage/my_disk/helical_coding_challenge/.synapsecache/667/132658667/counts_fil.mtx to /storage/my_disk/helical_coding_challenge/data/syn51105515/Processed Data/210526_PN_304_snRNA-D10/counts_fil.mtx\n"
     ]
    },
    {
     "name": "stderr",
     "output_type": "stream",
     "text": [
      "Downloading files:   0%|                                                                                                                                                      | 0.00/1.00 [00:33<?, ?B/s]"
     ]
    },
    {
     "name": "stdout",
     "output_type": "stream",
     "text": [
      "[syn53417792:5_8_deg_pathway_BA9_C9FTLD.xlsx]: Copying existing file from /storage/my_disk/helical_coding_challenge/.synapsecache/138/132640138/5_8_deg_pathway_BA9_C9FTLD.xlsx to /storage/my_disk/helical_coding_challenge/data/syn51105515/Supplemental Materials/S05 - Pathway enrichments pan-neuronal/5_8_deg_pathway_BA9_C9FTLD.xlsx\n"
     ]
    },
    {
     "name": "stderr",
     "output_type": "stream",
     "text": [
      "Downloading files:   0%|                                                                                                                                                      | 0.00/1.00 [00:33<?, ?B/s]"
     ]
    },
    {
     "name": "stdout",
     "output_type": "stream",
     "text": [
      "[syn53422002:col_metadata.tsv]: Copying existing file from /storage/my_disk/helical_coding_challenge/.synapsecache/454/132658454/col_metadata.tsv to /storage/my_disk/helical_coding_challenge/data/syn51105515/Processed Data/191112_ALS_115_snRNA-C1/col_metadata.tsv\n"
     ]
    },
    {
     "name": "stderr",
     "output_type": "stream",
     "text": [
      "Downloading files:   0%|                                                                                                                                                      | 0.00/1.00 [00:33<?, ?B/s]"
     ]
    },
    {
     "name": "stdout",
     "output_type": "stream",
     "text": [
      "[syn53422047:col_metadata.tsv]: Copying existing file from /storage/my_disk/helical_coding_challenge/.synapsecache/501/132658501/col_metadata.tsv to /storage/my_disk/helical_coding_challenge/data/syn51105515/Processed Data/201019_PN_311_snRNA-B8/col_metadata.tsv\n"
     ]
    },
    {
     "name": "stderr",
     "output_type": "stream",
     "text": [
      "Downloading files:   0%|                                                                                                                                                      | 0.00/1.00 [00:33<?, ?B/s]"
     ]
    },
    {
     "name": "stdout",
     "output_type": "stream",
     "text": [
      "[syn53422072:counts_fil.mtx]: Copying existing file from /storage/my_disk/helical_coding_challenge/.synapsecache/526/132658526/counts_fil.mtx to /storage/my_disk/helical_coding_challenge/data/syn51105515/Processed Data/210526_PN_318_snRNA-H12/counts_fil.mtx\n"
     ]
    },
    {
     "name": "stderr",
     "output_type": "stream",
     "text": [
      "Downloading files:   0%|                                                                                                                                                      | 0.00/1.00 [00:34<?, ?B/s]"
     ]
    },
    {
     "name": "stdout",
     "output_type": "stream",
     "text": [
      "[syn53422259:counts_fil.mtx]: Copying existing file from /storage/my_disk/helical_coding_challenge/.synapsecache/722/132658722/counts_fil.mtx to /storage/my_disk/helical_coding_challenge/data/syn51105515/Processed Data/210910_MCX_ALS_133_snRNA-C4/counts_fil.mtx\n"
     ]
    },
    {
     "name": "stderr",
     "output_type": "stream",
     "text": [
      "Downloading files:   0%|                                                                                                                                                      | 0.00/1.00 [00:36<?, ?B/s]"
     ]
    },
    {
     "name": "stdout",
     "output_type": "stream",
     "text": [
      "[syn53422121:col_metadata.tsv]: Copying existing file from /storage/my_disk/helical_coding_challenge/.synapsecache/578/132658578/col_metadata.tsv to /storage/my_disk/helical_coding_challenge/data/syn51105515/Processed Data/191112_ALS_114_snRNA-B12/col_metadata.tsv\n"
     ]
    },
    {
     "name": "stderr",
     "output_type": "stream",
     "text": [
      "Downloading files:   0%|                                                                                                                                                      | 0.00/1.00 [00:36<?, ?B/s]"
     ]
    },
    {
     "name": "stdout",
     "output_type": "stream",
     "text": [
      "[syn53421691:220616_BL6_MCX_snRNA-A1]: Syncing Folder from Synapse.\n"
     ]
    },
    {
     "name": "stderr",
     "output_type": "stream",
     "text": [
      "Downloading files:   0%|                                                                                                                                                      | 0.00/1.00 [00:36<?, ?B/s]"
     ]
    },
    {
     "name": "stdout",
     "output_type": "stream",
     "text": [
      "[syn53422352:col_metadata.tsv]: Copying existing file from /storage/my_disk/helical_coding_challenge/.synapsecache/822/132658822/col_metadata.tsv to /storage/my_disk/helical_coding_challenge/data/syn51105515/Processed Data/191112_ALS_117_snRNA-C3/col_metadata.tsv\n"
     ]
    },
    {
     "name": "stderr",
     "output_type": "stream",
     "text": [
      "Downloading files:   0%|                                                                                                                                                      | 0.00/1.00 [00:36<?, ?B/s]"
     ]
    },
    {
     "name": "stdout",
     "output_type": "stream",
     "text": [
      "[syn53421667:210526_ALS_108_snRNA-H10]: Syncing Folder from Synapse.\n"
     ]
    },
    {
     "name": "stderr",
     "output_type": "stream",
     "text": [
      "Downloading files:   0%|                                                                                                                                                      | 0.00/1.00 [00:36<?, ?B/s]"
     ]
    },
    {
     "name": "stdout",
     "output_type": "stream",
     "text": [
      "[syn53422332:counts_fil.mtx]: Copying existing file from /storage/my_disk/helical_coding_challenge/.synapsecache/801/132658801/counts_fil.mtx to /storage/my_disk/helical_coding_challenge/data/syn51105515/Processed Data/220616_BL6_MCX_snRNA-H11/counts_fil.mtx\n"
     ]
    },
    {
     "name": "stderr",
     "output_type": "stream",
     "text": [
      "Downloading files:   0%|                                                                                                                                                      | 0.00/1.00 [00:37<?, ?B/s]"
     ]
    },
    {
     "name": "stdout",
     "output_type": "stream",
     "text": [
      "[syn53422120:col_metadata.tsv]: Copying existing file from /storage/my_disk/helical_coding_challenge/.synapsecache/576/132658576/col_metadata.tsv to /storage/my_disk/helical_coding_challenge/data/syn51105515/Processed Data/201025_FTLD_232_snRNA-C5/col_metadata.tsv\n"
     ]
    },
    {
     "name": "stderr",
     "output_type": "stream",
     "text": [
      "Downloading files:   0%|                                                                                                                                                      | 0.00/1.00 [00:38<?, ?B/s]"
     ]
    },
    {
     "name": "stdout",
     "output_type": "stream",
     "text": [
      "[syn53422370:row_metadata.tsv]: Copying existing file from /storage/my_disk/helical_coding_challenge/.synapsecache/423/132658423/row_metadata.tsv to /storage/my_disk/helical_coding_challenge/data/syn51105515/Processed Data/210526_PN_317_snRNA-E4/row_metadata.tsv\n"
     ]
    },
    {
     "name": "stderr",
     "output_type": "stream",
     "text": [
      "Downloading files:   0%|                                                                                                                                                      | 0.00/1.00 [00:38<?, ?B/s]"
     ]
    },
    {
     "name": "stdout",
     "output_type": "stream",
     "text": [
      "[syn53422327:counts_fil.mtx]: Copying existing file from /storage/my_disk/helical_coding_challenge/.synapsecache/792/132658792/counts_fil.mtx to /storage/my_disk/helical_coding_challenge/data/syn51105515/Processed Data/201019_ALS_113_snRNA-B7/counts_fil.mtx\n"
     ]
    },
    {
     "name": "stderr",
     "output_type": "stream",
     "text": [
      "Downloading files:   0%|                                                                                                                                                      | 0.00/1.00 [00:39<?, ?B/s]"
     ]
    },
    {
     "name": "stdout",
     "output_type": "stream",
     "text": [
      "[syn53422130:counts_fil.mtx]: Copying existing file from /storage/my_disk/helical_coding_challenge/.synapsecache/587/132658587/counts_fil.mtx to /storage/my_disk/helical_coding_challenge/data/syn51105515/Processed Data/201025_FTLD_232_snRNA-C5/counts_fil.mtx\n"
     ]
    },
    {
     "name": "stderr",
     "output_type": "stream",
     "text": [
      "Downloading files:   0%|                                                                                                                                                      | 0.00/1.00 [00:40<?, ?B/s]"
     ]
    },
    {
     "name": "stdout",
     "output_type": "stream",
     "text": [
      "[syn53422239:col_metadata.tsv]: Copying existing file from /storage/my_disk/helical_coding_challenge/.synapsecache/703/132658703/col_metadata.tsv to /storage/my_disk/helical_coding_challenge/data/syn51105515/Processed Data/191112_ALS_124_snRNA-A3/col_metadata.tsv\n"
     ]
    },
    {
     "name": "stderr",
     "output_type": "stream",
     "text": [
      "Downloading files:   0%|                                                                                                                                                      | 0.00/1.00 [00:40<?, ?B/s]"
     ]
    },
    {
     "name": "stdout",
     "output_type": "stream",
     "text": [
      "[syn53422257:col_metadata.tsv]: Copying existing file from /storage/my_disk/helical_coding_challenge/.synapsecache/723/132658723/col_metadata.tsv to /storage/my_disk/helical_coding_challenge/data/syn51105515/Processed Data/210526_ALS_114_snRNA-A4/col_metadata.tsv\n"
     ]
    },
    {
     "name": "stderr",
     "output_type": "stream",
     "text": [
      "Downloading files:   0%|                                                                                                                                                      | 0.00/1.00 [00:40<?, ?B/s]"
     ]
    },
    {
     "name": "stdout",
     "output_type": "stream",
     "text": [
      "[syn53421788:210526_FTLD_206_snRNA-B7]: Syncing Folder from Synapse.\n"
     ]
    },
    {
     "name": "stderr",
     "output_type": "stream",
     "text": [
      "Downloading files:   0%|                                                                                                                                                      | 0.00/1.00 [00:40<?, ?B/s]"
     ]
    },
    {
     "name": "stdout",
     "output_type": "stream",
     "text": [
      "[syn53422033:row_metadata.tsv]: Copying existing file from /storage/my_disk/helical_coding_challenge/.synapsecache/423/132658423/row_metadata.tsv to /storage/my_disk/helical_coding_challenge/data/syn51105515/Processed Data/201019_PN_311_snRNA-B8/row_metadata.tsv\n"
     ]
    },
    {
     "name": "stderr",
     "output_type": "stream",
     "text": [
      "Downloading files:   0%|                                                                                                                                                      | 0.00/1.00 [00:40<?, ?B/s]"
     ]
    },
    {
     "name": "stdout",
     "output_type": "stream",
     "text": [
      "[syn53417785:5_2_deg_pathway_BA4_C9ALS.xlsx]: Copying existing file from /storage/my_disk/helical_coding_challenge/.synapsecache/132/132640132/5_2_deg_pathway_BA4_C9ALS.xlsx to /storage/my_disk/helical_coding_challenge/data/syn51105515/Supplemental Materials/S05 - Pathway enrichments pan-neuronal/5_2_deg_pathway_BA4_C9ALS.xlsx\n"
     ]
    },
    {
     "name": "stderr",
     "output_type": "stream",
     "text": [
      "Downloading files:   0%|                                                                                                                                                      | 0.00/1.00 [00:40<?, ?B/s]"
     ]
    },
    {
     "name": "stdout",
     "output_type": "stream",
     "text": [
      "[syn53422166:col_metadata.tsv]: Copying existing file from /storage/my_disk/helical_coding_challenge/.synapsecache/624/132658624/col_metadata.tsv to /storage/my_disk/helical_coding_challenge/data/syn51105515/Processed Data/210526_ALS_103_snRNA-H7/col_metadata.tsv\n"
     ]
    },
    {
     "name": "stderr",
     "output_type": "stream",
     "text": [
      "Downloading files:   0%|                                                                                                                                                      | 0.00/1.00 [00:40<?, ?B/s]"
     ]
    },
    {
     "name": "stdout",
     "output_type": "stream",
     "text": [
      "[syn53421973:row_metadata.tsv]: Copying existing file from /storage/my_disk/helical_coding_challenge/.synapsecache/416/132658416/row_metadata.tsv to /storage/my_disk/helical_coding_challenge/data/syn51105515/Processed Data/210526_ALS_113_snRNA-A3/row_metadata.tsv\n"
     ]
    },
    {
     "name": "stderr",
     "output_type": "stream",
     "text": [
      "Downloading files:   0%|                                                                                                                                                      | 0.00/1.00 [00:40<?, ?B/s]"
     ]
    },
    {
     "name": "stdout",
     "output_type": "stream",
     "text": [
      "[syn53422099:counts_fil.mtx]: Copying existing file from /storage/my_disk/helical_coding_challenge/.synapsecache/554/132658554/counts_fil.mtx to /storage/my_disk/helical_coding_challenge/data/syn51105515/Processed Data/210526_PN_307_snRNA-D12/counts_fil.mtx\n"
     ]
    },
    {
     "name": "stderr",
     "output_type": "stream",
     "text": [
      "Downloading files:   0%|                                                                                                                                                      | 0.00/1.00 [00:40<?, ?B/s]"
     ]
    },
    {
     "name": "stdout",
     "output_type": "stream",
     "text": [
      "[syn53417769:4_2_deg_res_BA4_C9ALS.xlsx]: Copying existing file from /storage/my_disk/helical_coding_challenge/.synapsecache/116/132640116/4_2_deg_res_BA4_C9ALS.xlsx to /storage/my_disk/helical_coding_challenge/data/syn51105515/Supplemental Materials/S04 - DEGs pan-neuronal/4_2_deg_res_BA4_C9ALS.xlsx\n"
     ]
    },
    {
     "name": "stderr",
     "output_type": "stream",
     "text": [
      "Downloading files:   0%|                                                                                                                                                      | 0.00/1.00 [00:41<?, ?B/s]"
     ]
    },
    {
     "name": "stdout",
     "output_type": "stream",
     "text": [
      "[syn53422137:counts_fil.mtx]: Copying existing file from /storage/my_disk/helical_coding_challenge/.synapsecache/591/132658591/counts_fil.mtx to /storage/my_disk/helical_coding_challenge/data/syn51105515/Processed Data/191112_ALS_114_snRNA-B12/counts_fil.mtx\n"
     ]
    },
    {
     "name": "stderr",
     "output_type": "stream",
     "text": [
      "Downloading files:   0%|                                                                                                                                                      | 0.00/1.00 [00:42<?, ?B/s]"
     ]
    },
    {
     "name": "stdout",
     "output_type": "stream",
     "text": [
      "[syn53422060:col_metadata.tsv]: Copying existing file from /storage/my_disk/helical_coding_challenge/.synapsecache/515/132658515/col_metadata.tsv to /storage/my_disk/helical_coding_challenge/data/syn51105515/Processed Data/210526_PN_318_snRNA-H12/col_metadata.tsv\n"
     ]
    },
    {
     "name": "stderr",
     "output_type": "stream",
     "text": [
      "Downloading files:   0%|                                                                                                                                                      | 0.00/1.00 [00:42<?, ?B/s]"
     ]
    },
    {
     "name": "stdout",
     "output_type": "stream",
     "text": [
      "[syn53422333:row_metadata.tsv]: Copying existing file from /storage/my_disk/helical_coding_challenge/.synapsecache/423/132658423/row_metadata.tsv to /storage/my_disk/helical_coding_challenge/data/syn51105515/Processed Data/191112_ALS_117_snRNA-C3/row_metadata.tsv\n"
     ]
    },
    {
     "name": "stderr",
     "output_type": "stream",
     "text": [
      "Downloading files:   0%|                                                                                                                                                      | 0.00/1.00 [00:42<?, ?B/s]"
     ]
    },
    {
     "name": "stdout",
     "output_type": "stream",
     "text": [
      "[syn53422244:row_metadata.tsv]: Copying existing file from /storage/my_disk/helical_coding_challenge/.synapsecache/423/132658423/row_metadata.tsv to /storage/my_disk/helical_coding_challenge/data/syn51105515/Processed Data/210526_FTLD_238_snRNA-D4/row_metadata.tsv\n"
     ]
    },
    {
     "name": "stderr",
     "output_type": "stream",
     "text": [
      "Downloading files:   0%|                                                                                                                                                      | 0.00/1.00 [00:42<?, ?B/s]"
     ]
    },
    {
     "name": "stdout",
     "output_type": "stream",
     "text": [
      "[syn53422238:col_metadata.tsv]: Copying existing file from /storage/my_disk/helical_coding_challenge/.synapsecache/702/132658702/col_metadata.tsv to /storage/my_disk/helical_coding_challenge/data/syn51105515/Processed Data/210526_ALS_117_snRNA-A7/col_metadata.tsv\n"
     ]
    },
    {
     "name": "stderr",
     "output_type": "stream",
     "text": [
      "Downloading files:   0%|                                                                                                                                                      | 0.00/1.00 [00:42<?, ?B/s]"
     ]
    },
    {
     "name": "stdout",
     "output_type": "stream",
     "text": [
      "[syn53422372:col_metadata.tsv]: Copying existing file from /storage/my_disk/helical_coding_challenge/.synapsecache/840/132658840/col_metadata.tsv to /storage/my_disk/helical_coding_challenge/data/syn51105515/Processed Data/210910_PFC_ALS_136_snRNA-D3/col_metadata.tsv\n"
     ]
    },
    {
     "name": "stderr",
     "output_type": "stream",
     "text": [
      "Downloading files:   0%|                                                                                                                                                      | 0.00/1.00 [00:42<?, ?B/s]"
     ]
    },
    {
     "name": "stdout",
     "output_type": "stream",
     "text": [
      "[syn53422192:row_metadata.tsv]: Copying existing file from /storage/my_disk/helical_coding_challenge/.synapsecache/423/132658423/row_metadata.tsv to /storage/my_disk/helical_coding_challenge/data/syn51105515/Processed Data/210910_PFC_ALS_133_snRNA-C12/row_metadata.tsv\n"
     ]
    },
    {
     "name": "stderr",
     "output_type": "stream",
     "text": [
      "Downloading files:   0%|                                                                                                                                                      | 0.00/1.00 [00:42<?, ?B/s]"
     ]
    },
    {
     "name": "stdout",
     "output_type": "stream",
     "text": [
      "[syn53422412:counts_fil.mtx]: Copying existing file from /storage/my_disk/helical_coding_challenge/.synapsecache/884/132658884/counts_fil.mtx to /storage/my_disk/helical_coding_challenge/data/syn51105515/Processed Data/191112_ALS_112_snRNA-D1/counts_fil.mtx\n"
     ]
    },
    {
     "name": "stderr",
     "output_type": "stream",
     "text": [
      "Downloading files:   0%|                                                                                                                                                      | 0.00/1.00 [00:43<?, ?B/s]"
     ]
    },
    {
     "name": "stdout",
     "output_type": "stream",
     "text": [
      "[syn53422337:counts_fil.mtx]: Copying existing file from /storage/my_disk/helical_coding_challenge/.synapsecache/802/132658802/counts_fil.mtx to /storage/my_disk/helical_coding_challenge/data/syn51105515/Processed Data/210526_ALS_110_snRNA-H11/counts_fil.mtx\n"
     ]
    },
    {
     "name": "stderr",
     "output_type": "stream",
     "text": [
      "Downloading files:   0%|                                                                                                                                                      | 0.00/1.00 [00:45<?, ?B/s]"
     ]
    },
    {
     "name": "stdout",
     "output_type": "stream",
     "text": [
      "[syn53422423:col_metadata.tsv]: Copying existing file from /storage/my_disk/helical_coding_challenge/.synapsecache/902/132658902/col_metadata.tsv to /storage/my_disk/helical_coding_challenge/data/syn51105515/Processed Data/191112_ALS_116_snRNA-C2/col_metadata.tsv\n"
     ]
    },
    {
     "name": "stderr",
     "output_type": "stream",
     "text": [
      "Downloading files:   0%|                                                                                                                                                      | 0.00/1.00 [00:45<?, ?B/s]"
     ]
    },
    {
     "name": "stdout",
     "output_type": "stream",
     "text": [
      "[syn53422395:col_metadata.tsv]: Copying existing file from /storage/my_disk/helical_coding_challenge/.synapsecache/864/132658864/col_metadata.tsv to /storage/my_disk/helical_coding_challenge/data/syn51105515/Processed Data/210910_MCX_ALS_138_snRNA-C9/col_metadata.tsv\n"
     ]
    },
    {
     "name": "stderr",
     "output_type": "stream",
     "text": [
      "Downloading files:   0%|                                                                                                                                                      | 0.00/1.00 [00:45<?, ?B/s]"
     ]
    },
    {
     "name": "stdout",
     "output_type": "stream",
     "text": [
      "[syn53422245:col_metadata.tsv]: Copying existing file from /storage/my_disk/helical_coding_challenge/.synapsecache/709/132658709/col_metadata.tsv to /storage/my_disk/helical_coding_challenge/data/syn51105515/Processed Data/210910_MCX_ALS_133_snRNA-C4/col_metadata.tsv\n"
     ]
    },
    {
     "name": "stderr",
     "output_type": "stream",
     "text": [
      "Downloading files:   0%|                                                                                                                                                      | 0.00/1.00 [00:45<?, ?B/s]"
     ]
    },
    {
     "name": "stdout",
     "output_type": "stream",
     "text": [
      "[syn53422307:col_metadata.tsv]: Copying existing file from /storage/my_disk/helical_coding_challenge/.synapsecache/773/132658773/col_metadata.tsv to /storage/my_disk/helical_coding_challenge/data/syn51105515/Processed Data/201019_ALS_113_snRNA-B7/col_metadata.tsv\n"
     ]
    },
    {
     "name": "stderr",
     "output_type": "stream",
     "text": [
      "Downloading files:   0%|                                                                                                                                                      | 0.00/1.00 [00:45<?, ?B/s]"
     ]
    },
    {
     "name": "stdout",
     "output_type": "stream",
     "text": [
      "[syn53422237:row_metadata.tsv]: Copying existing file from /storage/my_disk/helical_coding_challenge/.synapsecache/423/132658423/row_metadata.tsv to /storage/my_disk/helical_coding_challenge/data/syn51105515/Processed Data/191112_ALS_127_snRNA-A4/row_metadata.tsv\n"
     ]
    },
    {
     "name": "stderr",
     "output_type": "stream",
     "text": [
      "Downloading files:   0%|                                                                                                                                                      | 0.00/1.00 [00:45<?, ?B/s]"
     ]
    },
    {
     "name": "stdout",
     "output_type": "stream",
     "text": [
      "[syn53422234:row_metadata.tsv]: Copying existing file from /storage/my_disk/helical_coding_challenge/.synapsecache/423/132658423/row_metadata.tsv to /storage/my_disk/helical_coding_challenge/data/syn51105515/Processed Data/191112_ALS_118_snRNA-C4/row_metadata.tsv\n"
     ]
    },
    {
     "name": "stderr",
     "output_type": "stream",
     "text": [
      "Downloading files:   0%|                                                                                                                                                      | 0.00/1.00 [00:45<?, ?B/s]"
     ]
    },
    {
     "name": "stdout",
     "output_type": "stream",
     "text": [
      "[syn53422375:row_metadata.tsv]: Copying existing file from /storage/my_disk/helical_coding_challenge/.synapsecache/423/132658423/row_metadata.tsv to /storage/my_disk/helical_coding_challenge/data/syn51105515/Processed Data/210910_MCX_ALS_138_snRNA-C9/row_metadata.tsv\n"
     ]
    },
    {
     "name": "stderr",
     "output_type": "stream",
     "text": [
      "Downloading files:   0%|                                                                                                                                                      | 0.00/1.00 [00:45<?, ?B/s]"
     ]
    },
    {
     "name": "stdout",
     "output_type": "stream",
     "text": [
      "[syn53422334:col_metadata.tsv]: Copying existing file from /storage/my_disk/helical_coding_challenge/.synapsecache/804/132658804/col_metadata.tsv to /storage/my_disk/helical_coding_challenge/data/syn51105515/Processed Data/210526_PN_328_snRNA-F6/col_metadata.tsv\n"
     ]
    },
    {
     "name": "stderr",
     "output_type": "stream",
     "text": [
      "Downloading files:   0%|                                                                                                                                                      | 0.00/1.00 [00:46<?, ?B/s]"
     ]
    },
    {
     "name": "stdout",
     "output_type": "stream",
     "text": [
      "[syn53422062:counts_fil.mtx]: Copying existing file from /storage/my_disk/helical_coding_challenge/.synapsecache/517/132658517/counts_fil.mtx to /storage/my_disk/helical_coding_challenge/data/syn51105515/Processed Data/191112_ALS_129_snRNA-A2/counts_fil.mtx\n"
     ]
    },
    {
     "name": "stderr",
     "output_type": "stream",
     "text": [
      "Downloading files:   0%|                                                                                                                                                      | 0.00/1.00 [00:47<?, ?B/s]"
     ]
    },
    {
     "name": "stdout",
     "output_type": "stream",
     "text": [
      "[syn53422081:col_metadata.tsv]: Copying existing file from /storage/my_disk/helical_coding_challenge/.synapsecache/536/132658536/col_metadata.tsv to /storage/my_disk/helical_coding_challenge/data/syn51105515/Processed Data/201025_FTLD_234_snRNA-C6/col_metadata.tsv\n"
     ]
    },
    {
     "name": "stderr",
     "output_type": "stream",
     "text": [
      "Downloading files:   0%|                                                                                                                                                      | 0.00/1.00 [00:47<?, ?B/s]"
     ]
    },
    {
     "name": "stdout",
     "output_type": "stream",
     "text": [
      "[syn53422287:row_metadata.tsv]: Copying existing file from /storage/my_disk/helical_coding_challenge/.synapsecache/423/132658423/row_metadata.tsv to /storage/my_disk/helical_coding_challenge/data/syn51105515/Processed Data/210526_ALS_110_snRNA-H11/row_metadata.tsv\n"
     ]
    },
    {
     "name": "stderr",
     "output_type": "stream",
     "text": [
      "Downloading files:   0%|                                                                                                                                                      | 0.00/1.00 [00:47<?, ?B/s]"
     ]
    },
    {
     "name": "stdout",
     "output_type": "stream",
     "text": [
      "[syn53422016:col_metadata.tsv]: Copying existing file from /storage/my_disk/helical_coding_challenge/.synapsecache/467/132658467/col_metadata.tsv to /storage/my_disk/helical_coding_challenge/data/syn51105515/Processed Data/220616_BL6_MCX_snRNA-H10/col_metadata.tsv\n"
     ]
    },
    {
     "name": "stderr",
     "output_type": "stream",
     "text": [
      "Downloading files:   0%|                                                                                                                                                      | 0.00/1.00 [00:47<?, ?B/s]"
     ]
    },
    {
     "name": "stdout",
     "output_type": "stream",
     "text": [
      "[syn53422208:col_metadata.tsv]: Copying existing file from /storage/my_disk/helical_coding_challenge/.synapsecache/668/132658668/col_metadata.tsv to /storage/my_disk/helical_coding_challenge/data/syn51105515/Processed Data/210910_PFC_ALS_133_snRNA-C12/col_metadata.tsv\n"
     ]
    },
    {
     "name": "stderr",
     "output_type": "stream",
     "text": [
      "Downloading files:   0%|                                                                                                                                                      | 0.00/1.00 [00:47<?, ?B/s]"
     ]
    },
    {
     "name": "stdout",
     "output_type": "stream",
     "text": [
      "[syn53422233:row_metadata.tsv]: Copying existing file from /storage/my_disk/helical_coding_challenge/.synapsecache/423/132658423/row_metadata.tsv to /storage/my_disk/helical_coding_challenge/data/syn51105515/Processed Data/210910_MCX_ALS_133_snRNA-C4/row_metadata.tsv\n"
     ]
    },
    {
     "name": "stderr",
     "output_type": "stream",
     "text": [
      "Downloading files:   0%|                                                                                                                                                      | 0.00/1.00 [00:47<?, ?B/s]"
     ]
    },
    {
     "name": "stdout",
     "output_type": "stream",
     "text": [
      "[syn53421999:row_metadata.tsv]: Copying existing file from /storage/my_disk/helical_coding_challenge/.synapsecache/425/132658425/row_metadata.tsv to /storage/my_disk/helical_coding_challenge/data/syn51105515/Processed Data/220616_BL6_MCX_snRNA-H10/row_metadata.tsv\n"
     ]
    },
    {
     "name": "stderr",
     "output_type": "stream",
     "text": [
      "Downloading files:   0%|                                                                                                                                                      | 0.00/1.00 [00:47<?, ?B/s]"
     ]
    },
    {
     "name": "stdout",
     "output_type": "stream",
     "text": [
      "[syn53422308:row_metadata.tsv]: Copying existing file from /storage/my_disk/helical_coding_challenge/.synapsecache/425/132658425/row_metadata.tsv to /storage/my_disk/helical_coding_challenge/data/syn51105515/Processed Data/220616_BL6_MCX_snRNA-H11/row_metadata.tsv\n"
     ]
    },
    {
     "name": "stderr",
     "output_type": "stream",
     "text": [
      "Downloading files:   0%|                                                                                                                                                      | 0.00/1.00 [00:47<?, ?B/s]"
     ]
    },
    {
     "name": "stdout",
     "output_type": "stream",
     "text": [
      "[syn53422227:row_metadata.tsv]: Copying existing file from /storage/my_disk/helical_coding_challenge/.synapsecache/423/132658423/row_metadata.tsv to /storage/my_disk/helical_coding_challenge/data/syn51105515/Processed Data/191112_ALS_124_snRNA-A3/row_metadata.tsv\n"
     ]
    },
    {
     "name": "stderr",
     "output_type": "stream",
     "text": [
      "Downloading files:   0%|                                                                                                                                                      | 0.00/1.00 [00:47<?, ?B/s]"
     ]
    },
    {
     "name": "stdout",
     "output_type": "stream",
     "text": [
      "[syn53422246:col_metadata.tsv]: Copying existing file from /storage/my_disk/helical_coding_challenge/.synapsecache/711/132658711/col_metadata.tsv to /storage/my_disk/helical_coding_challenge/data/syn51105515/Processed Data/191112_ALS_118_snRNA-C4/col_metadata.tsv\n"
     ]
    },
    {
     "name": "stderr",
     "output_type": "stream",
     "text": [
      "Downloading files:   0%|                                                                                                                                                      | 0.00/1.00 [00:47<?, ?B/s]"
     ]
    },
    {
     "name": "stdout",
     "output_type": "stream",
     "text": [
      "[syn53422008:counts_fil.mtx]: Copying existing file from /storage/my_disk/helical_coding_challenge/.synapsecache/460/132658460/counts_fil.mtx to /storage/my_disk/helical_coding_challenge/data/syn51105515/Processed Data/210526_FTLD_240_snRNA-D6/counts_fil.mtx\n"
     ]
    },
    {
     "name": "stderr",
     "output_type": "stream",
     "text": [
      "Downloading files:   0%|                                                                                                                                                      | 0.00/1.00 [00:47<?, ?B/s]"
     ]
    },
    {
     "name": "stdout",
     "output_type": "stream",
     "text": [
      "[syn53422184:col_metadata.tsv]: Copying existing file from /storage/my_disk/helical_coding_challenge/.synapsecache/645/132658645/col_metadata.tsv to /storage/my_disk/helical_coding_challenge/data/syn51105515/Processed Data/210910_MCX_ALS_139_snRNA-D6/col_metadata.tsv\n"
     ]
    },
    {
     "name": "stderr",
     "output_type": "stream",
     "text": [
      "Downloading files:   0%|                                                                                                                                                      | 0.00/1.00 [00:48<?, ?B/s]"
     ]
    },
    {
     "name": "stdout",
     "output_type": "stream",
     "text": [
      "[syn53422289:counts_fil.mtx]: Copying existing file from /storage/my_disk/helical_coding_challenge/.synapsecache/753/132658753/counts_fil.mtx to /storage/my_disk/helical_coding_challenge/data/syn51105515/Processed Data/191112_ALS_118_snRNA-C4/counts_fil.mtx\n"
     ]
    },
    {
     "name": "stderr",
     "output_type": "stream",
     "text": [
      "Downloading files:   0%|                                                                                                                                                      | 0.00/1.00 [00:50<?, ?B/s]"
     ]
    },
    {
     "name": "stdout",
     "output_type": "stream",
     "text": [
      "[syn53422335:counts_fil.mtx]: Copying existing file from /storage/my_disk/helical_coding_challenge/.synapsecache/803/132658803/counts_fil.mtx to /storage/my_disk/helical_coding_challenge/data/syn51105515/Processed Data/210526_PN_328_snRNA-F6/counts_fil.mtx\n"
     ]
    },
    {
     "name": "stderr",
     "output_type": "stream",
     "text": [
      "Downloading files:   0%|                                                                                                                                                      | 0.00/1.00 [00:51<?, ?B/s]"
     ]
    },
    {
     "name": "stdout",
     "output_type": "stream",
     "text": [
      "[syn53422191:counts_fil.mtx]: Copying existing file from /storage/my_disk/helical_coding_challenge/.synapsecache/653/132658653/counts_fil.mtx to /storage/my_disk/helical_coding_challenge/data/syn51105515/Processed Data/210526_ALS_103_snRNA-H7/counts_fil.mtx\n"
     ]
    },
    {
     "name": "stderr",
     "output_type": "stream",
     "text": [
      "Downloading files:   0%|                                                                                                                                                      | 0.00/1.00 [00:53<?, ?B/s]"
     ]
    },
    {
     "name": "stdout",
     "output_type": "stream",
     "text": [
      "[syn53422133:counts_fil.mtx]: Copying existing file from /storage/my_disk/helical_coding_challenge/.synapsecache/588/132658588/counts_fil.mtx to /storage/my_disk/helical_coding_challenge/data/syn51105515/Processed Data/210910_PFC_ALS_132_snRNA-C11/counts_fil.mtx\n"
     ]
    },
    {
     "name": "stderr",
     "output_type": "stream",
     "text": [
      "Downloading files:   0%|                                                                                                                                                      | 0.00/1.00 [00:54<?, ?B/s]"
     ]
    },
    {
     "name": "stdout",
     "output_type": "stream",
     "text": [
      "[syn53422392:row_metadata.tsv]: Copying existing file from /storage/my_disk/helical_coding_challenge/.synapsecache/423/132658423/row_metadata.tsv to /storage/my_disk/helical_coding_challenge/data/syn51105515/Processed Data/210526_PN_303_snRNA-D9/row_metadata.tsv\n"
     ]
    },
    {
     "name": "stderr",
     "output_type": "stream",
     "text": [
      "Downloading files:   0%|                                                                                                                                                      | 0.00/1.00 [00:54<?, ?B/s]"
     ]
    },
    {
     "name": "stdout",
     "output_type": "stream",
     "text": [
      "[syn53422128:col_metadata.tsv]: Copying existing file from /storage/my_disk/helical_coding_challenge/.synapsecache/586/132658586/col_metadata.tsv to /storage/my_disk/helical_coding_challenge/data/syn51105515/Processed Data/191112_ALS_120_snRNA-A1/col_metadata.tsv\n"
     ]
    },
    {
     "name": "stderr",
     "output_type": "stream",
     "text": [
      "Downloading files:   0%|                                                                                                                                                      | 0.00/1.00 [00:54<?, ?B/s]"
     ]
    },
    {
     "name": "stdout",
     "output_type": "stream",
     "text": [
      "[syn53422328:counts_fil.mtx]: Copying existing file from /storage/my_disk/helical_coding_challenge/.synapsecache/796/132658796/counts_fil.mtx to /storage/my_disk/helical_coding_challenge/data/syn51105515/Processed Data/191112_ALS_122_snRNA-D2/counts_fil.mtx\n"
     ]
    },
    {
     "name": "stderr",
     "output_type": "stream",
     "text": [
      "Downloading files:   0%|                                                                                                                                                      | 0.00/1.00 [00:55<?, ?B/s]"
     ]
    },
    {
     "name": "stdout",
     "output_type": "stream",
     "text": [
      "[syn53422173:counts_fil.mtx]: Copying existing file from /storage/my_disk/helical_coding_challenge/.synapsecache/632/132658632/counts_fil.mtx to /storage/my_disk/helical_coding_challenge/data/syn51105515/Processed Data/191114_PN_309_snRNA-F1/counts_fil.mtx\n"
     ]
    },
    {
     "name": "stderr",
     "output_type": "stream",
     "text": [
      "Downloading files:   0%|                                                                                                                                                      | 0.00/1.00 [00:56<?, ?B/s]"
     ]
    },
    {
     "name": "stdout",
     "output_type": "stream",
     "text": [
      "[syn53422106:counts_fil.mtx]: Copying existing file from /storage/my_disk/helical_coding_challenge/.synapsecache/563/132658563/counts_fil.mtx to /storage/my_disk/helical_coding_challenge/data/syn51105515/Processed Data/201025_FTLD_234_snRNA-C6/counts_fil.mtx\n"
     ]
    },
    {
     "name": "stderr",
     "output_type": "stream",
     "text": [
      "Downloading files:   0%|                                                                                                                                                      | 0.00/1.00 [00:56<?, ?B/s]"
     ]
    },
    {
     "name": "stdout",
     "output_type": "stream",
     "text": [
      "[syn53422319:col_metadata.tsv]: Copying existing file from /storage/my_disk/helical_coding_challenge/.synapsecache/784/132658784/col_metadata.tsv to /storage/my_disk/helical_coding_challenge/data/syn51105515/Processed Data/220616_BL6_MCX_snRNA-H11/col_metadata.tsv\n"
     ]
    },
    {
     "name": "stderr",
     "output_type": "stream",
     "text": [
      "Downloading files:   0%|                                                                                                                                                      | 0.00/1.00 [00:57<?, ?B/s]"
     ]
    },
    {
     "name": "stdout",
     "output_type": "stream",
     "text": [
      "[syn53422404:counts_fil.mtx]: Copying existing file from /storage/my_disk/helical_coding_challenge/.synapsecache/873/132658873/counts_fil.mtx to /storage/my_disk/helical_coding_challenge/data/syn51105515/Processed Data/210910_MCX_ALS_138_snRNA-C9/counts_fil.mtx\n"
     ]
    },
    {
     "name": "stderr",
     "output_type": "stream",
     "text": [
      "Downloading files:   0%|                                                                                                                                                      | 0.00/1.00 [00:58<?, ?B/s]"
     ]
    },
    {
     "name": "stdout",
     "output_type": "stream",
     "text": [
      "[syn53422382:col_metadata.tsv]: Copying existing file from /storage/my_disk/helical_coding_challenge/.synapsecache/849/132658849/col_metadata.tsv to /storage/my_disk/helical_coding_challenge/data/syn51105515/Processed Data/210526_ALS_106_snRNA-H9/col_metadata.tsv\n"
     ]
    },
    {
     "name": "stderr",
     "output_type": "stream",
     "text": [
      "Downloading files:   0%|                                                                                                                                                      | 0.00/1.00 [00:58<?, ?B/s]"
     ]
    },
    {
     "name": "stdout",
     "output_type": "stream",
     "text": [
      "[syn53422100:col_metadata.tsv]: Copying existing file from /storage/my_disk/helical_coding_challenge/.synapsecache/556/132658556/col_metadata.tsv to /storage/my_disk/helical_coding_challenge/data/syn51105515/Processed Data/210910_PFC_ALS_132_snRNA-C11/col_metadata.tsv\n"
     ]
    },
    {
     "name": "stderr",
     "output_type": "stream",
     "text": [
      "Downloading files:   0%|                                                                                                                                                      | 0.00/1.00 [00:59<?, ?B/s]"
     ]
    },
    {
     "name": "stdout",
     "output_type": "stream",
     "text": [
      "[syn53422427:counts_fil.mtx]: Copying existing file from /storage/my_disk/helical_coding_challenge/.synapsecache/908/132658908/counts_fil.mtx to /storage/my_disk/helical_coding_challenge/data/syn51105515/Processed Data/210526_PN_306_snRNA-D11/counts_fil.mtx\n"
     ]
    },
    {
     "name": "stderr",
     "output_type": "stream",
     "text": [
      "Downloading files:   0%|                                                                                                                                                      | 0.00/1.00 [01:00<?, ?B/s]"
     ]
    },
    {
     "name": "stdout",
     "output_type": "stream",
     "text": [
      "[syn53422067:row_metadata.tsv]: Copying existing file from /storage/my_disk/helical_coding_challenge/.synapsecache/423/132658423/row_metadata.tsv to /storage/my_disk/helical_coding_challenge/data/syn51105515/Processed Data/191112_ALS_110_snRNA-B9/row_metadata.tsv\n"
     ]
    },
    {
     "name": "stderr",
     "output_type": "stream",
     "text": [
      "Downloading files:   0%|                                                                                                                                                      | 0.00/1.00 [01:00<?, ?B/s]"
     ]
    },
    {
     "name": "stdout",
     "output_type": "stream",
     "text": [
      "[syn53417861:10_4_txd_assoc_pty_BA4_C9FTLD.xlsx]: Copying existing file from /storage/my_disk/helical_coding_challenge/.synapsecache/205/132640205/10_4_txd_assoc_pty_BA4_C9FTLD.xlsx to /storage/my_disk/helical_coding_challenge/data/syn51105515/Supplemental Materials/S10 - TxD-associated pathway enrichments/10_4_txd_assoc_pty_BA4_C9FTLD.xlsx\n"
     ]
    },
    {
     "name": "stderr",
     "output_type": "stream",
     "text": [
      "Downloading files:   0%|                                                                                                                                                      | 0.00/1.00 [01:00<?, ?B/s]"
     ]
    },
    {
     "name": "stdout",
     "output_type": "stream",
     "text": [
      "[syn53421984:col_metadata.tsv]: Copying existing file from /storage/my_disk/helical_coding_challenge/.synapsecache/426/132658426/col_metadata.tsv to /storage/my_disk/helical_coding_challenge/data/syn51105515/Processed Data/220616_BL6_MCX_snRNA-H12/col_metadata.tsv\n"
     ]
    },
    {
     "name": "stderr",
     "output_type": "stream",
     "text": [
      "Downloading files:   0%|                                                                                                                                                      | 0.00/1.00 [01:00<?, ?B/s]"
     ]
    },
    {
     "name": "stdout",
     "output_type": "stream",
     "text": [
      "[syn53422379:col_metadata.tsv]: Copying existing file from /storage/my_disk/helical_coding_challenge/.synapsecache/847/132658847/col_metadata.tsv to /storage/my_disk/helical_coding_challenge/data/syn51105515/Processed Data/191114_PN_323_snRNA-F6/col_metadata.tsv\n"
     ]
    },
    {
     "name": "stderr",
     "output_type": "stream",
     "text": [
      "Downloading files:   0%|                                                                                                                                                      | 0.00/1.00 [01:00<?, ?B/s]"
     ]
    },
    {
     "name": "stdout",
     "output_type": "stream",
     "text": [
      "[syn53422083:row_metadata.tsv]: Copying existing file from /storage/my_disk/helical_coding_challenge/.synapsecache/423/132658423/row_metadata.tsv to /storage/my_disk/helical_coding_challenge/data/syn51105515/Processed Data/191113_FTLD_225_snRNA-H5/row_metadata.tsv\n"
     ]
    },
    {
     "name": "stderr",
     "output_type": "stream",
     "text": [
      "Downloading files:   0%|                                                                                                                                                      | 0.00/1.00 [01:00<?, ?B/s]"
     ]
    },
    {
     "name": "stdout",
     "output_type": "stream",
     "text": [
      "[syn53422171:row_metadata.tsv]: Copying existing file from /storage/my_disk/helical_coding_challenge/.synapsecache/423/132658423/row_metadata.tsv to /storage/my_disk/helical_coding_challenge/data/syn51105515/Processed Data/210910_MCX_ALS_139_snRNA-D6/row_metadata.tsv\n"
     ]
    },
    {
     "name": "stderr",
     "output_type": "stream",
     "text": [
      "Downloading files:   0%|                                                                                                                                                      | 0.00/1.00 [01:01<?, ?B/s]"
     ]
    },
    {
     "name": "stdout",
     "output_type": "stream",
     "text": [
      "[syn53422243:counts_fil.mtx]: Copying existing file from /storage/my_disk/helical_coding_challenge/.synapsecache/706/132658706/counts_fil.mtx to /storage/my_disk/helical_coding_challenge/data/syn51105515/Processed Data/191114_PN_324_snRNA-F7/counts_fil.mtx\n"
     ]
    },
    {
     "name": "stderr",
     "output_type": "stream",
     "text": [
      "Downloading files:   0%|                                                                                                                                                      | 0.00/1.00 [01:01<?, ?B/s]"
     ]
    },
    {
     "name": "stdout",
     "output_type": "stream",
     "text": [
      "[syn53422114:col_metadata.tsv]: Copying existing file from /storage/my_disk/helical_coding_challenge/.synapsecache/570/132658570/col_metadata.tsv to /storage/my_disk/helical_coding_challenge/data/syn51105515/Processed Data/191114_PN_309_snRNA-F1/col_metadata.tsv\n"
     ]
    },
    {
     "name": "stderr",
     "output_type": "stream",
     "text": [
      "Downloading files:   0%|                                                                                                                                                      | 0.00/1.00 [01:01<?, ?B/s]"
     ]
    },
    {
     "name": "stdout",
     "output_type": "stream",
     "text": [
      "[syn53422362:row_metadata.tsv]: Copying existing file from /storage/my_disk/helical_coding_challenge/.synapsecache/423/132658423/row_metadata.tsv to /storage/my_disk/helical_coding_challenge/data/syn51105515/Processed Data/191114_PN_323_snRNA-F6/row_metadata.tsv\n"
     ]
    },
    {
     "name": "stderr",
     "output_type": "stream",
     "text": [
      "Downloading files:   0%|                                                                                                                                                      | 0.00/1.00 [01:01<?, ?B/s]"
     ]
    },
    {
     "name": "stdout",
     "output_type": "stream",
     "text": [
      "[syn53421741:210910_MCX_ALS_140_snRNA-D7]: Syncing Folder from Synapse.\n"
     ]
    },
    {
     "name": "stderr",
     "output_type": "stream",
     "text": [
      "Downloading files:   0%|                                                                                                                                                      | 0.00/1.00 [01:02<?, ?B/s]"
     ]
    },
    {
     "name": "stdout",
     "output_type": "stream",
     "text": [
      "[syn53422391:counts_fil.mtx]: Copying existing file from /storage/my_disk/helical_coding_challenge/.synapsecache/862/132658862/counts_fil.mtx to /storage/my_disk/helical_coding_challenge/data/syn51105515/Processed Data/210526_ALS_106_snRNA-H9/counts_fil.mtx\n"
     ]
    },
    {
     "name": "stderr",
     "output_type": "stream",
     "text": [
      "Downloading files:   0%|                                                                                                                                                      | 0.00/1.00 [01:04<?, ?B/s]"
     ]
    },
    {
     "name": "stdout",
     "output_type": "stream",
     "text": [
      "[syn53422425:counts_fil.mtx]: Copying existing file from /storage/my_disk/helical_coding_challenge/.synapsecache/906/132658906/counts_fil.mtx to /storage/my_disk/helical_coding_challenge/data/syn51105515/Processed Data/200721_FTLD_206_snRNA-A10/counts_fil.mtx\n"
     ]
    },
    {
     "name": "stderr",
     "output_type": "stream",
     "text": [
      "Downloading files:   0%|                                                                                                                                                      | 0.00/1.00 [01:05<?, ?B/s]"
     ]
    },
    {
     "name": "stdout",
     "output_type": "stream",
     "text": [
      "[syn53422310:counts_fil.mtx]: Copying existing file from /storage/my_disk/helical_coding_challenge/.synapsecache/776/132658776/counts_fil.mtx to /storage/my_disk/helical_coding_challenge/data/syn51105515/Processed Data/191114_PN_328_snRNA-F9/counts_fil.mtx\n"
     ]
    },
    {
     "name": "stderr",
     "output_type": "stream",
     "text": [
      "Downloading files:   0%|                                                                                                                                                      | 0.00/1.00 [01:06<?, ?B/s]"
     ]
    },
    {
     "name": "stdout",
     "output_type": "stream",
     "text": [
      "[syn53422359:counts_fil.mtx]: Copying existing file from /storage/my_disk/helical_coding_challenge/.synapsecache/830/132658830/counts_fil.mtx to /storage/my_disk/helical_coding_challenge/data/syn51105515/Processed Data/191113_FTLD_228_snRNA-E5/counts_fil.mtx\n"
     ]
    },
    {
     "name": "stderr",
     "output_type": "stream",
     "text": [
      "Downloading files:   0%|                                                                                                                                                      | 0.00/1.00 [01:06<?, ?B/s]"
     ]
    },
    {
     "name": "stdout",
     "output_type": "stream",
     "text": [
      "[syn53422325:col_metadata.tsv]: Copying existing file from /storage/my_disk/helical_coding_challenge/.synapsecache/790/132658790/col_metadata.tsv to /storage/my_disk/helical_coding_challenge/data/syn51105515/Processed Data/210910_PFC_ALS_139_snRNA-D8/col_metadata.tsv\n"
     ]
    },
    {
     "name": "stderr",
     "output_type": "stream",
     "text": [
      "Downloading files:   0%|                                                                                                                                                      | 0.00/1.00 [01:06<?, ?B/s]"
     ]
    },
    {
     "name": "stdout",
     "output_type": "stream",
     "text": [
      "[syn53422194:col_metadata.tsv]: Copying existing file from /storage/my_disk/helical_coding_challenge/.synapsecache/656/132658656/col_metadata.tsv to /storage/my_disk/helical_coding_challenge/data/syn51105515/Processed Data/201025_FTLD_238_snRNA-C10/col_metadata.tsv\n"
     ]
    },
    {
     "name": "stderr",
     "output_type": "stream",
     "text": [
      "Downloading files:   0%|                                                                                                                                                      | 0.00/1.00 [01:07<?, ?B/s]"
     ]
    },
    {
     "name": "stdout",
     "output_type": "stream",
     "text": [
      "[syn53422038:counts_fil.mtx]: Copying existing file from /storage/my_disk/helical_coding_challenge/.synapsecache/489/132658489/counts_fil.mtx to /storage/my_disk/helical_coding_challenge/data/syn51105515/Processed Data/210910_PFC_ALS_140_snRNA-D9/counts_fil.mtx\n"
     ]
    },
    {
     "name": "stderr",
     "output_type": "stream",
     "text": [
      "Downloading files:   0%|                                                                                                                                                      | 0.00/1.00 [01:09<?, ?B/s]"
     ]
    },
    {
     "name": "stdout",
     "output_type": "stream",
     "text": [
      "[syn53422112:counts_fil.mtx]: Copying existing file from /storage/my_disk/helical_coding_challenge/.synapsecache/568/132658568/counts_fil.mtx to /storage/my_disk/helical_coding_challenge/data/syn51105515/Processed Data/191113_FTLD_225_snRNA-H5/counts_fil.mtx\n"
     ]
    },
    {
     "name": "stderr",
     "output_type": "stream",
     "text": [
      "Downloading files:   0%|                                                                                                                                                      | 0.00/1.00 [01:10<?, ?B/s]"
     ]
    },
    {
     "name": "stdout",
     "output_type": "stream",
     "text": [
      "[syn53422082:row_metadata.tsv]: Copying existing file from /storage/my_disk/helical_coding_challenge/.synapsecache/423/132658423/row_metadata.tsv to /storage/my_disk/helical_coding_challenge/data/syn51105515/Processed Data/210910_PFC_ALS_132_snRNA-C11/row_metadata.tsv\n"
     ]
    },
    {
     "name": "stderr",
     "output_type": "stream",
     "text": [
      "Downloading files:   0%|                                                                                                                                                      | 0.00/1.00 [01:10<?, ?B/s]"
     ]
    },
    {
     "name": "stdout",
     "output_type": "stream",
     "text": [
      "[syn53422092:row_metadata.tsv]: Copying existing file from /storage/my_disk/helical_coding_challenge/.synapsecache/423/132658423/row_metadata.tsv to /storage/my_disk/helical_coding_challenge/data/syn51105515/Processed Data/191114_PN_309_snRNA-F1/row_metadata.tsv\n"
     ]
    },
    {
     "name": "stderr",
     "output_type": "stream",
     "text": [
      "Downloading files:   0%|                                                                                                                                                      | 0.00/1.00 [01:10<?, ?B/s]"
     ]
    },
    {
     "name": "stdout",
     "output_type": "stream",
     "text": [
      "[syn53422396:counts_fil.mtx]: Copying existing file from /storage/my_disk/helical_coding_challenge/.synapsecache/867/132658867/counts_fil.mtx to /storage/my_disk/helical_coding_challenge/data/syn51105515/Processed Data/210910_PFC_ALS_136_snRNA-D3/counts_fil.mtx\n"
     ]
    },
    {
     "name": "stderr",
     "output_type": "stream",
     "text": [
      "Downloading files:   0%|                                                                                                                                                      | 0.00/1.00 [01:11<?, ?B/s]"
     ]
    },
    {
     "name": "stdout",
     "output_type": "stream",
     "text": [
      "[syn53422196:counts_fil.mtx]: Copying existing file from /storage/my_disk/helical_coding_challenge/.synapsecache/658/132658658/counts_fil.mtx to /storage/my_disk/helical_coding_challenge/data/syn51105515/Processed Data/210910_MCX_ALS_139_snRNA-D6/counts_fil.mtx\n"
     ]
    },
    {
     "name": "stderr",
     "output_type": "stream",
     "text": [
      "Downloading files:   0%|                                                                                                                                                      | 0.00/1.00 [01:13<?, ?B/s]"
     ]
    },
    {
     "name": "stdout",
     "output_type": "stream",
     "text": [
      "[syn53422029:counts_fil.mtx]: Copying existing file from /storage/my_disk/helical_coding_challenge/.synapsecache/482/132658482/counts_fil.mtx to /storage/my_disk/helical_coding_challenge/data/syn51105515/Processed Data/220616_BL6_MCX_snRNA-H10/counts_fil.mtx\n"
     ]
    },
    {
     "name": "stderr",
     "output_type": "stream",
     "text": [
      "Downloading files:   0%|                                                                                                                                                      | 0.00/1.00 [01:14<?, ?B/s]"
     ]
    },
    {
     "name": "stdout",
     "output_type": "stream",
     "text": [
      "[syn53421981:row_metadata.tsv]: Copying existing file from /storage/my_disk/helical_coding_challenge/.synapsecache/423/132658423/row_metadata.tsv to /storage/my_disk/helical_coding_challenge/data/syn51105515/Processed Data/210910_PFC_ALS_135_snRNA-D2/row_metadata.tsv\n"
     ]
    },
    {
     "name": "stderr",
     "output_type": "stream",
     "text": [
      "Downloading files:   0%|                                                                                                                                                      | 0.00/1.00 [01:14<?, ?B/s]"
     ]
    },
    {
     "name": "stdout",
     "output_type": "stream",
     "text": [
      "[syn53422408:row_metadata.tsv]: Copying existing file from /storage/my_disk/helical_coding_challenge/.synapsecache/423/132658423/row_metadata.tsv to /storage/my_disk/helical_coding_challenge/data/syn51105515/Processed Data/210526_PN_306_snRNA-D11/row_metadata.tsv\n"
     ]
    },
    {
     "name": "stderr",
     "output_type": "stream",
     "text": [
      "Downloading files:   0%|                                                                                                                                                      | 0.00/1.00 [01:14<?, ?B/s]"
     ]
    },
    {
     "name": "stdout",
     "output_type": "stream",
     "text": [
      "[syn53422078:col_metadata.tsv]: Copying existing file from /storage/my_disk/helical_coding_challenge/.synapsecache/534/132658534/col_metadata.tsv to /storage/my_disk/helical_coding_challenge/data/syn51105515/Processed Data/191112_ALS_110_snRNA-B9/col_metadata.tsv\n"
     ]
    },
    {
     "name": "stderr",
     "output_type": "stream",
     "text": [
      "Downloading files:   0%|                                                                                                                                                      | 0.00/1.00 [01:14<?, ?B/s]"
     ]
    },
    {
     "name": "stdout",
     "output_type": "stream",
     "text": [
      "[syn53422292:row_metadata.tsv]: Copying existing file from /storage/my_disk/helical_coding_challenge/.synapsecache/423/132658423/row_metadata.tsv to /storage/my_disk/helical_coding_challenge/data/syn51105515/Processed Data/201019_ALS_113_snRNA-B7/row_metadata.tsv\n"
     ]
    },
    {
     "name": "stderr",
     "output_type": "stream",
     "text": [
      "Downloading files:   0%|                                                                                                                                                      | 0.00/1.00 [01:14<?, ?B/s]"
     ]
    },
    {
     "name": "stdout",
     "output_type": "stream",
     "text": [
      "[syn53422316:row_metadata.tsv]: Copying existing file from /storage/my_disk/helical_coding_challenge/.synapsecache/423/132658423/row_metadata.tsv to /storage/my_disk/helical_coding_challenge/data/syn51105515/Processed Data/210526_PN_328_snRNA-F6/row_metadata.tsv\n"
     ]
    },
    {
     "name": "stderr",
     "output_type": "stream",
     "text": [
      "Downloading files:   0%|                                                                                                                                                      | 0.00/1.00 [01:15<?, ?B/s]"
     ]
    },
    {
     "name": "stdout",
     "output_type": "stream",
     "text": [
      "[syn53421996:counts_fil.mtx]: Copying existing file from /storage/my_disk/helical_coding_challenge/.synapsecache/442/132658442/counts_fil.mtx to /storage/my_disk/helical_coding_challenge/data/syn51105515/Processed Data/210910_PFC_ALS_135_snRNA-D2/counts_fil.mtx\n"
     ]
    },
    {
     "name": "stderr",
     "output_type": "stream",
     "text": [
      "Downloading files:   0%|                                                                                                                                                      | 0.00/1.00 [01:16<?, ?B/s]"
     ]
    },
    {
     "name": "stdout",
     "output_type": "stream",
     "text": [
      "[syn53422317:row_metadata.tsv]: Copying existing file from /storage/my_disk/helical_coding_challenge/.synapsecache/423/132658423/row_metadata.tsv to /storage/my_disk/helical_coding_challenge/data/syn51105515/Processed Data/191113_FTLD_228_snRNA-E5/row_metadata.tsv\n"
     ]
    },
    {
     "name": "stderr",
     "output_type": "stream",
     "text": [
      "Downloading files:   0%|                                                                                                                                                      | 0.00/1.00 [01:16<?, ?B/s]"
     ]
    },
    {
     "name": "stdout",
     "output_type": "stream",
     "text": [
      "[syn53422074:row_metadata.tsv]: Copying existing file from /storage/my_disk/helical_coding_challenge/.synapsecache/423/132658423/row_metadata.tsv to /storage/my_disk/helical_coding_challenge/data/syn51105515/Processed Data/210526_PN_307_snRNA-D12/row_metadata.tsv\n"
     ]
    },
    {
     "name": "stderr",
     "output_type": "stream",
     "text": [
      "Downloading files:   0%|                                                                                                                                                      | 0.00/1.00 [01:16<?, ?B/s]"
     ]
    },
    {
     "name": "stdout",
     "output_type": "stream",
     "text": [
      "[syn53422415:col_metadata.tsv]: Copying existing file from /storage/my_disk/helical_coding_challenge/.synapsecache/887/132658887/col_metadata.tsv to /storage/my_disk/helical_coding_challenge/data/syn51105515/Processed Data/210526_PN_303_snRNA-D9/col_metadata.tsv\n"
     ]
    },
    {
     "name": "stderr",
     "output_type": "stream",
     "text": [
      "Downloading files:   0%|                                                                                                                                                      | 0.00/1.00 [01:16<?, ?B/s]"
     ]
    },
    {
     "name": "stdout",
     "output_type": "stream",
     "text": [
      "[syn53422225:col_metadata.tsv]: Copying existing file from /storage/my_disk/helical_coding_challenge/.synapsecache/690/132658690/col_metadata.tsv to /storage/my_disk/helical_coding_challenge/data/syn51105515/Processed Data/210526_PN_323_snRNA-B7/col_metadata.tsv\n"
     ]
    },
    {
     "name": "stderr",
     "output_type": "stream",
     "text": [
      "Downloading files:   0%|                                                                                                                                                      | 0.00/1.00 [01:16<?, ?B/s]"
     ]
    },
    {
     "name": "stdout",
     "output_type": "stream",
     "text": [
      "[syn53422212:row_metadata.tsv]: Copying existing file from /storage/my_disk/helical_coding_challenge/.synapsecache/423/132658423/row_metadata.tsv to /storage/my_disk/helical_coding_challenge/data/syn51105515/Processed Data/191114_PN_324_snRNA-F7/row_metadata.tsv\n"
     ]
    },
    {
     "name": "stderr",
     "output_type": "stream",
     "text": [
      "Downloading files:   0%|                                                                                                                                                      | 0.00/1.00 [01:16<?, ?B/s]"
     ]
    },
    {
     "name": "stdout",
     "output_type": "stream",
     "text": [
      "[syn53422272:col_metadata.tsv]: Copying existing file from /storage/my_disk/helical_coding_challenge/.synapsecache/735/132658735/col_metadata.tsv to /storage/my_disk/helical_coding_challenge/data/syn51105515/Processed Data/191113_FTLD_218_snRNA-H4/col_metadata.tsv\n"
     ]
    },
    {
     "name": "stderr",
     "output_type": "stream",
     "text": [
      "Downloading files:   0%|                                                                                                                                                      | 0.00/1.00 [01:17<?, ?B/s]"
     ]
    },
    {
     "name": "stdout",
     "output_type": "stream",
     "text": [
      "[syn53422010:row_metadata.tsv]: Copying existing file from /storage/my_disk/helical_coding_challenge/.synapsecache/423/132658423/row_metadata.tsv to /storage/my_disk/helical_coding_challenge/data/syn51105515/Processed Data/210910_PFC_ALS_140_snRNA-D9/row_metadata.tsv\n"
     ]
    },
    {
     "name": "stderr",
     "output_type": "stream",
     "text": [
      "Downloading files:   0%|                                                                                                                                                      | 0.00/1.00 [01:17<?, ?B/s]"
     ]
    },
    {
     "name": "stdout",
     "output_type": "stream",
     "text": [
      "[syn53421988:col_metadata.tsv]: Copying existing file from /storage/my_disk/helical_coding_challenge/.synapsecache/429/132658429/col_metadata.tsv to /storage/my_disk/helical_coding_challenge/data/syn51105515/Processed Data/210910_PFC_ALS_135_snRNA-D2/col_metadata.tsv\n"
     ]
    },
    {
     "name": "stderr",
     "output_type": "stream",
     "text": [
      "Downloading files:   0%|                                                                                                                                                      | 0.00/1.00 [01:17<?, ?B/s]"
     ]
    },
    {
     "name": "stdout",
     "output_type": "stream",
     "text": [
      "[syn53422087:col_metadata.tsv]: Copying existing file from /storage/my_disk/helical_coding_challenge/.synapsecache/544/132658544/col_metadata.tsv to /storage/my_disk/helical_coding_challenge/data/syn51105515/Processed Data/210526_PN_307_snRNA-D12/col_metadata.tsv\n"
     ]
    },
    {
     "name": "stderr",
     "output_type": "stream",
     "text": [
      "Downloading files:   0%|                                                                                                                                                      | 0.00/1.00 [01:17<?, ?B/s]"
     ]
    },
    {
     "name": "stdout",
     "output_type": "stream",
     "text": [
      "[syn53422020:col_metadata.tsv]: Copying existing file from /storage/my_disk/helical_coding_challenge/.synapsecache/472/132658472/col_metadata.tsv to /storage/my_disk/helical_coding_challenge/data/syn51105515/Processed Data/210910_PFC_ALS_140_snRNA-D9/col_metadata.tsv\n"
     ]
    },
    {
     "name": "stderr",
     "output_type": "stream",
     "text": [
      "Downloading files:   0%|                                                                                                                                                      | 0.00/1.00 [01:17<?, ?B/s]"
     ]
    },
    {
     "name": "stdout",
     "output_type": "stream",
     "text": [
      "[syn53422361:row_metadata.tsv]: Copying existing file from /storage/my_disk/helical_coding_challenge/.synapsecache/423/132658423/row_metadata.tsv to /storage/my_disk/helical_coding_challenge/data/syn51105515/Processed Data/210526_ALS_106_snRNA-H9/row_metadata.tsv\n"
     ]
    },
    {
     "name": "stderr",
     "output_type": "stream",
     "text": [
      "Downloading files:   0%|                                                                                                                                                      | 0.00/1.00 [01:17<?, ?B/s]"
     ]
    },
    {
     "name": "stdout",
     "output_type": "stream",
     "text": [
      "[syn53422216:col_metadata.tsv]: Copying existing file from /storage/my_disk/helical_coding_challenge/.synapsecache/677/132658677/col_metadata.tsv to /storage/my_disk/helical_coding_challenge/data/syn51105515/Processed Data/210910_MCX_ALS_137_snRNA-C8/col_metadata.tsv\n"
     ]
    },
    {
     "name": "stderr",
     "output_type": "stream",
     "text": [
      "Downloading files:   0%|                                                                                                                                                      | 0.00/1.00 [01:17<?, ?B/s]"
     ]
    },
    {
     "name": "stdout",
     "output_type": "stream",
     "text": [
      "[syn53422277:row_metadata.tsv]: Copying existing file from /storage/my_disk/helical_coding_challenge/.synapsecache/423/132658423/row_metadata.tsv to /storage/my_disk/helical_coding_challenge/data/syn51105515/Processed Data/191113_FTLD_209_snRNA-D6/row_metadata.tsv\n"
     ]
    },
    {
     "name": "stderr",
     "output_type": "stream",
     "text": [
      "Downloading files:   0%|                                                                                                                                                      | 0.00/1.00 [01:17<?, ?B/s]"
     ]
    },
    {
     "name": "stdout",
     "output_type": "stream",
     "text": [
      "[syn53422346:col_metadata.tsv]: Copying existing file from /storage/my_disk/helical_coding_challenge/.synapsecache/813/132658813/col_metadata.tsv to /storage/my_disk/helical_coding_challenge/data/syn51105515/Processed Data/210526_FTLD_214_snRNA-B12/col_metadata.tsv\n"
     ]
    },
    {
     "name": "stderr",
     "output_type": "stream",
     "text": [
      "Downloading files:   0%|                                                                                                                                                      | 0.00/1.00 [01:17<?, ?B/s]"
     ]
    },
    {
     "name": "stdout",
     "output_type": "stream",
     "text": [
      "[syn53422004:counts_fil.mtx]: Copying existing file from /storage/my_disk/helical_coding_challenge/.synapsecache/455/132658455/counts_fil.mtx to /storage/my_disk/helical_coding_challenge/data/syn51105515/Processed Data/220616_BL6_MCX_snRNA-H12/counts_fil.mtx\n"
     ]
    },
    {
     "name": "stderr",
     "output_type": "stream",
     "text": [
      "Downloading files:   0%|                                                                                                                                                      | 0.00/1.00 [01:19<?, ?B/s]"
     ]
    },
    {
     "name": "stdout",
     "output_type": "stream",
     "text": [
      "[syn53422283:row_metadata.tsv]: Copying existing file from /storage/my_disk/helical_coding_challenge/.synapsecache/423/132658423/row_metadata.tsv to /storage/my_disk/helical_coding_challenge/data/syn51105515/Processed Data/191114_PN_328_snRNA-F9/row_metadata.tsv\n"
     ]
    },
    {
     "name": "stderr",
     "output_type": "stream",
     "text": [
      "Downloading files:   0%|                                                                                                                                                      | 0.00/1.00 [01:19<?, ?B/s]"
     ]
    },
    {
     "name": "stdout",
     "output_type": "stream",
     "text": [
      "[syn53422398:row_metadata.tsv]: Copying existing file from /storage/my_disk/helical_coding_challenge/.synapsecache/423/132658423/row_metadata.tsv to /storage/my_disk/helical_coding_challenge/data/syn51105515/Processed Data/201019_ALS_101_snRNA-B1/row_metadata.tsv\n"
     ]
    },
    {
     "name": "stderr",
     "output_type": "stream",
     "text": [
      "Downloading files:   0%|                                                                                                                                                      | 0.00/1.00 [01:19<?, ?B/s]"
     ]
    },
    {
     "name": "stdout",
     "output_type": "stream",
     "text": [
      "[syn53422418:col_metadata.tsv]: Copying existing file from /storage/my_disk/helical_coding_challenge/.synapsecache/892/132658892/col_metadata.tsv to /storage/my_disk/helical_coding_challenge/data/syn51105515/Processed Data/200721_FTLD_206_snRNA-A10/col_metadata.tsv\n"
     ]
    },
    {
     "name": "stderr",
     "output_type": "stream",
     "text": [
      "Downloading files:   0%|                                                                                                                                                      | 0.00/1.00 [01:19<?, ?B/s]"
     ]
    },
    {
     "name": "stdout",
     "output_type": "stream",
     "text": [
      "[syn53422273:col_metadata.tsv]: Copying existing file from /storage/my_disk/helical_coding_challenge/.synapsecache/738/132658738/col_metadata.tsv to /storage/my_disk/helical_coding_challenge/data/syn51105515/Processed Data/220616_BL6_MCX_snRNA-A2/col_metadata.tsv\n"
     ]
    },
    {
     "name": "stderr",
     "output_type": "stream",
     "text": [
      "Downloading files:   0%|                                                                                                                                                      | 0.00/1.00 [01:19<?, ?B/s]"
     ]
    },
    {
     "name": "stdout",
     "output_type": "stream",
     "text": [
      "[syn53422295:col_metadata.tsv]: Copying existing file from /storage/my_disk/helical_coding_challenge/.synapsecache/761/132658761/col_metadata.tsv to /storage/my_disk/helical_coding_challenge/data/syn51105515/Processed Data/191114_PN_328_snRNA-F9/col_metadata.tsv\n"
     ]
    },
    {
     "name": "stderr",
     "output_type": "stream",
     "text": [
      "Downloading files:   0%|                                                                                                                                                      | 0.00/1.00 [01:19<?, ?B/s]"
     ]
    },
    {
     "name": "stdout",
     "output_type": "stream",
     "text": [
      "[syn53422424:counts_fil.mtx]: Copying existing file from /storage/my_disk/helical_coding_challenge/.synapsecache/904/132658904/counts_fil.mtx to /storage/my_disk/helical_coding_challenge/data/syn51105515/Processed Data/201019_ALS_101_snRNA-B1/counts_fil.mtx\n"
     ]
    },
    {
     "name": "stderr",
     "output_type": "stream",
     "text": [
      "Downloading files:   0%|                                                                                                                                                      | 0.00/1.00 [01:20<?, ?B/s]"
     ]
    },
    {
     "name": "stdout",
     "output_type": "stream",
     "text": [
      "[syn53422401:row_metadata.tsv]: Copying existing file from /storage/my_disk/helical_coding_challenge/.synapsecache/423/132658423/row_metadata.tsv to /storage/my_disk/helical_coding_challenge/data/syn51105515/Processed Data/200721_FTLD_206_snRNA-A10/row_metadata.tsv\n"
     ]
    },
    {
     "name": "stderr",
     "output_type": "stream",
     "text": [
      "Downloading files:   0%|                                                                                                                                                      | 0.00/1.00 [01:21<?, ?B/s]"
     ]
    },
    {
     "name": "stdout",
     "output_type": "stream",
     "text": [
      "[syn53422311:counts_fil.mtx]: Copying existing file from /storage/my_disk/helical_coding_challenge/.synapsecache/778/132658778/counts_fil.mtx to /storage/my_disk/helical_coding_challenge/data/syn51105515/Processed Data/191113_FTLD_209_snRNA-D6/counts_fil.mtx\n"
     ]
    },
    {
     "name": "stderr",
     "output_type": "stream",
     "text": [
      "Downloading files:   0%|                                                                                                                                                      | 0.00/1.00 [01:22<?, ?B/s]"
     ]
    },
    {
     "name": "stdout",
     "output_type": "stream",
     "text": [
      "[syn53422263:counts_fil.mtx]: Copying existing file from /storage/my_disk/helical_coding_challenge/.synapsecache/728/132658728/counts_fil.mtx to /storage/my_disk/helical_coding_challenge/data/syn51105515/Processed Data/201019_ALS_102_snRNA-B2/counts_fil.mtx\n"
     ]
    },
    {
     "name": "stderr",
     "output_type": "stream",
     "text": [
      "Downloading files:   0%|                                                                                                                                                      | 0.00/1.00 [01:22<?, ?B/s]"
     ]
    },
    {
     "name": "stdout",
     "output_type": "stream",
     "text": [
      "[syn53422164:row_metadata.tsv]: Copying existing file from /storage/my_disk/helical_coding_challenge/.synapsecache/423/132658423/row_metadata.tsv to /storage/my_disk/helical_coding_challenge/data/syn51105515/Processed Data/191113_FTLD_204_snRNA-D4/row_metadata.tsv\n"
     ]
    },
    {
     "name": "stderr",
     "output_type": "stream",
     "text": [
      "Downloading files:   0%|                                                                                                                                                      | 0.00/1.00 [01:22<?, ?B/s]"
     ]
    },
    {
     "name": "stdout",
     "output_type": "stream",
     "text": [
      "[syn53422254:row_metadata.tsv]: Copying existing file from /storage/my_disk/helical_coding_challenge/.synapsecache/423/132658423/row_metadata.tsv to /storage/my_disk/helical_coding_challenge/data/syn51105515/Processed Data/191113_FTLD_218_snRNA-H4/row_metadata.tsv\n"
     ]
    },
    {
     "name": "stderr",
     "output_type": "stream",
     "text": [
      "Downloading files:   0%|                                                                                                                                                      | 0.00/1.00 [01:22<?, ?B/s]"
     ]
    },
    {
     "name": "stdout",
     "output_type": "stream",
     "text": [
      "[syn53422146:counts_fil.mtx]: Copying existing file from /storage/my_disk/helical_coding_challenge/.synapsecache/600/132658600/counts_fil.mtx to /storage/my_disk/helical_coding_challenge/data/syn51105515/Processed Data/191114_PN_303_snRNA-E8/counts_fil.mtx\n"
     ]
    },
    {
     "name": "stderr",
     "output_type": "stream",
     "text": [
      "Downloading files:   0%|                                                                                                                                                      | 0.00/1.00 [01:23<?, ?B/s]"
     ]
    },
    {
     "name": "stdout",
     "output_type": "stream",
     "text": [
      "[syn53422214:row_metadata.tsv]: Copying existing file from /storage/my_disk/helical_coding_challenge/.synapsecache/423/132658423/row_metadata.tsv to /storage/my_disk/helical_coding_challenge/data/syn51105515/Processed Data/210526_PN_323_snRNA-B7/row_metadata.tsv\n"
     ]
    },
    {
     "name": "stderr",
     "output_type": "stream",
     "text": [
      "Downloading files:   0%|                                                                                                                                                      | 0.00/1.00 [01:23<?, ?B/s]"
     ]
    },
    {
     "name": "stdout",
     "output_type": "stream",
     "text": [
      "[syn53422069:row_metadata.tsv]: Copying existing file from /storage/my_disk/helical_coding_challenge/.synapsecache/423/132658423/row_metadata.tsv to /storage/my_disk/helical_coding_challenge/data/syn51105515/Processed Data/201025_FTLD_234_snRNA-C6/row_metadata.tsv\n"
     ]
    },
    {
     "name": "stderr",
     "output_type": "stream",
     "text": [
      "Downloading files:   0%|                                                                                                                                                      | 0.00/1.00 [01:23<?, ?B/s]"
     ]
    },
    {
     "name": "stdout",
     "output_type": "stream",
     "text": [
      "[syn53422342:col_metadata.tsv]: Copying existing file from /storage/my_disk/helical_coding_challenge/.synapsecache/811/132658811/col_metadata.tsv to /storage/my_disk/helical_coding_challenge/data/syn51105515/Processed Data/191113_FTLD_228_snRNA-E5/col_metadata.tsv\n"
     ]
    },
    {
     "name": "stderr",
     "output_type": "stream",
     "text": [
      "Downloading files:   0%|                                                                                                                                                      | 0.00/1.00 [01:23<?, ?B/s]"
     ]
    },
    {
     "name": "stdout",
     "output_type": "stream",
     "text": [
      "[syn53422353:row_metadata.tsv]: Copying existing file from /storage/my_disk/helical_coding_challenge/.synapsecache/423/132658423/row_metadata.tsv to /storage/my_disk/helical_coding_challenge/data/syn51105515/Processed Data/210910_PFC_ALS_136_snRNA-D3/row_metadata.tsv\n"
     ]
    },
    {
     "name": "stderr",
     "output_type": "stream",
     "text": [
      "Downloading files:   0%|                                                                                                                                                      | 0.00/1.00 [01:23<?, ?B/s]"
     ]
    },
    {
     "name": "stdout",
     "output_type": "stream",
     "text": [
      "[syn53422282:counts_fil.mtx]: Copying existing file from /storage/my_disk/helical_coding_challenge/.synapsecache/748/132658748/counts_fil.mtx to /storage/my_disk/helical_coding_challenge/data/syn51105515/Processed Data/191113_FTLD_218_snRNA-H4/counts_fil.mtx\n"
     ]
    },
    {
     "name": "stderr",
     "output_type": "stream",
     "text": [
      "Downloading files:   0%|                                                                                                                                                      | 0.00/1.00 [01:24<?, ?B/s]"
     ]
    },
    {
     "name": "stdout",
     "output_type": "stream",
     "text": [
      "[syn53422032:row_metadata.tsv]: Copying existing file from /storage/my_disk/helical_coding_challenge/.synapsecache/423/132658423/row_metadata.tsv to /storage/my_disk/helical_coding_challenge/data/syn51105515/Processed Data/210526_FTLD_228_snRNA-C8/row_metadata.tsv\n"
     ]
    },
    {
     "name": "stderr",
     "output_type": "stream",
     "text": [
      "Downloading files:   0%|                                                                                                                                                      | 0.00/1.00 [01:25<?, ?B/s]"
     ]
    },
    {
     "name": "stdout",
     "output_type": "stream",
     "text": [
      "[syn53422275:counts_fil.mtx]: Copying existing file from /storage/my_disk/helical_coding_challenge/.synapsecache/733/132658733/counts_fil.mtx to /storage/my_disk/helical_coding_challenge/data/syn51105515/Processed Data/220616_BL6_MCX_snRNA-A2/counts_fil.mtx\n"
     ]
    },
    {
     "name": "stderr",
     "output_type": "stream",
     "text": [
      "Downloading files:   0%|                                                                                                                                                      | 0.00/1.00 [01:26<?, ?B/s]"
     ]
    },
    {
     "name": "stdout",
     "output_type": "stream",
     "text": [
      "[syn53422154:row_metadata.tsv]: Copying existing file from /storage/my_disk/helical_coding_challenge/.synapsecache/423/132658423/row_metadata.tsv to /storage/my_disk/helical_coding_challenge/data/syn51105515/Processed Data/210526_ALS_103_snRNA-H7/row_metadata.tsv\n"
     ]
    },
    {
     "name": "stderr",
     "output_type": "stream",
     "text": [
      "Downloading files:   0%|                                                                                                                                                      | 0.00/1.00 [01:26<?, ?B/s]"
     ]
    },
    {
     "name": "stdout",
     "output_type": "stream",
     "text": [
      "[syn53422304:col_metadata.tsv]: Copying existing file from /storage/my_disk/helical_coding_challenge/.synapsecache/772/132658772/col_metadata.tsv to /storage/my_disk/helical_coding_challenge/data/syn51105515/Processed Data/210526_FTLD_235_snRNA-D1/col_metadata.tsv\n"
     ]
    },
    {
     "name": "stderr",
     "output_type": "stream",
     "text": [
      "Downloading files:   0%|                                                                                                                                                      | 0.00/1.00 [01:26<?, ?B/s]"
     ]
    },
    {
     "name": "stdout",
     "output_type": "stream",
     "text": [
      "[syn53422290:col_metadata.tsv]: Copying existing file from /storage/my_disk/helical_coding_challenge/.synapsecache/757/132658757/col_metadata.tsv to /storage/my_disk/helical_coding_challenge/data/syn51105515/Processed Data/191113_FTLD_209_snRNA-D6/col_metadata.tsv\n"
     ]
    },
    {
     "name": "stderr",
     "output_type": "stream",
     "text": [
      "Downloading files:   0%|                                                                                                                                                      | 0.00/1.00 [01:26<?, ?B/s]"
     ]
    },
    {
     "name": "stdout",
     "output_type": "stream",
     "text": [
      "[syn53422090:row_metadata.tsv]: Copying existing file from /storage/my_disk/helical_coding_challenge/.synapsecache/423/132658423/row_metadata.tsv to /storage/my_disk/helical_coding_challenge/data/syn51105515/Processed Data/210526_ALS_128_snRNA-F7/row_metadata.tsv\n"
     ]
    },
    {
     "name": "stderr",
     "output_type": "stream",
     "text": [
      "Downloading files:   0%|                                                                                                                                                      | 0.00/1.00 [01:26<?, ?B/s]"
     ]
    },
    {
     "name": "stdout",
     "output_type": "stream",
     "text": [
      "[syn53422186:row_metadata.tsv]: Copying existing file from /storage/my_disk/helical_coding_challenge/.synapsecache/423/132658423/row_metadata.tsv to /storage/my_disk/helical_coding_challenge/data/syn51105515/Processed Data/201019_ALS_106_snRNA-B5/row_metadata.tsv\n"
     ]
    },
    {
     "name": "stderr",
     "output_type": "stream",
     "text": [
      "Downloading files:   0%|                                                                                                                                                      | 0.00/1.00 [01:26<?, ?B/s]"
     ]
    },
    {
     "name": "stdout",
     "output_type": "stream",
     "text": [
      "[syn53422198:row_metadata.tsv]: Copying existing file from /storage/my_disk/helical_coding_challenge/.synapsecache/423/132658423/row_metadata.tsv to /storage/my_disk/helical_coding_challenge/data/syn51105515/Processed Data/210910_MCX_ALS_137_snRNA-C8/row_metadata.tsv\n"
     ]
    },
    {
     "name": "stderr",
     "output_type": "stream",
     "text": [
      "Downloading files:   0%|                                                                                                                                                      | 0.00/1.00 [01:27<?, ?B/s]"
     ]
    },
    {
     "name": "stdout",
     "output_type": "stream",
     "text": [
      "[syn53422421:counts_fil.mtx]: Copying existing file from /storage/my_disk/helical_coding_challenge/.synapsecache/898/132658898/counts_fil.mtx to /storage/my_disk/helical_coding_challenge/data/syn51105515/Processed Data/210526_PN_303_snRNA-D9/counts_fil.mtx\n"
     ]
    },
    {
     "name": "stderr",
     "output_type": "stream",
     "text": [
      "Downloading files:   0%|                                                                                                                                                      | 0.00/1.00 [01:28<?, ?B/s]"
     ]
    },
    {
     "name": "stdout",
     "output_type": "stream",
     "text": [
      "[syn53422126:row_metadata.tsv]: Copying existing file from /storage/my_disk/helical_coding_challenge/.synapsecache/423/132658423/row_metadata.tsv to /storage/my_disk/helical_coding_challenge/data/syn51105515/Processed Data/191114_PN_303_snRNA-E8/row_metadata.tsv\n"
     ]
    },
    {
     "name": "stderr",
     "output_type": "stream",
     "text": [
      "Downloading files:   0%|                                                                                                                                                      | 0.00/1.00 [01:28<?, ?B/s]"
     ]
    },
    {
     "name": "stdout",
     "output_type": "stream",
     "text": [
      "[syn53422030:col_metadata.tsv]: Copying existing file from /storage/my_disk/helical_coding_challenge/.synapsecache/485/132658485/col_metadata.tsv to /storage/my_disk/helical_coding_challenge/data/syn51105515/Processed Data/210526_FTLD_209_snRNA-B9/col_metadata.tsv\n"
     ]
    },
    {
     "name": "stderr",
     "output_type": "stream",
     "text": [
      "Downloading files:   0%|                                                                                                                                                      | 0.00/1.00 [01:28<?, ?B/s]"
     ]
    },
    {
     "name": "stdout",
     "output_type": "stream",
     "text": [
      "[syn53422111:row_metadata.tsv]: Copying existing file from /storage/my_disk/helical_coding_challenge/.synapsecache/423/132658423/row_metadata.tsv to /storage/my_disk/helical_coding_challenge/data/syn51105515/Processed Data/201025_FTLD_232_snRNA-C5/row_metadata.tsv\n"
     ]
    },
    {
     "name": "stderr",
     "output_type": "stream",
     "text": [
      "Downloading files:   0%|                                                                                                                                                      | 0.00/1.00 [01:28<?, ?B/s]"
     ]
    },
    {
     "name": "stdout",
     "output_type": "stream",
     "text": [
      "[syn53422411:col_metadata.tsv]: Copying existing file from /storage/my_disk/helical_coding_challenge/.synapsecache/882/132658882/col_metadata.tsv to /storage/my_disk/helical_coding_challenge/data/syn51105515/Processed Data/201019_ALS_101_snRNA-B1/col_metadata.tsv\n"
     ]
    },
    {
     "name": "stderr",
     "output_type": "stream",
     "text": [
      "Downloading files:   0%|                                                                                                                                                      | 0.00/1.00 [01:28<?, ?B/s]"
     ]
    },
    {
     "name": "stdout",
     "output_type": "stream",
     "text": [
      "[syn53422057:col_metadata.tsv]: Copying existing file from /storage/my_disk/helical_coding_challenge/.synapsecache/510/132658510/col_metadata.tsv to /storage/my_disk/helical_coding_challenge/data/syn51105515/Processed Data/210526_FTLD_217_snRNA-C2/col_metadata.tsv\n"
     ]
    },
    {
     "name": "stderr",
     "output_type": "stream",
     "text": [
      "Downloading files:   0%|                                                                                                                                                      | 0.00/1.00 [01:28<?, ?B/s]"
     ]
    },
    {
     "name": "stdout",
     "output_type": "stream",
     "text": [
      "[syn53422147:col_metadata.tsv]: Copying existing file from /storage/my_disk/helical_coding_challenge/.synapsecache/604/132658604/col_metadata.tsv to /storage/my_disk/helical_coding_challenge/data/syn51105515/Processed Data/191114_PN_303_snRNA-E8/col_metadata.tsv\n"
     ]
    },
    {
     "name": "stderr",
     "output_type": "stream",
     "text": [
      "Downloading files:   0%|                                                                                                                                                      | 0.00/1.00 [01:28<?, ?B/s]"
     ]
    },
    {
     "name": "stdout",
     "output_type": "stream",
     "text": [
      "[syn53422189:col_metadata.tsv]: Copying existing file from /storage/my_disk/helical_coding_challenge/.synapsecache/649/132658649/col_metadata.tsv to /storage/my_disk/helical_coding_challenge/data/syn51105515/Processed Data/201025_FTLD_237_snRNA-C9/col_metadata.tsv\n"
     ]
    },
    {
     "name": "stderr",
     "output_type": "stream",
     "text": [
      "Downloading files:   0%|                                                                                                                                                      | 0.00/1.00 [01:28<?, ?B/s]"
     ]
    },
    {
     "name": "stdout",
     "output_type": "stream",
     "text": [
      "[syn53422305:counts_fil.mtx]: Copying existing file from /storage/my_disk/helical_coding_challenge/.synapsecache/769/132658769/counts_fil.mtx to /storage/my_disk/helical_coding_challenge/data/syn51105515/Processed Data/210526_PN_301_snRNA-D7/counts_fil.mtx\n"
     ]
    },
    {
     "name": "stderr",
     "output_type": "stream",
     "text": [
      "Downloading files:   0%|                                                                                                                                                      | 0.00/1.00 [01:30<?, ?B/s]"
     ]
    },
    {
     "name": "stdout",
     "output_type": "stream",
     "text": [
      "[syn53422022:counts_fil.mtx]: Copying existing file from /storage/my_disk/helical_coding_challenge/.synapsecache/471/132658471/counts_fil.mtx to /storage/my_disk/helical_coding_challenge/data/syn51105515/Processed Data/210526_FTLD_222_snRNA-C4/counts_fil.mtx\n"
     ]
    },
    {
     "name": "stderr",
     "output_type": "stream",
     "text": [
      "Downloading files:   0%|                                                                                                                                                      | 0.00/1.00 [01:31<?, ?B/s]"
     ]
    },
    {
     "name": "stdout",
     "output_type": "stream",
     "text": [
      "[syn53422231:counts_fil.mtx]: Copying existing file from /storage/my_disk/helical_coding_challenge/.synapsecache/694/132658694/counts_fil.mtx to /storage/my_disk/helical_coding_challenge/data/syn51105515/Processed Data/210526_PN_323_snRNA-B7/counts_fil.mtx\n"
     ]
    },
    {
     "name": "stderr",
     "output_type": "stream",
     "text": [
      "Downloading files:   0%|                                                                                                                                                      | 0.00/1.00 [01:32<?, ?B/s]"
     ]
    },
    {
     "name": "stdout",
     "output_type": "stream",
     "text": [
      "[syn53422051:row_metadata.tsv]: Copying existing file from /storage/my_disk/helical_coding_challenge/.synapsecache/423/132658423/row_metadata.tsv to /storage/my_disk/helical_coding_challenge/data/syn51105515/Processed Data/210910_PFC_ALS_137_snRNA-D4/row_metadata.tsv\n"
     ]
    },
    {
     "name": "stderr",
     "output_type": "stream",
     "text": [
      "Downloading files:   0%|                                                                                                                                                      | 0.00/1.00 [01:32<?, ?B/s]"
     ]
    },
    {
     "name": "stdout",
     "output_type": "stream",
     "text": [
      "[syn53422201:counts_fil.mtx]: Copying existing file from /storage/my_disk/helical_coding_challenge/.synapsecache/659/132658659/counts_fil.mtx to /storage/my_disk/helical_coding_challenge/data/syn51105515/Processed Data/191113_FTLD_204_snRNA-D4/counts_fil.mtx\n"
     ]
    },
    {
     "name": "stderr",
     "output_type": "stream",
     "text": [
      "Downloading files:   0%|                                                                                                                                                      | 0.00/1.00 [01:34<?, ?B/s]"
     ]
    },
    {
     "name": "stdout",
     "output_type": "stream",
     "text": [
      "[syn53422262:col_metadata.tsv]: Copying existing file from /storage/my_disk/helical_coding_challenge/.synapsecache/727/132658727/col_metadata.tsv to /storage/my_disk/helical_coding_challenge/data/syn51105515/Processed Data/201019_ALS_102_snRNA-B2/col_metadata.tsv\n"
     ]
    },
    {
     "name": "stderr",
     "output_type": "stream",
     "text": [
      "Downloading files:   0%|                                                                                                                                                      | 0.00/1.00 [01:34<?, ?B/s]"
     ]
    },
    {
     "name": "stdout",
     "output_type": "stream",
     "text": [
      "[syn53422228:counts_fil.mtx]: Copying existing file from /storage/my_disk/helical_coding_challenge/.synapsecache/689/132658689/counts_fil.mtx to /storage/my_disk/helical_coding_challenge/data/syn51105515/Processed Data/210910_PFC_ALS_133_snRNA-C12/counts_fil.mtx\n"
     ]
    },
    {
     "name": "stderr",
     "output_type": "stream",
     "text": [
      "Downloading files:   0%|                                                                                                                                                      | 0.00/1.00 [01:36<?, ?B/s]"
     ]
    },
    {
     "name": "stdout",
     "output_type": "stream",
     "text": [
      "[syn53422250:row_metadata.tsv]: Copying existing file from /storage/my_disk/helical_coding_challenge/.synapsecache/423/132658423/row_metadata.tsv to /storage/my_disk/helical_coding_challenge/data/syn51105515/Processed Data/201019_ALS_102_snRNA-B2/row_metadata.tsv\n"
     ]
    },
    {
     "name": "stderr",
     "output_type": "stream",
     "text": [
      "Downloading files:   0%|                                                                                                                                                      | 0.00/1.00 [01:36<?, ?B/s]"
     ]
    },
    {
     "name": "stdout",
     "output_type": "stream",
     "text": [
      "[syn53422312:row_metadata.tsv]: Copying existing file from /storage/my_disk/helical_coding_challenge/.synapsecache/423/132658423/row_metadata.tsv to /storage/my_disk/helical_coding_challenge/data/syn51105515/Processed Data/191114_PN_304_snRNA-E9/row_metadata.tsv\n"
     ]
    },
    {
     "name": "stderr",
     "output_type": "stream",
     "text": [
      "Downloading files:   0%|                                                                                                                                                      | 0.00/1.00 [01:36<?, ?B/s]"
     ]
    },
    {
     "name": "stdout",
     "output_type": "stream",
     "text": [
      "[syn53422017:row_metadata.tsv]: Copying existing file from /storage/my_disk/helical_coding_challenge/.synapsecache/423/132658423/row_metadata.tsv to /storage/my_disk/helical_coding_challenge/data/syn51105515/Processed Data/210526_FTLD_209_snRNA-B9/row_metadata.tsv\n"
     ]
    },
    {
     "name": "stderr",
     "output_type": "stream",
     "text": [
      "Downloading files:   0%|                                                                                                                                                      | 0.00/1.00 [01:36<?, ?B/s]"
     ]
    },
    {
     "name": "stdout",
     "output_type": "stream",
     "text": [
      "[syn53422339:counts_fil.mtx]: Copying existing file from /storage/my_disk/helical_coding_challenge/.synapsecache/805/132658805/counts_fil.mtx to /storage/my_disk/helical_coding_challenge/data/syn51105515/Processed Data/191114_PN_304_snRNA-E9/counts_fil.mtx\n"
     ]
    },
    {
     "name": "stderr",
     "output_type": "stream",
     "text": [
      "Downloading files:   0%|                                                                                                                                                      | 0.00/1.00 [01:37<?, ?B/s]"
     ]
    },
    {
     "name": "stdout",
     "output_type": "stream",
     "text": [
      "[syn53422187:counts_fil.mtx]: Copying existing file from /storage/my_disk/helical_coding_challenge/.synapsecache/646/132658646/counts_fil.mtx to /storage/my_disk/helical_coding_challenge/data/syn51105515/Processed Data/201025_FTLD_237_snRNA-C9/counts_fil.mtx\n"
     ]
    },
    {
     "name": "stderr",
     "output_type": "stream",
     "text": [
      "Downloading files:   0%|                                                                                                                                                      | 0.00/1.00 [01:37<?, ?B/s]"
     ]
    },
    {
     "name": "stdout",
     "output_type": "stream",
     "text": [
      "[syn53422156:col_metadata.tsv]: Copying existing file from /storage/my_disk/helical_coding_challenge/.synapsecache/616/132658616/col_metadata.tsv to /storage/my_disk/helical_coding_challenge/data/syn51105515/Processed Data/191114_PN_306_snRNA-E10/col_metadata.tsv\n"
     ]
    },
    {
     "name": "stderr",
     "output_type": "stream",
     "text": [
      "Downloading files:   0%|                                                                                                                                                      | 0.00/1.00 [01:37<?, ?B/s]"
     ]
    },
    {
     "name": "stdout",
     "output_type": "stream",
     "text": [
      "[syn53422141:row_metadata.tsv]: Copying existing file from /storage/my_disk/helical_coding_challenge/.synapsecache/423/132658423/row_metadata.tsv to /storage/my_disk/helical_coding_challenge/data/syn51105515/Processed Data/191114_PN_322_snRNA-F5/row_metadata.tsv\n"
     ]
    },
    {
     "name": "stderr",
     "output_type": "stream",
     "text": [
      "Downloading files:   0%|                                                                                                                                                      | 0.00/1.00 [01:37<?, ?B/s]"
     ]
    },
    {
     "name": "stdout",
     "output_type": "stream",
     "text": [
      "[syn53421982:row_metadata.tsv]: Copying existing file from /storage/my_disk/helical_coding_challenge/.synapsecache/425/132658425/row_metadata.tsv to /storage/my_disk/helical_coding_challenge/data/syn51105515/Processed Data/220616_BL6_MCX_snRNA-H12/row_metadata.tsv\n"
     ]
    },
    {
     "name": "stderr",
     "output_type": "stream",
     "text": [
      "Downloading files:   0%|                                                                                                                                                      | 0.00/1.00 [01:38<?, ?B/s]"
     ]
    },
    {
     "name": "stdout",
     "output_type": "stream",
     "text": [
      "[syn53422152:counts_fil.mtx]: Copying existing file from /storage/my_disk/helical_coding_challenge/.synapsecache/609/132658609/counts_fil.mtx to /storage/my_disk/helical_coding_challenge/data/syn51105515/Processed Data/210910_PFC_ALS_134_snRNA-D1/counts_fil.mtx\n"
     ]
    },
    {
     "name": "stderr",
     "output_type": "stream",
     "text": [
      "Downloading files:   0%|                                                                                                                                                      | 0.00/1.00 [01:39<?, ?B/s]"
     ]
    },
    {
     "name": "stdout",
     "output_type": "stream",
     "text": [
      "[syn53422284:col_metadata.tsv]: Copying existing file from /storage/my_disk/helical_coding_challenge/.synapsecache/751/132658751/col_metadata.tsv to /storage/my_disk/helical_coding_challenge/data/syn51105515/Processed Data/210526_PN_301_snRNA-D7/col_metadata.tsv\n"
     ]
    },
    {
     "name": "stderr",
     "output_type": "stream",
     "text": [
      "Downloading files:   0%|                                                                                                                                                      | 0.00/1.00 [01:40<?, ?B/s]"
     ]
    },
    {
     "name": "stdout",
     "output_type": "stream",
     "text": [
      "[syn53422204:counts_fil.mtx]: Copying existing file from /storage/my_disk/helical_coding_challenge/.synapsecache/660/132658660/counts_fil.mtx to /storage/my_disk/helical_coding_challenge/data/syn51105515/Processed Data/210526_ALS_120_snRNA-A9/counts_fil.mtx\n"
     ]
    },
    {
     "name": "stderr",
     "output_type": "stream",
     "text": [
      "Downloading files:   0%|                                                                                                                                                      | 0.00/1.00 [01:42<?, ?B/s]"
     ]
    },
    {
     "name": "stdout",
     "output_type": "stream",
     "text": [
      "[syn53422274:row_metadata.tsv]: Copying existing file from /storage/my_disk/helical_coding_challenge/.synapsecache/423/132658423/row_metadata.tsv to /storage/my_disk/helical_coding_challenge/data/syn51105515/Processed Data/210526_PN_301_snRNA-D7/row_metadata.tsv\n"
     ]
    },
    {
     "name": "stderr",
     "output_type": "stream",
     "text": [
      "Downloading files:   0%|                                                                                                                                                      | 0.00/1.00 [01:42<?, ?B/s]"
     ]
    },
    {
     "name": "stdout",
     "output_type": "stream",
     "text": [
      "[syn53422329:col_metadata.tsv]: Copying existing file from /storage/my_disk/helical_coding_challenge/.synapsecache/798/132658798/col_metadata.tsv to /storage/my_disk/helical_coding_challenge/data/syn51105515/Processed Data/191114_PN_304_snRNA-E9/col_metadata.tsv\n"
     ]
    },
    {
     "name": "stderr",
     "output_type": "stream",
     "text": [
      "Downloading files:   0%|                                                                                                                                                      | 0.00/1.00 [01:42<?, ?B/s]"
     ]
    },
    {
     "name": "stdout",
     "output_type": "stream",
     "text": [
      "[syn53422018:row_metadata.tsv]: Copying existing file from /storage/my_disk/helical_coding_challenge/.synapsecache/423/132658423/row_metadata.tsv to /storage/my_disk/helical_coding_challenge/data/syn51105515/Processed Data/191113_FTLD_222_snRNA-E1/row_metadata.tsv\n"
     ]
    },
    {
     "name": "stderr",
     "output_type": "stream",
     "text": [
      "Downloading files:   0%|                                                                                                                                                      | 0.00/1.00 [01:42<?, ?B/s]"
     ]
    },
    {
     "name": "stdout",
     "output_type": "stream",
     "text": [
      "[syn53421976:row_metadata.tsv]: Copying existing file from /storage/my_disk/helical_coding_challenge/.synapsecache/417/132658417/row_metadata.tsv to /storage/my_disk/helical_coding_challenge/data/syn51105515/Processed Data/210526_FTLD_240_snRNA-D6/row_metadata.tsv\n"
     ]
    },
    {
     "name": "stderr",
     "output_type": "stream",
     "text": [
      "Downloading files:   0%|                                                                                                                                                      | 0.00/1.00 [01:43<?, ?B/s]"
     ]
    },
    {
     "name": "stdout",
     "output_type": "stream",
     "text": [
      "[syn53422321:counts_fil.mtx]: Copying existing file from /storage/my_disk/helical_coding_challenge/.synapsecache/788/132658788/counts_fil.mtx to /storage/my_disk/helical_coding_challenge/data/syn51105515/Processed Data/210526_FTLD_235_snRNA-D1/counts_fil.mtx\n"
     ]
    },
    {
     "name": "stderr",
     "output_type": "stream",
     "text": [
      "Downloading files:   0%|                                                                                                                                                      | 0.00/1.00 [01:43<?, ?B/s]"
     ]
    },
    {
     "name": "stdout",
     "output_type": "stream",
     "text": [
      "[syn53421992:row_metadata.tsv]: Copying existing file from /storage/my_disk/helical_coding_challenge/.synapsecache/423/132658423/row_metadata.tsv to /storage/my_disk/helical_coding_challenge/data/syn51105515/Processed Data/210526_FTLD_222_snRNA-C4/row_metadata.tsv\n"
     ]
    },
    {
     "name": "stderr",
     "output_type": "stream",
     "text": [
      "Downloading files:   0%|                                                                                                                                                      | 0.00/1.00 [01:43<?, ?B/s]"
     ]
    },
    {
     "name": "stdout",
     "output_type": "stream",
     "text": [
      "[syn53421983:row_metadata.tsv]: Copying existing file from /storage/my_disk/helical_coding_challenge/.synapsecache/423/132658423/row_metadata.tsv to /storage/my_disk/helical_coding_challenge/data/syn51105515/Processed Data/210526_ALS_111_snRNA-A1/row_metadata.tsv\n"
     ]
    },
    {
     "name": "stderr",
     "output_type": "stream",
     "text": [
      "Downloading files:   0%|                                                                                                                                                      | 0.00/1.00 [01:43<?, ?B/s]"
     ]
    },
    {
     "name": "stdout",
     "output_type": "stream",
     "text": [
      "[syn53422125:counts_fil.mtx]: Copying existing file from /storage/my_disk/helical_coding_challenge/.synapsecache/583/132658583/counts_fil.mtx to /storage/my_disk/helical_coding_challenge/data/syn51105515/Processed Data/191113_FTLD_217_snRNA-D11/counts_fil.mtx\n"
     ]
    },
    {
     "name": "stderr",
     "output_type": "stream",
     "text": [
      "Downloading files:   0%|                                                                                                                                                      | 0.00/1.00 [01:44<?, ?B/s]"
     ]
    },
    {
     "name": "stdout",
     "output_type": "stream",
     "text": [
      "[syn53422104:col_metadata.tsv]: Copying existing file from /storage/my_disk/helical_coding_challenge/.synapsecache/561/132658561/col_metadata.tsv to /storage/my_disk/helical_coding_challenge/data/syn51105515/Processed Data/210526_ALS_128_snRNA-F7/col_metadata.tsv\n"
     ]
    },
    {
     "name": "stderr",
     "output_type": "stream",
     "text": [
      "Downloading files:   0%|                                                                                                                                                      | 0.00/1.00 [01:44<?, ?B/s]"
     ]
    },
    {
     "name": "stdout",
     "output_type": "stream",
     "text": [
      "[syn53422226:col_metadata.tsv]: Copying existing file from /storage/my_disk/helical_coding_challenge/.synapsecache/692/132658692/col_metadata.tsv to /storage/my_disk/helical_coding_challenge/data/syn51105515/Processed Data/191114_PN_324_snRNA-F7/col_metadata.tsv\n"
     ]
    },
    {
     "name": "stderr",
     "output_type": "stream",
     "text": [
      "Downloading files:   0%|                                                                                                                                                      | 0.00/1.00 [01:45<?, ?B/s]"
     ]
    },
    {
     "name": "stdout",
     "output_type": "stream",
     "text": [
      "[syn53422247:counts_fil.mtx]: Copying existing file from /storage/my_disk/helical_coding_challenge/.synapsecache/710/132658710/counts_fil.mtx to /storage/my_disk/helical_coding_challenge/data/syn51105515/Processed Data/210910_MCX_ALS_137_snRNA-C8/counts_fil.mtx\n"
     ]
    },
    {
     "name": "stderr",
     "output_type": "stream",
     "text": [
      "Downloading files:   0%|                                                                                                                                                      | 0.00/1.00 [01:45<?, ?B/s]"
     ]
    },
    {
     "name": "stdout",
     "output_type": "stream",
     "text": [
      "[syn53422313:row_metadata.tsv]: Copying existing file from /storage/my_disk/helical_coding_challenge/.synapsecache/423/132658423/row_metadata.tsv to /storage/my_disk/helical_coding_challenge/data/syn51105515/Processed Data/210910_PFC_ALS_139_snRNA-D8/row_metadata.tsv\n"
     ]
    },
    {
     "name": "stderr",
     "output_type": "stream",
     "text": [
      "Downloading files:   0%|                                                                                                                                                      | 0.00/1.00 [01:46<?, ?B/s]"
     ]
    },
    {
     "name": "stdout",
     "output_type": "stream",
     "text": [
      "[syn53422256:counts_fil.mtx]: Copying existing file from /storage/my_disk/helical_coding_challenge/.synapsecache/719/132658719/counts_fil.mtx to /storage/my_disk/helical_coding_challenge/data/syn51105515/Processed Data/210526_FTLD_216_snRNA-C1/counts_fil.mtx\n"
     ]
    },
    {
     "name": "stderr",
     "output_type": "stream",
     "text": [
      "Downloading files:   0%|                                                                                                                                                      | 0.00/1.00 [01:48<?, ?B/s]"
     ]
    },
    {
     "name": "stdout",
     "output_type": "stream",
     "text": [
      "[syn53422209:row_metadata.tsv]: Copying existing file from /storage/my_disk/helical_coding_challenge/.synapsecache/423/132658423/row_metadata.tsv to /storage/my_disk/helical_coding_challenge/data/syn51105515/Processed Data/210526_FTLD_216_snRNA-C1/row_metadata.tsv\n"
     ]
    },
    {
     "name": "stderr",
     "output_type": "stream",
     "text": [
      "Downloading files:   0%|                                                                                                                                                      | 0.00/1.00 [01:48<?, ?B/s]"
     ]
    },
    {
     "name": "stdout",
     "output_type": "stream",
     "text": [
      "[syn53422144:col_metadata.tsv]: Copying existing file from /storage/my_disk/helical_coding_challenge/.synapsecache/599/132658599/col_metadata.tsv to /storage/my_disk/helical_coding_challenge/data/syn51105515/Processed Data/210910_PFC_ALS_134_snRNA-D1/col_metadata.tsv\n"
     ]
    },
    {
     "name": "stderr",
     "output_type": "stream",
     "text": [
      "Downloading files:   0%|                                                                                                                                                      | 0.00/1.00 [01:48<?, ?B/s]"
     ]
    },
    {
     "name": "stdout",
     "output_type": "stream",
     "text": [
      "[syn53422235:counts_fil.mtx]: Copying existing file from /storage/my_disk/helical_coding_challenge/.synapsecache/699/132658699/counts_fil.mtx to /storage/my_disk/helical_coding_challenge/data/syn51105515/Processed Data/201019_ALS_106_snRNA-B5/counts_fil.mtx\n"
     ]
    },
    {
     "name": "stderr",
     "output_type": "stream",
     "text": [
      "Downloading files:   0%|                                                                                                                                                      | 0.00/1.00 [01:49<?, ?B/s]"
     ]
    },
    {
     "name": "stdout",
     "output_type": "stream",
     "text": [
      "[syn53422162:row_metadata.tsv]: Copying existing file from /storage/my_disk/helical_coding_challenge/.synapsecache/423/132658423/row_metadata.tsv to /storage/my_disk/helical_coding_challenge/data/syn51105515/Processed Data/201025_FTLD_237_snRNA-C9/row_metadata.tsv\n"
     ]
    },
    {
     "name": "stderr",
     "output_type": "stream",
     "text": [
      "Downloading files:   0%|                                                                                                                                                      | 0.00/1.00 [01:50<?, ?B/s]"
     ]
    },
    {
     "name": "stdout",
     "output_type": "stream",
     "text": [
      "[syn53422341:counts_fil.mtx]: Copying existing file from /storage/my_disk/helical_coding_challenge/.synapsecache/808/132658808/counts_fil.mtx to /storage/my_disk/helical_coding_challenge/data/syn51105515/Processed Data/210910_PFC_ALS_139_snRNA-D8/counts_fil.mtx\n"
     ]
    },
    {
     "name": "stderr",
     "output_type": "stream",
     "text": [
      "Downloading files:   0%|                                                                                                                                                      | 0.00/1.00 [01:51<?, ?B/s]"
     ]
    },
    {
     "name": "stdout",
     "output_type": "stream",
     "text": [
      "[syn53422288:row_metadata.tsv]: Copying existing file from /storage/my_disk/helical_coding_challenge/.synapsecache/423/132658423/row_metadata.tsv to /storage/my_disk/helical_coding_challenge/data/syn51105515/Processed Data/210526_FTLD_235_snRNA-D1/row_metadata.tsv\n"
     ]
    },
    {
     "name": "stderr",
     "output_type": "stream",
     "text": [
      "Downloading files:   0%|                                                                                                                                                      | 0.00/1.00 [01:51<?, ?B/s]"
     ]
    },
    {
     "name": "stdout",
     "output_type": "stream",
     "text": [
      "[syn53422338:row_metadata.tsv]: Copying existing file from /storage/my_disk/helical_coding_challenge/.synapsecache/423/132658423/row_metadata.tsv to /storage/my_disk/helical_coding_challenge/data/syn51105515/Processed Data/210526_FTLD_214_snRNA-B12/row_metadata.tsv\n"
     ]
    },
    {
     "name": "stderr",
     "output_type": "stream",
     "text": [
      "Downloading files:   0%|                                                                                                                                                      | 0.00/1.00 [01:51<?, ?B/s]"
     ]
    },
    {
     "name": "stdout",
     "output_type": "stream",
     "text": [
      "[syn53422200:col_metadata.tsv]: Copying existing file from /storage/my_disk/helical_coding_challenge/.synapsecache/662/132658662/col_metadata.tsv to /storage/my_disk/helical_coding_challenge/data/syn51105515/Processed Data/210526_PN_309_snRNA-E2/col_metadata.tsv\n"
     ]
    },
    {
     "name": "stderr",
     "output_type": "stream",
     "text": [
      "Downloading files:   0%|                                                                                                                                                      | 0.00/1.00 [01:52<?, ?B/s]"
     ]
    },
    {
     "name": "stdout",
     "output_type": "stream",
     "text": [
      "[syn53422054:counts_fil.mtx]: Copying existing file from /storage/my_disk/helical_coding_challenge/.synapsecache/507/132658507/counts_fil.mtx to /storage/my_disk/helical_coding_challenge/data/syn51105515/Processed Data/210526_FTLD_209_snRNA-B9/counts_fil.mtx\n"
     ]
    },
    {
     "name": "stderr",
     "output_type": "stream",
     "text": [
      "Downloading files:   0%|                                                                                                                                                      | 0.00/1.00 [01:53<?, ?B/s]"
     ]
    },
    {
     "name": "stdout",
     "output_type": "stream",
     "text": [
      "[syn53422039:row_metadata.tsv]: Copying existing file from /storage/my_disk/helical_coding_challenge/.synapsecache/423/132658423/row_metadata.tsv to /storage/my_disk/helical_coding_challenge/data/syn51105515/Processed Data/210526_FTLD_217_snRNA-C2/row_metadata.tsv\n"
     ]
    },
    {
     "name": "stderr",
     "output_type": "stream",
     "text": [
      "Downloading files:   0%|                                                                                                                                                      | 0.00/1.00 [01:54<?, ?B/s]"
     ]
    },
    {
     "name": "stdout",
     "output_type": "stream",
     "text": [
      "[syn53421990:counts_fil.mtx]: Copying existing file from /storage/my_disk/helical_coding_challenge/.synapsecache/432/132658432/counts_fil.mtx to /storage/my_disk/helical_coding_challenge/data/syn51105515/Processed Data/210526_ALS_111_snRNA-A1/counts_fil.mtx\n"
     ]
    },
    {
     "name": "stderr",
     "output_type": "stream",
     "text": [
      "Downloading files:   0%|                                                                                                                                                      | 0.00/1.00 [01:56<?, ?B/s]"
     ]
    },
    {
     "name": "stdout",
     "output_type": "stream",
     "text": [
      "[syn53422386:counts_fil.mtx]: Copying existing file from /storage/my_disk/helical_coding_challenge/.synapsecache/854/132658854/counts_fil.mtx to /storage/my_disk/helical_coding_challenge/data/syn51105515/Processed Data/210526_ALS_115_snRNA-A5/counts_fil.mtx\n"
     ]
    },
    {
     "name": "stderr",
     "output_type": "stream",
     "text": [
      "Downloading files:   0%|                                                                                                                                                      | 0.00/1.00 [01:58<?, ?B/s]"
     ]
    },
    {
     "name": "stdout",
     "output_type": "stream",
     "text": [
      "[syn53422028:counts_fil.mtx]: Copying existing file from /storage/my_disk/helical_coding_challenge/.synapsecache/481/132658481/counts_fil.mtx to /storage/my_disk/helical_coding_challenge/data/syn51105515/Processed Data/191113_FTLD_207_snRNA-D5/counts_fil.mtx\n"
     ]
    },
    {
     "name": "stderr",
     "output_type": "stream",
     "text": [
      "Downloading files:   0%|                                                                                                                                                      | 0.00/1.00 [01:59<?, ?B/s]"
     ]
    },
    {
     "name": "stdout",
     "output_type": "stream",
     "text": [
      "[syn53422175:counts_fil.mtx]: Copying existing file from /storage/my_disk/helical_coding_challenge/.synapsecache/633/132658633/counts_fil.mtx to /storage/my_disk/helical_coding_challenge/data/syn51105515/Processed Data/191114_PN_322_snRNA-F5/counts_fil.mtx\n"
     ]
    },
    {
     "name": "stderr",
     "output_type": "stream",
     "text": [
      "Downloading files:   0%|                                                                                                                                                      | 0.00/1.00 [02:00<?, ?B/s]"
     ]
    },
    {
     "name": "stdout",
     "output_type": "stream",
     "text": [
      "[syn53422363:counts_fil.mtx]: Copying existing file from /storage/my_disk/helical_coding_challenge/.synapsecache/831/132658831/counts_fil.mtx to /storage/my_disk/helical_coding_challenge/data/syn51105515/Processed Data/210910_MCX_ALS_132_snRNA-C3/counts_fil.mtx\n"
     ]
    },
    {
     "name": "stderr",
     "output_type": "stream",
     "text": [
      "Downloading files:   0%|                                                                                                                                                      | 0.00/1.00 [02:01<?, ?B/s]"
     ]
    },
    {
     "name": "stdout",
     "output_type": "stream",
     "text": [
      "[syn53422006:col_metadata.tsv]: Copying existing file from /storage/my_disk/helical_coding_challenge/.synapsecache/459/132658459/col_metadata.tsv to /storage/my_disk/helical_coding_challenge/data/syn51105515/Processed Data/210526_FTLD_222_snRNA-C4/col_metadata.tsv\n"
     ]
    },
    {
     "name": "stderr",
     "output_type": "stream",
     "text": [
      "Downloading files:   0%|                                                                                                                                                      | 0.00/1.00 [02:02<?, ?B/s]"
     ]
    },
    {
     "name": "stdout",
     "output_type": "stream",
     "text": [
      "[syn53422366:counts_fil.mtx]: Copying existing file from /storage/my_disk/helical_coding_challenge/.synapsecache/836/132658836/counts_fil.mtx to /storage/my_disk/helical_coding_challenge/data/syn51105515/Processed Data/210526_FTLD_214_snRNA-B12/counts_fil.mtx\n"
     ]
    },
    {
     "name": "stderr",
     "output_type": "stream",
     "text": [
      "Downloading files:   0%|                                                                                                                                                      | 0.00/1.00 [02:02<?, ?B/s]"
     ]
    },
    {
     "name": "stdout",
     "output_type": "stream",
     "text": [
      "[syn53422349:row_metadata.tsv]: Copying existing file from /storage/my_disk/helical_coding_challenge/.synapsecache/423/132658423/row_metadata.tsv to /storage/my_disk/helical_coding_challenge/data/syn51105515/Processed Data/210526_ALS_115_snRNA-A5/row_metadata.tsv\n"
     ]
    },
    {
     "name": "stderr",
     "output_type": "stream",
     "text": [
      "Downloading files:   0%|                                                                                                                                                      | 0.00/1.00 [02:02<?, ?B/s]"
     ]
    },
    {
     "name": "stdout",
     "output_type": "stream",
     "text": [
      "[syn53422102:row_metadata.tsv]: Copying existing file from /storage/my_disk/helical_coding_challenge/.synapsecache/423/132658423/row_metadata.tsv to /storage/my_disk/helical_coding_challenge/data/syn51105515/Processed Data/191113_FTLD_217_snRNA-D11/row_metadata.tsv\n"
     ]
    },
    {
     "name": "stderr",
     "output_type": "stream",
     "text": [
      "Downloading files:   0%|                                                                                                                                                      | 0.00/1.00 [02:03<?, ?B/s]"
     ]
    },
    {
     "name": "stdout",
     "output_type": "stream",
     "text": [
      "[syn53422076:counts_fil.mtx]: Copying existing file from /storage/my_disk/helical_coding_challenge/.synapsecache/532/132658532/counts_fil.mtx to /storage/my_disk/helical_coding_challenge/data/syn51105515/Processed Data/210910_PFC_ALS_137_snRNA-D4/counts_fil.mtx\n"
     ]
    },
    {
     "name": "stderr",
     "output_type": "stream",
     "text": [
      "Downloading files:   0%|                                                                                                                                                      | 0.00/1.00 [02:04<?, ?B/s]"
     ]
    },
    {
     "name": "stdout",
     "output_type": "stream",
     "text": [
      "[syn53422380:col_metadata.tsv]: Copying existing file from /storage/my_disk/helical_coding_challenge/.synapsecache/848/132658848/col_metadata.tsv to /storage/my_disk/helical_coding_challenge/data/syn51105515/Processed Data/210910_PFC_ALS_131_snRNA-C10/col_metadata.tsv\n"
     ]
    },
    {
     "name": "stderr",
     "output_type": "stream",
     "text": [
      "Downloading files:   0%|                                                                                                                                                      | 0.00/1.00 [02:04<?, ?B/s]"
     ]
    },
    {
     "name": "stdout",
     "output_type": "stream",
     "text": [
      "[syn53422188:col_metadata.tsv]: Copying existing file from /storage/my_disk/helical_coding_challenge/.synapsecache/648/132658648/col_metadata.tsv to /storage/my_disk/helical_coding_challenge/data/syn51105515/Processed Data/210526_ALS_120_snRNA-A9/col_metadata.tsv\n"
     ]
    },
    {
     "name": "stderr",
     "output_type": "stream",
     "text": [
      "Downloading files:   0%|                                                                                                                                                      | 0.00/1.00 [02:04<?, ?B/s]"
     ]
    },
    {
     "name": "stdout",
     "output_type": "stream",
     "text": [
      "[syn53422113:col_metadata.tsv]: Copying existing file from /storage/my_disk/helical_coding_challenge/.synapsecache/569/132658569/col_metadata.tsv to /storage/my_disk/helical_coding_challenge/data/syn51105515/Processed Data/191113_FTLD_217_snRNA-D11/col_metadata.tsv\n"
     ]
    },
    {
     "name": "stderr",
     "output_type": "stream",
     "text": [
      "Downloading files:   0%|                                                                                                                                                      | 0.00/1.00 [02:04<?, ?B/s]"
     ]
    },
    {
     "name": "stdout",
     "output_type": "stream",
     "text": [
      "[syn53422176:col_metadata.tsv]: Copying existing file from /storage/my_disk/helical_coding_challenge/.synapsecache/639/132658639/col_metadata.tsv to /storage/my_disk/helical_coding_challenge/data/syn51105515/Processed Data/191113_FTLD_204_snRNA-D4/col_metadata.tsv\n"
     ]
    },
    {
     "name": "stderr",
     "output_type": "stream",
     "text": [
      "Downloading files:   0%|                                                                                                                                                      | 0.00/1.00 [02:04<?, ?B/s]"
     ]
    },
    {
     "name": "stdout",
     "output_type": "stream",
     "text": [
      "[syn53422399:row_metadata.tsv]: Copying existing file from /storage/my_disk/helical_coding_challenge/.synapsecache/423/132658423/row_metadata.tsv to /storage/my_disk/helical_coding_challenge/data/syn51105515/Processed Data/191114_PN_325_snRNA-F8/row_metadata.tsv\n"
     ]
    },
    {
     "name": "stderr",
     "output_type": "stream",
     "text": [
      "Downloading files:   0%|                                                                                                                                                      | 0.00/1.00 [02:04<?, ?B/s]"
     ]
    },
    {
     "name": "stdout",
     "output_type": "stream",
     "text": [
      "[syn53422044:col_metadata.tsv]: Copying existing file from /storage/my_disk/helical_coding_challenge/.synapsecache/498/132658498/col_metadata.tsv to /storage/my_disk/helical_coding_challenge/data/syn51105515/Processed Data/210526_FTLD_228_snRNA-C8/col_metadata.tsv\n"
     ]
    },
    {
     "name": "stderr",
     "output_type": "stream",
     "text": [
      "Downloading files:   0%|                                                                                                                                                      | 0.00/1.00 [02:04<?, ?B/s]"
     ]
    },
    {
     "name": "stdout",
     "output_type": "stream",
     "text": [
      "[syn53422103:col_metadata.tsv]: Copying existing file from /storage/my_disk/helical_coding_challenge/.synapsecache/562/132658562/col_metadata.tsv to /storage/my_disk/helical_coding_challenge/data/syn51105515/Processed Data/191113_FTLD_202_snRNA-D3/col_metadata.tsv\n"
     ]
    },
    {
     "name": "stderr",
     "output_type": "stream",
     "text": [
      "Downloading files:   0%|                                                                                                                                                      | 0.00/1.00 [02:04<?, ?B/s]"
     ]
    },
    {
     "name": "stdout",
     "output_type": "stream",
     "text": [
      "[syn53422088:row_metadata.tsv]: Copying existing file from /storage/my_disk/helical_coding_challenge/.synapsecache/423/132658423/row_metadata.tsv to /storage/my_disk/helical_coding_challenge/data/syn51105515/Processed Data/191113_FTLD_202_snRNA-D3/row_metadata.tsv\n"
     ]
    },
    {
     "name": "stderr",
     "output_type": "stream",
     "text": [
      "Downloading files:   0%|                                                                                                                                                      | 0.00/1.00 [02:04<?, ?B/s]"
     ]
    },
    {
     "name": "stdout",
     "output_type": "stream",
     "text": [
      "[syn53422356:col_metadata.tsv]: Copying existing file from /storage/my_disk/helical_coding_challenge/.synapsecache/826/132658826/col_metadata.tsv to /storage/my_disk/helical_coding_challenge/data/syn51105515/Processed Data/200721_FTLD_210_snRNA-A11/col_metadata.tsv\n"
     ]
    },
    {
     "name": "stderr",
     "output_type": "stream",
     "text": [
      "Downloading files:   0%|                                                                                                                                                      | 0.00/1.00 [02:05<?, ?B/s]"
     ]
    },
    {
     "name": "stdout",
     "output_type": "stream",
     "text": [
      "[syn53422123:counts_fil.mtx]: Copying existing file from /storage/my_disk/helical_coding_challenge/.synapsecache/577/132658577/counts_fil.mtx to /storage/my_disk/helical_coding_challenge/data/syn51105515/Processed Data/210526_ALS_128_snRNA-F7/counts_fil.mtx\n"
     ]
    },
    {
     "name": "stderr",
     "output_type": "stream",
     "text": [
      "Downloading files:   0%|                                                                                                                                                      | 0.00/1.00 [02:06<?, ?B/s]"
     ]
    },
    {
     "name": "stdout",
     "output_type": "stream",
     "text": [
      "[syn53422343:row_metadata.tsv]: Copying existing file from /storage/my_disk/helical_coding_challenge/.synapsecache/423/132658423/row_metadata.tsv to /storage/my_disk/helical_coding_challenge/data/syn51105515/Processed Data/200721_FTLD_210_snRNA-A11/row_metadata.tsv\n"
     ]
    },
    {
     "name": "stderr",
     "output_type": "stream",
     "text": [
      "Downloading files:   0%|                                                                                                                                                      | 0.00/1.00 [02:07<?, ?B/s]"
     ]
    },
    {
     "name": "stdout",
     "output_type": "stream",
     "text": [
      "[syn53422005:counts_fil.mtx]: Copying existing file from /storage/my_disk/helical_coding_challenge/.synapsecache/452/132658452/counts_fil.mtx to /storage/my_disk/helical_coding_challenge/data/syn51105515/Processed Data/210526_ALS_116_snRNA-A6/counts_fil.mtx\n"
     ]
    },
    {
     "name": "stderr",
     "output_type": "stream",
     "text": [
      "Downloading files:   0%|                                                                                                                                                      | 0.00/1.00 [02:10<?, ?B/s]"
     ]
    },
    {
     "name": "stdout",
     "output_type": "stream",
     "text": [
      "[syn53422109:counts_fil.mtx]: Copying existing file from /storage/my_disk/helical_coding_challenge/.synapsecache/567/132658567/counts_fil.mtx to /storage/my_disk/helical_coding_challenge/data/syn51105515/Processed Data/191113_FTLD_202_snRNA-D3/counts_fil.mtx\n"
     ]
    },
    {
     "name": "stderr",
     "output_type": "stream",
     "text": [
      "Downloading files:   0%|                                                                                                                                                      | 0.00/1.00 [02:10<?, ?B/s]"
     ]
    },
    {
     "name": "stdout",
     "output_type": "stream",
     "text": [
      "[syn53422222:col_metadata.tsv]: Copying existing file from /storage/my_disk/helical_coding_challenge/.synapsecache/686/132658686/col_metadata.tsv to /storage/my_disk/helical_coding_challenge/data/syn51105515/Processed Data/201019_ALS_104_snRNA-B4/col_metadata.tsv\n"
     ]
    },
    {
     "name": "stderr",
     "output_type": "stream",
     "text": [
      "Downloading files:   0%|                                                                                                                                                      | 0.00/1.00 [02:10<?, ?B/s]"
     ]
    },
    {
     "name": "stdout",
     "output_type": "stream",
     "text": [
      "[syn53422158:row_metadata.tsv]: Copying existing file from /storage/my_disk/helical_coding_challenge/.synapsecache/423/132658423/row_metadata.tsv to /storage/my_disk/helical_coding_challenge/data/syn51105515/Processed Data/201019_ALS_103_snRNA-B3/row_metadata.tsv\n"
     ]
    },
    {
     "name": "stderr",
     "output_type": "stream",
     "text": [
      "Downloading files:   0%|                                                                                                                                                      | 0.00/1.00 [02:10<?, ?B/s]"
     ]
    },
    {
     "name": "stdout",
     "output_type": "stream",
     "text": [
      "[syn53422151:col_metadata.tsv]: Copying existing file from /storage/my_disk/helical_coding_challenge/.synapsecache/610/132658610/col_metadata.tsv to /storage/my_disk/helical_coding_challenge/data/syn51105515/Processed Data/191114_PN_322_snRNA-F5/col_metadata.tsv\n"
     ]
    },
    {
     "name": "stderr",
     "output_type": "stream",
     "text": [
      "Downloading files:   0%|                                                                                                                                                      | 0.00/1.00 [02:10<?, ?B/s]"
     ]
    },
    {
     "name": "stdout",
     "output_type": "stream",
     "text": [
      "[syn53421977:col_metadata.tsv]: Copying existing file from /storage/my_disk/helical_coding_challenge/.synapsecache/419/132658419/col_metadata.tsv to /storage/my_disk/helical_coding_challenge/data/syn51105515/Processed Data/210526_ALS_116_snRNA-A6/col_metadata.tsv\n"
     ]
    },
    {
     "name": "stderr",
     "output_type": "stream",
     "text": [
      "Downloading files:   0%|                                                                                                                                                      | 0.00/1.00 [02:10<?, ?B/s]"
     ]
    },
    {
     "name": "stdout",
     "output_type": "stream",
     "text": [
      "[syn53422320:col_metadata.tsv]: Copying existing file from /storage/my_disk/helical_coding_challenge/.synapsecache/785/132658785/col_metadata.tsv to /storage/my_disk/helical_coding_challenge/data/syn51105515/Processed Data/210910_MCX_ALS_132_snRNA-C3/col_metadata.tsv\n"
     ]
    },
    {
     "name": "stderr",
     "output_type": "stream",
     "text": [
      "Downloading files:   0%|                                                                                                                                                      | 0.00/1.00 [02:10<?, ?B/s]"
     ]
    },
    {
     "name": "stdout",
     "output_type": "stream",
     "text": [
      "[syn53422378:row_metadata.tsv]: Copying existing file from /storage/my_disk/helical_coding_challenge/.synapsecache/423/132658423/row_metadata.tsv to /storage/my_disk/helical_coding_challenge/data/syn51105515/Processed Data/191114_PN_317_snRNA-F2/row_metadata.tsv\n"
     ]
    },
    {
     "name": "stderr",
     "output_type": "stream",
     "text": [
      "Downloading files:   0%|                                                                                                                                                      | 0.00/1.00 [02:10<?, ?B/s]"
     ]
    },
    {
     "name": "stdout",
     "output_type": "stream",
     "text": [
      "[syn53422178:row_metadata.tsv]: Copying existing file from /storage/my_disk/helical_coding_challenge/.synapsecache/423/132658423/row_metadata.tsv to /storage/my_disk/helical_coding_challenge/data/syn51105515/Processed Data/210526_PN_309_snRNA-E2/row_metadata.tsv\n"
     ]
    },
    {
     "name": "stderr",
     "output_type": "stream",
     "text": [
      "Downloading files:   0%|                                                                                                                                                      | 0.00/1.00 [02:10<?, ?B/s]"
     ]
    },
    {
     "name": "stdout",
     "output_type": "stream",
     "text": [
      "[syn53422180:counts_fil.mtx]: Copying existing file from /storage/my_disk/helical_coding_challenge/.synapsecache/643/132658643/counts_fil.mtx to /storage/my_disk/helical_coding_challenge/data/syn51105515/Processed Data/201019_ALS_103_snRNA-B3/counts_fil.mtx\n"
     ]
    },
    {
     "name": "stderr",
     "output_type": "stream",
     "text": [
      "Downloading files:   0%|                                                                                                                                                      | 0.00/1.00 [02:11<?, ?B/s]"
     ]
    },
    {
     "name": "stdout",
     "output_type": "stream",
     "text": [
      "[syn53422094:col_metadata.tsv]: Copying existing file from /storage/my_disk/helical_coding_challenge/.synapsecache/548/132658548/col_metadata.tsv to /storage/my_disk/helical_coding_challenge/data/syn51105515/Processed Data/191113_FTLD_225_snRNA-H5/col_metadata.tsv\n"
     ]
    },
    {
     "name": "stderr",
     "output_type": "stream",
     "text": [
      "Downloading files:   0%|                                                                                                                                                      | 0.00/1.00 [02:11<?, ?B/s]"
     ]
    },
    {
     "name": "stdout",
     "output_type": "stream",
     "text": [
      "[syn53422393:col_metadata.tsv]: Copying existing file from /storage/my_disk/helical_coding_challenge/.synapsecache/863/132658863/col_metadata.tsv to /storage/my_disk/helical_coding_challenge/data/syn51105515/Processed Data/191114_PN_317_snRNA-F2/col_metadata.tsv\n"
     ]
    },
    {
     "name": "stderr",
     "output_type": "stream",
     "text": [
      "Downloading files:   0%|                                                                                                                                                      | 0.00/1.00 [02:12<?, ?B/s]"
     ]
    },
    {
     "name": "stdout",
     "output_type": "stream",
     "text": [
      "[syn53422410:counts_fil.mtx]: Copying existing file from /storage/my_disk/helical_coding_challenge/.synapsecache/881/132658881/counts_fil.mtx to /storage/my_disk/helical_coding_challenge/data/syn51105515/Processed Data/191114_PN_317_snRNA-F2/counts_fil.mtx\n"
     ]
    },
    {
     "name": "stderr",
     "output_type": "stream",
     "text": [
      "Downloading files:   0%|                                                                                                                                                      | 0.00/1.00 [02:13<?, ?B/s]"
     ]
    },
    {
     "name": "stdout",
     "output_type": "stream",
     "text": [
      "[syn53422301:counts_fil.mtx]: Copying existing file from /storage/my_disk/helical_coding_challenge/.synapsecache/766/132658766/counts_fil.mtx to /storage/my_disk/helical_coding_challenge/data/syn51105515/Processed Data/210526_ALS_130_snRNA-B4/counts_fil.mtx\n"
     ]
    },
    {
     "name": "stderr",
     "output_type": "stream",
     "text": [
      "Downloading files:   0%|                                                                                                                                                      | 0.00/1.00 [02:15<?, ?B/s]"
     ]
    },
    {
     "name": "stdout",
     "output_type": "stream",
     "text": [
      "[syn53422377:counts_fil.mtx]: Copying existing file from /storage/my_disk/helical_coding_challenge/.synapsecache/845/132658845/counts_fil.mtx to /storage/my_disk/helical_coding_challenge/data/syn51105515/Processed Data/191113_FTLD_211_snRNA-D7/counts_fil.mtx\n"
     ]
    },
    {
     "name": "stderr",
     "output_type": "stream",
     "text": [
      "Downloading files:   0%|                                                                                                                                                      | 0.00/1.00 [02:16<?, ?B/s]"
     ]
    },
    {
     "name": "stdout",
     "output_type": "stream",
     "text": [
      "[syn53422066:col_metadata.tsv]: Copying existing file from /storage/my_disk/helical_coding_challenge/.synapsecache/523/132658523/col_metadata.tsv to /storage/my_disk/helical_coding_challenge/data/syn51105515/Processed Data/210910_PFC_ALS_137_snRNA-D4/col_metadata.tsv\n"
     ]
    },
    {
     "name": "stderr",
     "output_type": "stream",
     "text": [
      "Downloading files:   0%|                                                                                                                                                      | 0.00/1.00 [02:17<?, ?B/s]"
     ]
    },
    {
     "name": "stdout",
     "output_type": "stream",
     "text": [
      "[syn53422185:counts_fil.mtx]: Copying existing file from /storage/my_disk/helical_coding_challenge/.synapsecache/644/132658644/counts_fil.mtx to /storage/my_disk/helical_coding_challenge/data/syn51105515/Processed Data/210526_FTLD_237_snRNA-D3/counts_fil.mtx\n"
     ]
    },
    {
     "name": "stderr",
     "output_type": "stream",
     "text": [
      "Downloading files:   0%|                                                                                                                                                      | 0.00/1.00 [02:17<?, ?B/s]"
     ]
    },
    {
     "name": "stdout",
     "output_type": "stream",
     "text": [
      "[syn53422149:col_metadata.tsv]: Copying existing file from /storage/my_disk/helical_coding_challenge/.synapsecache/605/132658605/col_metadata.tsv to /storage/my_disk/helical_coding_challenge/data/syn51105515/Processed Data/210526_PN_311_snRNA-E3/col_metadata.tsv\n"
     ]
    },
    {
     "name": "stderr",
     "output_type": "stream",
     "text": [
      "Downloading files:   0%|                                                                                                                                                      | 0.00/1.00 [02:18<?, ?B/s]"
     ]
    },
    {
     "name": "stdout",
     "output_type": "stream",
     "text": [
      "[syn53422336:row_metadata.tsv]: Copying existing file from /storage/my_disk/helical_coding_challenge/.synapsecache/423/132658423/row_metadata.tsv to /storage/my_disk/helical_coding_challenge/data/syn51105515/Processed Data/210526_ALS_126_snRNA-A12/row_metadata.tsv\n"
     ]
    },
    {
     "name": "stderr",
     "output_type": "stream",
     "text": [
      "Downloading files:   0%|                                                                                                                                                      | 0.00/1.00 [02:18<?, ?B/s]"
     ]
    },
    {
     "name": "stdout",
     "output_type": "stream",
     "text": [
      "[syn53422021:col_metadata.tsv]: Copying existing file from /storage/my_disk/helical_coding_challenge/.synapsecache/473/132658473/col_metadata.tsv to /storage/my_disk/helical_coding_challenge/data/syn51105515/Processed Data/191113_FTLD_207_snRNA-D5/col_metadata.tsv\n"
     ]
    },
    {
     "name": "stderr",
     "output_type": "stream",
     "text": [
      "Downloading files:   0%|                                                                                                                                                      | 0.00/1.00 [02:18<?, ?B/s]"
     ]
    },
    {
     "name": "stdout",
     "output_type": "stream",
     "text": [
      "[syn53422286:col_metadata.tsv]: Copying existing file from /storage/my_disk/helical_coding_challenge/.synapsecache/754/132658754/col_metadata.tsv to /storage/my_disk/helical_coding_challenge/data/syn51105515/Processed Data/210526_ALS_130_snRNA-B4/col_metadata.tsv\n"
     ]
    },
    {
     "name": "stderr",
     "output_type": "stream",
     "text": [
      "Downloading files:   0%|                                                                                                                                                      | 0.00/1.00 [02:18<?, ?B/s]"
     ]
    },
    {
     "name": "stdout",
     "output_type": "stream",
     "text": [
      "[syn53422213:counts_fil.mtx]: Copying existing file from /storage/my_disk/helical_coding_challenge/.synapsecache/673/132658673/counts_fil.mtx to /storage/my_disk/helical_coding_challenge/data/syn51105515/Processed Data/210526_PN_309_snRNA-E2/counts_fil.mtx\n"
     ]
    },
    {
     "name": "stderr",
     "output_type": "stream",
     "text": [
      "Downloading files:   0%|                                                                                                                                                      | 0.00/1.00 [02:20<?, ?B/s]"
     ]
    },
    {
     "name": "stdout",
     "output_type": "stream",
     "text": [
      "[syn53422064:counts_fil.mtx]: Copying existing file from /storage/my_disk/helical_coding_challenge/.synapsecache/518/132658518/counts_fil.mtx to /storage/my_disk/helical_coding_challenge/data/syn51105515/Processed Data/210526_FTLD_217_snRNA-C2/counts_fil.mtx\n"
     ]
    },
    {
     "name": "stderr",
     "output_type": "stream",
     "text": [
      "Downloading files:   0%|                                                                                                                                                      | 0.00/1.00 [02:20<?, ?B/s]"
     ]
    },
    {
     "name": "stdout",
     "output_type": "stream",
     "text": [
      "[syn53422174:col_metadata.tsv]: Copying existing file from /storage/my_disk/helical_coding_challenge/.synapsecache/634/132658634/col_metadata.tsv to /storage/my_disk/helical_coding_challenge/data/syn51105515/Processed Data/191113_FTLD_216_snRNA-H3/col_metadata.tsv\n"
     ]
    },
    {
     "name": "stderr",
     "output_type": "stream",
     "text": [
      "Downloading files:   0%|                                                                                                                                                      | 0.00/1.00 [02:20<?, ?B/s]"
     ]
    },
    {
     "name": "stdout",
     "output_type": "stream",
     "text": [
      "[syn53422240:row_metadata.tsv]: Copying existing file from /storage/my_disk/helical_coding_challenge/.synapsecache/425/132658425/row_metadata.tsv to /storage/my_disk/helical_coding_challenge/data/syn51105515/Processed Data/220616_BL6_MCX_snRNA-A2/row_metadata.tsv\n"
     ]
    },
    {
     "name": "stderr",
     "output_type": "stream",
     "text": [
      "Downloading files:   0%|                                                                                                                                                      | 0.00/1.00 [02:21<?, ?B/s]"
     ]
    },
    {
     "name": "stdout",
     "output_type": "stream",
     "text": [
      "[syn53422053:counts_fil.mtx]: Copying existing file from /storage/my_disk/helical_coding_challenge/.synapsecache/506/132658506/counts_fil.mtx to /storage/my_disk/helical_coding_challenge/data/syn51105515/Processed Data/210526_FTLD_228_snRNA-C8/counts_fil.mtx\n"
     ]
    },
    {
     "name": "stderr",
     "output_type": "stream",
     "text": [
      "Downloading files:   0%|                                                                                                                                                      | 0.00/1.00 [02:22<?, ?B/s]"
     ]
    },
    {
     "name": "stdout",
     "output_type": "stream",
     "text": [
      "[syn53422414:col_metadata.tsv]: Copying existing file from /storage/my_disk/helical_coding_challenge/.synapsecache/886/132658886/col_metadata.tsv to /storage/my_disk/helical_coding_challenge/data/syn51105515/Processed Data/191114_PN_325_snRNA-F8/col_metadata.tsv\n"
     ]
    },
    {
     "name": "stderr",
     "output_type": "stream",
     "text": [
      "Downloading files:   0%|                                                                                                                                                      | 0.00/1.00 [02:22<?, ?B/s]"
     ]
    },
    {
     "name": "stdout",
     "output_type": "stream",
     "text": [
      "[syn53422296:row_metadata.tsv]: Copying existing file from /storage/my_disk/helical_coding_challenge/.synapsecache/423/132658423/row_metadata.tsv to /storage/my_disk/helical_coding_challenge/data/syn51105515/Processed Data/210526_ALS_101_snRNA-H5/row_metadata.tsv\n"
     ]
    },
    {
     "name": "stderr",
     "output_type": "stream",
     "text": [
      "Downloading files:   0%|                                                                                                                                                      | 0.00/1.00 [02:22<?, ?B/s]"
     ]
    },
    {
     "name": "stdout",
     "output_type": "stream",
     "text": [
      "[syn53422223:counts_fil.mtx]: Copying existing file from /storage/my_disk/helical_coding_challenge/.synapsecache/685/132658685/counts_fil.mtx to /storage/my_disk/helical_coding_challenge/data/syn51105515/Processed Data/201019_ALS_104_snRNA-B4/counts_fil.mtx\n"
     ]
    },
    {
     "name": "stderr",
     "output_type": "stream",
     "text": [
      "Downloading files:   0%|                                                                                                                                                      | 0.00/1.00 [02:22<?, ?B/s]"
     ]
    },
    {
     "name": "stdout",
     "output_type": "stream",
     "text": [
      "[syn53422205:row_metadata.tsv]: Copying existing file from /storage/my_disk/helical_coding_challenge/.synapsecache/423/132658423/row_metadata.tsv to /storage/my_disk/helical_coding_challenge/data/syn51105515/Processed Data/201019_ALS_104_snRNA-B4/row_metadata.tsv\n"
     ]
    },
    {
     "name": "stderr",
     "output_type": "stream",
     "text": [
      "Downloading files:   0%|                                                                                                                                                      | 0.00/1.00 [02:23<?, ?B/s]"
     ]
    },
    {
     "name": "stdout",
     "output_type": "stream",
     "text": [
      "[syn53422160:counts_fil.mtx]: Copying existing file from /storage/my_disk/helical_coding_challenge/.synapsecache/617/132658617/counts_fil.mtx to /storage/my_disk/helical_coding_challenge/data/syn51105515/Processed Data/210910_MCX_ALS_131_snRNA-C2/counts_fil.mtx\n"
     ]
    },
    {
     "name": "stderr",
     "output_type": "stream",
     "text": [
      "Downloading files:   0%|                                                                                                                                                      | 0.00/1.00 [02:25<?, ?B/s]"
     ]
    },
    {
     "name": "stdout",
     "output_type": "stream",
     "text": [
      "[syn53422199:col_metadata.tsv]: Copying existing file from /storage/my_disk/helical_coding_challenge/.synapsecache/661/132658661/col_metadata.tsv to /storage/my_disk/helical_coding_challenge/data/syn51105515/Processed Data/201019_ALS_106_snRNA-B5/col_metadata.tsv\n"
     ]
    },
    {
     "name": "stderr",
     "output_type": "stream",
     "text": [
      "Downloading files:   0%|                                                                                                                                                      | 0.00/1.00 [02:25<?, ?B/s]"
     ]
    },
    {
     "name": "stdout",
     "output_type": "stream",
     "text": [
      "[syn53422031:col_metadata.tsv]: Copying existing file from /storage/my_disk/helical_coding_challenge/.synapsecache/486/132658486/col_metadata.tsv to /storage/my_disk/helical_coding_challenge/data/syn51105515/Processed Data/191113_FTLD_222_snRNA-E1/col_metadata.tsv\n"
     ]
    },
    {
     "name": "stderr",
     "output_type": "stream",
     "text": [
      "Downloading files:   0%|                                                                                                                                                      | 0.00/1.00 [02:26<?, ?B/s]"
     ]
    },
    {
     "name": "stdout",
     "output_type": "stream",
     "text": [
      "[syn53422350:counts_fil.mtx]: Copying existing file from /storage/my_disk/helical_coding_challenge/.synapsecache/817/132658817/counts_fil.mtx to /storage/my_disk/helical_coding_challenge/data/syn51105515/Processed Data/210526_FTLD_234_snRNA-C12/counts_fil.mtx\n"
     ]
    },
    {
     "name": "stderr",
     "output_type": "stream",
     "text": [
      "Downloading files:   0%|                                                                                                                                                      | 0.00/1.00 [02:28<?, ?B/s]"
     ]
    },
    {
     "name": "stdout",
     "output_type": "stream",
     "text": [
      "[syn53422364:counts_fil.mtx]: Copying existing file from /storage/my_disk/helical_coding_challenge/.synapsecache/834/132658834/counts_fil.mtx to /storage/my_disk/helical_coding_challenge/data/syn51105515/Processed Data/200721_FTLD_210_snRNA-A11/counts_fil.mtx\n"
     ]
    },
    {
     "name": "stderr",
     "output_type": "stream",
     "text": [
      "Downloading files:   0%|                                                                                                                                                      | 0.00/1.00 [02:28<?, ?B/s]"
     ]
    },
    {
     "name": "stdout",
     "output_type": "stream",
     "text": [
      "[syn53422351:col_metadata.tsv]: Copying existing file from /storage/my_disk/helical_coding_challenge/.synapsecache/821/132658821/col_metadata.tsv to /storage/my_disk/helical_coding_challenge/data/syn51105515/Processed Data/210526_FTLD_234_snRNA-C12/col_metadata.tsv\n"
     ]
    },
    {
     "name": "stderr",
     "output_type": "stream",
     "text": [
      "Downloading files:   0%|                                                                                                                                                      | 0.00/1.00 [02:28<?, ?B/s]"
     ]
    },
    {
     "name": "stdout",
     "output_type": "stream",
     "text": [
      "[syn53422170:counts_fil.mtx]: Copying existing file from /storage/my_disk/helical_coding_challenge/.synapsecache/630/132658630/counts_fil.mtx to /storage/my_disk/helical_coding_challenge/data/syn51105515/Processed Data/210526_PN_311_snRNA-E3/counts_fil.mtx\n"
     ]
    },
    {
     "name": "stderr",
     "output_type": "stream",
     "text": [
      "Downloading files:   0%|                                                                                                                                                      | 0.00/1.00 [02:30<?, ?B/s]"
     ]
    },
    {
     "name": "stdout",
     "output_type": "stream",
     "text": [
      "[syn53422129:row_metadata.tsv]: Copying existing file from /storage/my_disk/helical_coding_challenge/.synapsecache/423/132658423/row_metadata.tsv to /storage/my_disk/helical_coding_challenge/data/syn51105515/Processed Data/210910_PFC_ALS_134_snRNA-D1/row_metadata.tsv\n"
     ]
    },
    {
     "name": "stderr",
     "output_type": "stream",
     "text": [
      "Downloading files:   0%|                                                                                                                                                      | 0.00/1.00 [02:30<?, ?B/s]"
     ]
    },
    {
     "name": "stdout",
     "output_type": "stream",
     "text": [
      "[syn53421986:row_metadata.tsv]: Copying existing file from /storage/my_disk/helical_coding_challenge/.synapsecache/423/132658423/row_metadata.tsv to /storage/my_disk/helical_coding_challenge/data/syn51105515/Processed Data/210526_ALS_116_snRNA-A6/row_metadata.tsv\n"
     ]
    },
    {
     "name": "stderr",
     "output_type": "stream",
     "text": [
      "Downloading files:   0%|                                                                                                                                                      | 0.00/1.00 [02:30<?, ?B/s]"
     ]
    },
    {
     "name": "stdout",
     "output_type": "stream",
     "text": [
      "[syn53422365:col_metadata.tsv]: Copying existing file from /storage/my_disk/helical_coding_challenge/.synapsecache/835/132658835/col_metadata.tsv to /storage/my_disk/helical_coding_challenge/data/syn51105515/Processed Data/210526_ALS_115_snRNA-A5/col_metadata.tsv\n"
     ]
    },
    {
     "name": "stderr",
     "output_type": "stream",
     "text": [
      "Downloading files:   0%|                                                                                                                                                      | 0.00/1.00 [02:30<?, ?B/s]"
     ]
    },
    {
     "name": "stdout",
     "output_type": "stream",
     "text": [
      "[syn53422385:counts_fil.mtx]: Copying existing file from /storage/my_disk/helical_coding_challenge/.synapsecache/857/132658857/counts_fil.mtx to /storage/my_disk/helical_coding_challenge/data/syn51105515/Processed Data/191114_PN_323_snRNA-F6/counts_fil.mtx\n"
     ]
    },
    {
     "name": "stderr",
     "output_type": "stream",
     "text": [
      "Downloading files:   0%|                                                                                                                                                      | 0.00/1.00 [02:30<?, ?B/s]"
     ]
    },
    {
     "name": "stdout",
     "output_type": "stream",
     "text": [
      "[syn53422422:counts_fil.mtx]: Copying existing file from /storage/my_disk/helical_coding_challenge/.synapsecache/900/132658900/counts_fil.mtx to /storage/my_disk/helical_coding_challenge/data/syn51105515/Processed Data/191114_PN_325_snRNA-F8/counts_fil.mtx\n"
     ]
    },
    {
     "name": "stderr",
     "output_type": "stream",
     "text": [
      "Downloading files:   0%|                                                                                                                                                      | 0.00/1.00 [02:31<?, ?B/s]"
     ]
    },
    {
     "name": "stdout",
     "output_type": "stream",
     "text": [
      "[syn53422177:row_metadata.tsv]: Copying existing file from /storage/my_disk/helical_coding_challenge/.synapsecache/423/132658423/row_metadata.tsv to /storage/my_disk/helical_coding_challenge/data/syn51105515/Processed Data/210526_ALS_120_snRNA-A9/row_metadata.tsv\n"
     ]
    },
    {
     "name": "stderr",
     "output_type": "stream",
     "text": [
      "Downloading files:   0%|                                                                                                                                                      | 0.00/1.00 [02:31<?, ?B/s]"
     ]
    },
    {
     "name": "stdout",
     "output_type": "stream",
     "text": [
      "[syn53421987:col_metadata.tsv]: Copying existing file from /storage/my_disk/helical_coding_challenge/.synapsecache/428/132658428/col_metadata.tsv to /storage/my_disk/helical_coding_challenge/data/syn51105515/Processed Data/210526_ALS_111_snRNA-A1/col_metadata.tsv\n"
     ]
    },
    {
     "name": "stderr",
     "output_type": "stream",
     "text": [
      "Downloading files:   0%|                                                                                                                                                      | 0.00/1.00 [02:31<?, ?B/s]"
     ]
    },
    {
     "name": "stdout",
     "output_type": "stream",
     "text": [
      "[syn53422179:col_metadata.tsv]: Copying existing file from /storage/my_disk/helical_coding_challenge/.synapsecache/640/132658640/col_metadata.tsv to /storage/my_disk/helical_coding_challenge/data/syn51105515/Processed Data/210526_FTLD_237_snRNA-D3/col_metadata.tsv\n"
     ]
    },
    {
     "name": "stderr",
     "output_type": "stream",
     "text": [
      "Downloading files:   0%|                                                                                                                                                      | 0.00/1.00 [02:31<?, ?B/s]"
     ]
    },
    {
     "name": "stdout",
     "output_type": "stream",
     "text": [
      "[syn53422302:counts_fil.mtx]: Copying existing file from /storage/my_disk/helical_coding_challenge/.synapsecache/767/132658767/counts_fil.mtx to /storage/my_disk/helical_coding_challenge/data/syn51105515/Processed Data/210526_ALS_122_snRNA-A10/counts_fil.mtx\n"
     ]
    },
    {
     "name": "stderr",
     "output_type": "stream",
     "text": [
      "Downloading files:   0%|                                                                                                                                                      | 0.00/1.00 [02:32<?, ?B/s]"
     ]
    },
    {
     "name": "stdout",
     "output_type": "stream",
     "text": [
      "[syn53422221:col_metadata.tsv]: Copying existing file from /storage/my_disk/helical_coding_challenge/.synapsecache/684/132658684/col_metadata.tsv to /storage/my_disk/helical_coding_challenge/data/syn51105515/Processed Data/210526_FTLD_216_snRNA-C1/col_metadata.tsv\n"
     ]
    },
    {
     "name": "stderr",
     "output_type": "stream",
     "text": [
      "Downloading files:   0%|                                                                                                                                                      | 0.00/1.00 [02:32<?, ?B/s]"
     ]
    },
    {
     "name": "stdout",
     "output_type": "stream",
     "text": [
      "[syn53422322:row_metadata.tsv]: Copying existing file from /storage/my_disk/helical_coding_challenge/.synapsecache/423/132658423/row_metadata.tsv to /storage/my_disk/helical_coding_challenge/data/syn51105515/Processed Data/210526_FTLD_234_snRNA-C12/row_metadata.tsv\n"
     ]
    },
    {
     "name": "stderr",
     "output_type": "stream",
     "text": [
      "Downloading files:   0%|                                                                                                                                                      | 0.00/1.00 [02:32<?, ?B/s]"
     ]
    },
    {
     "name": "stdout",
     "output_type": "stream",
     "text": [
      "[syn53422400:counts_fil.mtx]: Copying existing file from /storage/my_disk/helical_coding_challenge/.synapsecache/872/132658872/counts_fil.mtx to /storage/my_disk/helical_coding_challenge/data/syn51105515/Processed Data/210910_PFC_ALS_131_snRNA-C10/counts_fil.mtx\n"
     ]
    },
    {
     "name": "stderr",
     "output_type": "stream",
     "text": [
      "Downloading files:   0%|                                                                                                                                                      | 0.00/1.00 [02:34<?, ?B/s]"
     ]
    },
    {
     "name": "stdout",
     "output_type": "stream",
     "text": [
      "[syn53422323:counts_fil.mtx]: Copying existing file from /storage/my_disk/helical_coding_challenge/.synapsecache/787/132658787/counts_fil.mtx to /storage/my_disk/helical_coding_challenge/data/syn51105515/Processed Data/210526_ALS_101_snRNA-H5/counts_fil.mtx\n"
     ]
    },
    {
     "name": "stderr",
     "output_type": "stream",
     "text": [
      "Downloading files:   0%|                                                                                                                                                      | 0.00/1.00 [02:36<?, ?B/s]"
     ]
    },
    {
     "name": "stdout",
     "output_type": "stream",
     "text": [
      "[syn53422347:counts_fil.mtx]: Copying existing file from /storage/my_disk/helical_coding_challenge/.synapsecache/814/132658814/counts_fil.mtx to /storage/my_disk/helical_coding_challenge/data/syn51105515/Processed Data/191113_FTLD_214_snRNA-D9/counts_fil.mtx\n"
     ]
    },
    {
     "name": "stderr",
     "output_type": "stream",
     "text": [
      "Downloading files:   0%|                                                                                                                                                      | 0.00/1.00 [02:37<?, ?B/s]"
     ]
    },
    {
     "name": "stdout",
     "output_type": "stream",
     "text": [
      "[syn53421993:row_metadata.tsv]: Copying existing file from /storage/my_disk/helical_coding_challenge/.synapsecache/423/132658423/row_metadata.tsv to /storage/my_disk/helical_coding_challenge/data/syn51105515/Processed Data/210526_ALS_104_snRNA-H8/row_metadata.tsv\n"
     ]
    },
    {
     "name": "stderr",
     "output_type": "stream",
     "text": [
      "Downloading files:   0%|                                                                                                                                                      | 0.00/1.00 [02:37<?, ?B/s]"
     ]
    },
    {
     "name": "stdout",
     "output_type": "stream",
     "text": [
      "[syn53422136:row_metadata.tsv]: Copying existing file from /storage/my_disk/helical_coding_challenge/.synapsecache/423/132658423/row_metadata.tsv to /storage/my_disk/helical_coding_challenge/data/syn51105515/Processed Data/210526_PN_311_snRNA-E3/row_metadata.tsv\n"
     ]
    },
    {
     "name": "stderr",
     "output_type": "stream",
     "text": [
      "Downloading files:   0%|                                                                                                                                                      | 0.00/1.00 [02:37<?, ?B/s]"
     ]
    },
    {
     "name": "stdout",
     "output_type": "stream",
     "text": [
      "[syn53422285:counts_fil.mtx]: Copying existing file from /storage/my_disk/helical_coding_challenge/.synapsecache/752/132658752/counts_fil.mtx to /storage/my_disk/helical_coding_challenge/data/syn51105515/Processed Data/210526_FTLD_207_snRNA-B8/counts_fil.mtx\n"
     ]
    },
    {
     "name": "stderr",
     "output_type": "stream",
     "text": [
      "Downloading files:   0%|                                                                                                                                                      | 0.00/1.00 [02:38<?, ?B/s]"
     ]
    },
    {
     "name": "stdout",
     "output_type": "stream",
     "text": [
      "[syn53422406:counts_fil.mtx]: Copying existing file from /storage/my_disk/helical_coding_challenge/.synapsecache/874/132658874/counts_fil.mtx to /storage/my_disk/helical_coding_challenge/data/syn51105515/Processed Data/210526_FTLD_218_snRNA-C3/counts_fil.mtx\n"
     ]
    },
    {
     "name": "stderr",
     "output_type": "stream",
     "text": [
      "Downloading files:   0%|                                                                                                                                                      | 0.00/1.00 [02:39<?, ?B/s]"
     ]
    },
    {
     "name": "stdout",
     "output_type": "stream",
     "text": [
      "[syn53422131:col_metadata.tsv]: Copying existing file from /storage/my_disk/helical_coding_challenge/.synapsecache/589/132658589/col_metadata.tsv to /storage/my_disk/helical_coding_challenge/data/syn51105515/Processed Data/210526_ALS_112_snRNA-A2/col_metadata.tsv\n"
     ]
    },
    {
     "name": "stderr",
     "output_type": "stream",
     "text": [
      "Downloading files:   0%|                                                                                                                                                      | 0.00/1.00 [02:40<?, ?B/s]"
     ]
    },
    {
     "name": "stdout",
     "output_type": "stream",
     "text": [
      "[syn53422025:row_metadata.tsv]: Copying existing file from /storage/my_disk/helical_coding_challenge/.synapsecache/423/132658423/row_metadata.tsv to /storage/my_disk/helical_coding_challenge/data/syn51105515/Processed Data/201025_FTLD_239_snRNA-C11/row_metadata.tsv\n"
     ]
    },
    {
     "name": "stderr",
     "output_type": "stream",
     "text": [
      "Downloading files:   0%|                                                                                                                                                      | 0.00/1.00 [02:40<?, ?B/s]"
     ]
    },
    {
     "name": "stdout",
     "output_type": "stream",
     "text": [
      "[syn53422324:counts_fil.mtx]: Copying existing file from /storage/my_disk/helical_coding_challenge/.synapsecache/789/132658789/counts_fil.mtx to /storage/my_disk/helical_coding_challenge/data/syn51105515/Processed Data/210526_FTLD_236_snRNA-D2/counts_fil.mtx\n"
     ]
    },
    {
     "name": "stderr",
     "output_type": "stream",
     "text": [
      "Downloading files:   0%|                                                                                                                                                      | 0.00/1.00 [02:41<?, ?B/s]"
     ]
    },
    {
     "name": "stdout",
     "output_type": "stream",
     "text": [
      "[syn53422167:col_metadata.tsv]: Copying existing file from /storage/my_disk/helical_coding_challenge/.synapsecache/625/132658625/col_metadata.tsv to /storage/my_disk/helical_coding_challenge/data/syn51105515/Processed Data/201019_ALS_103_snRNA-B3/col_metadata.tsv\n"
     ]
    },
    {
     "name": "stderr",
     "output_type": "stream",
     "text": [
      "Downloading files:   0%|                                                                                                                                                      | 0.00/1.00 [02:41<?, ?B/s]"
     ]
    },
    {
     "name": "stdout",
     "output_type": "stream",
     "text": [
      "[syn53422043:counts_fil.mtx]: Copying existing file from /storage/my_disk/helical_coding_challenge/.synapsecache/495/132658495/counts_fil.mtx to /storage/my_disk/helical_coding_challenge/data/syn51105515/Processed Data/191113_FTLD_222_snRNA-E1/counts_fil.mtx\n"
     ]
    },
    {
     "name": "stderr",
     "output_type": "stream",
     "text": [
      "Downloading files:   0%|                                                                                                                                                      | 0.00/1.00 [02:42<?, ?B/s]"
     ]
    },
    {
     "name": "stdout",
     "output_type": "stream",
     "text": [
      "[syn53422117:counts_fil.mtx]: Copying existing file from /storage/my_disk/helical_coding_challenge/.synapsecache/571/132658571/counts_fil.mtx to /storage/my_disk/helical_coding_challenge/data/syn51105515/Processed Data/210526_FTLD_225_snRNA-C6/counts_fil.mtx\n"
     ]
    },
    {
     "name": "stderr",
     "output_type": "stream",
     "text": [
      "Downloading files:   0%|                                                                                                                                                      | 0.00/1.00 [02:43<?, ?B/s]"
     ]
    },
    {
     "name": "stdout",
     "output_type": "stream",
     "text": [
      "[syn53422306:row_metadata.tsv]: Copying existing file from /storage/my_disk/helical_coding_challenge/.synapsecache/423/132658423/row_metadata.tsv to /storage/my_disk/helical_coding_challenge/data/syn51105515/Processed Data/210910_MCX_ALS_132_snRNA-C3/row_metadata.tsv\n"
     ]
    },
    {
     "name": "stderr",
     "output_type": "stream",
     "text": [
      "Downloading files:   0%|                                                                                                                                                      | 0.00/1.00 [02:43<?, ?B/s]"
     ]
    },
    {
     "name": "stdout",
     "output_type": "stream",
     "text": [
      "[syn53422071:col_metadata.tsv]: Copying existing file from /storage/my_disk/helical_coding_challenge/.synapsecache/525/132658525/col_metadata.tsv to /storage/my_disk/helical_coding_challenge/data/syn51105515/Processed Data/210526_FTLD_211_snRNA-B11/col_metadata.tsv\n"
     ]
    },
    {
     "name": "stderr",
     "output_type": "stream",
     "text": [
      "Downloading files:   0%|                                                                                                                                                      | 0.00/1.00 [02:43<?, ?B/s]"
     ]
    },
    {
     "name": "stdout",
     "output_type": "stream",
     "text": [
      "[syn53422220:row_metadata.tsv]: Copying existing file from /storage/my_disk/helical_coding_challenge/.synapsecache/423/132658423/row_metadata.tsv to /storage/my_disk/helical_coding_challenge/data/syn51105515/Processed Data/191114_PN_301_snRNA-E7/row_metadata.tsv\n"
     ]
    },
    {
     "name": "stderr",
     "output_type": "stream",
     "text": [
      "Downloading files:   0%|                                                                                                                                                      | 0.00/1.00 [02:43<?, ?B/s]"
     ]
    },
    {
     "name": "stdout",
     "output_type": "stream",
     "text": [
      "[syn53422348:col_metadata.tsv]: Copying existing file from /storage/my_disk/helical_coding_challenge/.synapsecache/820/132658820/col_metadata.tsv to /storage/my_disk/helical_coding_challenge/data/syn51105515/Processed Data/210526_ALS_126_snRNA-A12/col_metadata.tsv\n"
     ]
    },
    {
     "name": "stderr",
     "output_type": "stream",
     "text": [
      "Downloading files:   0%|                                                                                                                                                      | 0.00/1.00 [02:43<?, ?B/s]"
     ]
    },
    {
     "name": "stdout",
     "output_type": "stream",
     "text": [
      "[syn53422358:col_metadata.tsv]: Copying existing file from /storage/my_disk/helical_coding_challenge/.synapsecache/829/132658829/col_metadata.tsv to /storage/my_disk/helical_coding_challenge/data/syn51105515/Processed Data/191113_FTLD_211_snRNA-D7/col_metadata.tsv\n"
     ]
    },
    {
     "name": "stderr",
     "output_type": "stream",
     "text": [
      "Downloading files:   0%|                                                                                                                                                      | 0.00/1.00 [02:43<?, ?B/s]"
     ]
    },
    {
     "name": "stdout",
     "output_type": "stream",
     "text": [
      "[syn53422009:row_metadata.tsv]: Copying existing file from /storage/my_disk/helical_coding_challenge/.synapsecache/423/132658423/row_metadata.tsv to /storage/my_disk/helical_coding_challenge/data/syn51105515/Processed Data/191113_FTLD_207_snRNA-D5/row_metadata.tsv\n"
     ]
    },
    {
     "name": "stderr",
     "output_type": "stream",
     "text": [
      "Downloading files:   0%|                                                                                                                                                      | 0.00/1.00 [02:43<?, ?B/s]"
     ]
    },
    {
     "name": "stdout",
     "output_type": "stream",
     "text": [
      "[syn53422252:row_metadata.tsv]: Copying existing file from /storage/my_disk/helical_coding_challenge/.synapsecache/423/132658423/row_metadata.tsv to /storage/my_disk/helical_coding_challenge/data/syn51105515/Processed Data/210526_ALS_122_snRNA-A10/row_metadata.tsv\n"
     ]
    },
    {
     "name": "stderr",
     "output_type": "stream",
     "text": [
      "Downloading files:   0%|                                                                                                                                                      | 0.00/1.00 [02:43<?, ?B/s]"
     ]
    },
    {
     "name": "stdout",
     "output_type": "stream",
     "text": [
      "[syn53422206:counts_fil.mtx]: Copying existing file from /storage/my_disk/helical_coding_challenge/.synapsecache/666/132658666/counts_fil.mtx to /storage/my_disk/helical_coding_challenge/data/syn51105515/Processed Data/210526_FTLD_232_snRNA-C11/counts_fil.mtx\n"
     ]
    },
    {
     "name": "stderr",
     "output_type": "stream",
     "text": [
      "Downloading files:   0%|                                                                                                                                                      | 0.00/1.00 [02:44<?, ?B/s]"
     ]
    },
    {
     "name": "stdout",
     "output_type": "stream",
     "text": [
      "[syn53422011:col_metadata.tsv]: Copying existing file from /storage/my_disk/helical_coding_challenge/.synapsecache/463/132658463/col_metadata.tsv to /storage/my_disk/helical_coding_challenge/data/syn51105515/Processed Data/210526_PN_322_snRNA-E6/col_metadata.tsv\n"
     ]
    },
    {
     "name": "stderr",
     "output_type": "stream",
     "text": [
      "Downloading files:   0%|                                                                                                                                                      | 0.00/1.00 [02:44<?, ?B/s]"
     ]
    },
    {
     "name": "stdout",
     "output_type": "stream",
     "text": [
      "[syn53422159:row_metadata.tsv]: Copying existing file from /storage/my_disk/helical_coding_challenge/.synapsecache/423/132658423/row_metadata.tsv to /storage/my_disk/helical_coding_challenge/data/syn51105515/Processed Data/191113_FTLD_216_snRNA-H3/row_metadata.tsv\n"
     ]
    },
    {
     "name": "stderr",
     "output_type": "stream",
     "text": [
      "Downloading files:   0%|                                                                                                                                                      | 0.00/1.00 [02:44<?, ?B/s]"
     ]
    },
    {
     "name": "stdout",
     "output_type": "stream",
     "text": [
      "[syn53422371:row_metadata.tsv]: Copying existing file from /storage/my_disk/helical_coding_challenge/.synapsecache/423/132658423/row_metadata.tsv to /storage/my_disk/helical_coding_challenge/data/syn51105515/Processed Data/210526_FTLD_218_snRNA-C3/row_metadata.tsv\n"
     ]
    },
    {
     "name": "stderr",
     "output_type": "stream",
     "text": [
      "Downloading files:   0%|                                                                                                                                                      | 0.00/1.00 [02:44<?, ?B/s]"
     ]
    },
    {
     "name": "stdout",
     "output_type": "stream",
     "text": [
      "[syn53422367:counts_fil.mtx]: Copying existing file from /storage/my_disk/helical_coding_challenge/.synapsecache/837/132658837/counts_fil.mtx to /storage/my_disk/helical_coding_challenge/data/syn51105515/Processed Data/210526_ALS_126_snRNA-A12/counts_fil.mtx\n"
     ]
    },
    {
     "name": "stderr",
     "output_type": "stream",
     "text": [
      "Downloading files:   0%|                                                                                                                                                      | 0.00/1.00 [02:44<?, ?B/s]"
     ]
    },
    {
     "name": "stdout",
     "output_type": "stream",
     "text": [
      "[syn53422135:row_metadata.tsv]: Copying existing file from /storage/my_disk/helical_coding_challenge/.synapsecache/423/132658423/row_metadata.tsv to /storage/my_disk/helical_coding_challenge/data/syn51105515/Processed Data/210910_MCX_ALS_131_snRNA-C2/row_metadata.tsv\n"
     ]
    },
    {
     "name": "stderr",
     "output_type": "stream",
     "text": [
      "Downloading files:   0%|                                                                                                                                                      | 0.00/1.00 [02:45<?, ?B/s]"
     ]
    },
    {
     "name": "stdout",
     "output_type": "stream",
     "text": [
      "[syn53422041:col_metadata.tsv]: Copying existing file from /storage/my_disk/helical_coding_challenge/.synapsecache/494/132658494/col_metadata.tsv to /storage/my_disk/helical_coding_challenge/data/syn51105515/Processed Data/201025_FTLD_239_snRNA-C11/col_metadata.tsv\n"
     ]
    },
    {
     "name": "stderr",
     "output_type": "stream",
     "text": [
      "Downloading files:   0%|                                                                                                                                                      | 0.00/1.00 [02:45<?, ?B/s]"
     ]
    },
    {
     "name": "stdout",
     "output_type": "stream",
     "text": [
      "[syn53422344:row_metadata.tsv]: Copying existing file from /storage/my_disk/helical_coding_challenge/.synapsecache/423/132658423/row_metadata.tsv to /storage/my_disk/helical_coding_challenge/data/syn51105515/Processed Data/191113_FTLD_211_snRNA-D7/row_metadata.tsv\n"
     ]
    },
    {
     "name": "stderr",
     "output_type": "stream",
     "text": [
      "Downloading files:   0%|                                                                                                                                                      | 0.00/1.00 [02:45<?, ?B/s]"
     ]
    },
    {
     "name": "stdout",
     "output_type": "stream",
     "text": [
      "[syn53422268:row_metadata.tsv]: Copying existing file from /storage/my_disk/helical_coding_challenge/.synapsecache/423/132658423/row_metadata.tsv to /storage/my_disk/helical_coding_challenge/data/syn51105515/Processed Data/210526_ALS_130_snRNA-B4/row_metadata.tsv\n"
     ]
    },
    {
     "name": "stderr",
     "output_type": "stream",
     "text": [
      "Downloading files:   0%|                                                                                                                                                      | 0.00/1.00 [02:45<?, ?B/s]"
     ]
    },
    {
     "name": "stdout",
     "output_type": "stream",
     "text": [
      "[syn53422056:counts_fil.mtx]: Copying existing file from /storage/my_disk/helical_coding_challenge/.synapsecache/509/132658509/counts_fil.mtx to /storage/my_disk/helical_coding_challenge/data/syn51105515/Processed Data/201025_FTLD_239_snRNA-C11/counts_fil.mtx\n"
     ]
    },
    {
     "name": "stderr",
     "output_type": "stream",
     "text": [
      "Downloading files:   0%|                                                                                                                                                      | 0.00/1.00 [02:45<?, ?B/s]"
     ]
    },
    {
     "name": "stdout",
     "output_type": "stream",
     "text": [
      "[syn53422001:counts_fil.mtx]: Copying existing file from /storage/my_disk/helical_coding_challenge/.synapsecache/453/132658453/counts_fil.mtx to /storage/my_disk/helical_coding_challenge/data/syn51105515/Processed Data/210526_FTLD_229_snRNA-B9/counts_fil.mtx\n"
     ]
    },
    {
     "name": "stderr",
     "output_type": "stream",
     "text": [
      "Downloading files:   0%|                                                                                                                                                      | 0.00/1.00 [02:45<?, ?B/s]"
     ]
    },
    {
     "name": "stdout",
     "output_type": "stream",
     "text": [
      "[syn53422012:col_metadata.tsv]: Copying existing file from /storage/my_disk/helical_coding_challenge/.synapsecache/464/132658464/col_metadata.tsv to /storage/my_disk/helical_coding_challenge/data/syn51105515/Processed Data/200721_FTLD_229_snRNA-B2/col_metadata.tsv\n"
     ]
    },
    {
     "name": "stderr",
     "output_type": "stream",
     "text": [
      "Downloading files:   0%|                                                                                                                                                      | 0.00/1.00 [02:45<?, ?B/s]"
     ]
    },
    {
     "name": "stdout",
     "output_type": "stream",
     "text": [
      "[syn53422267:row_metadata.tsv]: Copying existing file from /storage/my_disk/helical_coding_challenge/.synapsecache/423/132658423/row_metadata.tsv to /storage/my_disk/helical_coding_challenge/data/syn51105515/Processed Data/210526_FTLD_207_snRNA-B8/row_metadata.tsv\n"
     ]
    },
    {
     "name": "stderr",
     "output_type": "stream",
     "text": [
      "Downloading files:   0%|                                                                                                                                                      | 0.00/1.00 [02:46<?, ?B/s]"
     ]
    },
    {
     "name": "stdout",
     "output_type": "stream",
     "text": [
      "[syn53422190:counts_fil.mtx]: Copying existing file from /storage/my_disk/helical_coding_challenge/.synapsecache/654/132658654/counts_fil.mtx to /storage/my_disk/helical_coding_challenge/data/syn51105515/Processed Data/191113_FTLD_216_snRNA-H3/counts_fil.mtx\n"
     ]
    },
    {
     "name": "stderr",
     "output_type": "stream",
     "text": [
      "Downloading files:   0%|                                                                                                                                                      | 0.00/1.00 [02:46<?, ?B/s]"
     ]
    },
    {
     "name": "stdout",
     "output_type": "stream",
     "text": [
      "[syn53422155:counts_fil.mtx]: Copying existing file from /storage/my_disk/helical_coding_challenge/.synapsecache/612/132658612/counts_fil.mtx to /storage/my_disk/helical_coding_challenge/data/syn51105515/Processed Data/210526_ALS_112_snRNA-A2/counts_fil.mtx\n"
     ]
    },
    {
     "name": "stderr",
     "output_type": "stream",
     "text": [
      "Downloading files:   0%|                                                                                                                                                      | 0.00/1.00 [02:47<?, ?B/s]"
     ]
    },
    {
     "name": "stdout",
     "output_type": "stream",
     "text": [
      "[syn53422172:counts_fil.mtx]: Copying existing file from /storage/my_disk/helical_coding_challenge/.synapsecache/631/132658631/counts_fil.mtx to /storage/my_disk/helical_coding_challenge/data/syn51105515/Processed Data/210526_PN_324_snRNA-F4/counts_fil.mtx\n"
     ]
    },
    {
     "name": "stderr",
     "output_type": "stream",
     "text": [
      "Downloading files:   0%|                                                                                                                                                      | 0.00/1.00 [02:48<?, ?B/s]"
     ]
    },
    {
     "name": "stdout",
     "output_type": "stream",
     "text": [
      "[syn53422293:row_metadata.tsv]: Copying existing file from /storage/my_disk/helical_coding_challenge/.synapsecache/423/132658423/row_metadata.tsv to /storage/my_disk/helical_coding_challenge/data/syn51105515/Processed Data/210526_FTLD_236_snRNA-D2/row_metadata.tsv\n"
     ]
    },
    {
     "name": "stderr",
     "output_type": "stream",
     "text": [
      "Downloading files:   0%|                                                                                                                                                      | 0.00/1.00 [02:48<?, ?B/s]"
     ]
    },
    {
     "name": "stdout",
     "output_type": "stream",
     "text": [
      "[syn53422165:counts_fil.mtx]: Copying existing file from /storage/my_disk/helical_coding_challenge/.synapsecache/620/132658620/counts_fil.mtx to /storage/my_disk/helical_coding_challenge/data/syn51105515/Processed Data/191114_PN_306_snRNA-E10/counts_fil.mtx\n"
     ]
    },
    {
     "name": "stderr",
     "output_type": "stream",
     "text": [
      "Downloading files:   0%|                                                                                                                                                      | 0.00/1.00 [02:48<?, ?B/s]"
     ]
    },
    {
     "name": "stdout",
     "output_type": "stream",
     "text": [
      "[syn53422153:col_metadata.tsv]: Copying existing file from /storage/my_disk/helical_coding_challenge/.synapsecache/613/132658613/col_metadata.tsv to /storage/my_disk/helical_coding_challenge/data/syn51105515/Processed Data/210526_PN_324_snRNA-F4/col_metadata.tsv\n"
     ]
    },
    {
     "name": "stderr",
     "output_type": "stream",
     "text": [
      "Downloading files:   0%|                                                                                                                                                      | 0.00/1.00 [02:48<?, ?B/s]"
     ]
    },
    {
     "name": "stdout",
     "output_type": "stream",
     "text": [
      "[syn53422014:counts_fil.mtx]: Copying existing file from /storage/my_disk/helical_coding_challenge/.synapsecache/466/132658466/counts_fil.mtx to /storage/my_disk/helical_coding_challenge/data/syn51105515/Processed Data/200721_FTLD_229_snRNA-B2/counts_fil.mtx\n"
     ]
    },
    {
     "name": "stderr",
     "output_type": "stream",
     "text": [
      "Downloading files:   0%|                                                                                                                                                      | 0.00/1.00 [02:48<?, ?B/s]"
     ]
    },
    {
     "name": "stdout",
     "output_type": "stream",
     "text": [
      "[syn53422369:row_metadata.tsv]: Copying existing file from /storage/my_disk/helical_coding_challenge/.synapsecache/423/132658423/row_metadata.tsv to /storage/my_disk/helical_coding_challenge/data/syn51105515/Processed Data/210910_PFC_ALS_131_snRNA-C10/row_metadata.tsv\n"
     ]
    },
    {
     "name": "stderr",
     "output_type": "stream",
     "text": [
      "Downloading files:   0%|                                                                                                                                                      | 0.00/1.00 [02:48<?, ?B/s]"
     ]
    },
    {
     "name": "stdout",
     "output_type": "stream",
     "text": [
      "[syn53422079:col_metadata.tsv]: Copying existing file from /storage/my_disk/helical_coding_challenge/.synapsecache/535/132658535/col_metadata.tsv to /storage/my_disk/helical_coding_challenge/data/syn51105515/Processed Data/201025_FTLD_235_snRNA-C7/col_metadata.tsv\n"
     ]
    },
    {
     "name": "stderr",
     "output_type": "stream",
     "text": [
      "Downloading files:   0%|                                                                                                                                                      | 0.00/1.00 [02:49<?, ?B/s]"
     ]
    },
    {
     "name": "stdout",
     "output_type": "stream",
     "text": [
      "[syn53422065:counts_fil.mtx]: Copying existing file from /storage/my_disk/helical_coding_challenge/.synapsecache/519/132658519/counts_fil.mtx to /storage/my_disk/helical_coding_challenge/data/syn51105515/Processed Data/210526_ALS_104_snRNA-H8/counts_fil.mtx\n"
     ]
    },
    {
     "name": "stderr",
     "output_type": "stream",
     "text": [
      "Downloading files:   0%|                                                                                                                                                      | 0.00/1.00 [02:50<?, ?B/s]"
     ]
    },
    {
     "name": "stdout",
     "output_type": "stream",
     "text": [
      "[syn53422265:col_metadata.tsv]: Copying existing file from /storage/my_disk/helical_coding_challenge/.synapsecache/730/132658730/col_metadata.tsv to /storage/my_disk/helical_coding_challenge/data/syn51105515/Processed Data/210526_ALS_122_snRNA-A10/col_metadata.tsv\n"
     ]
    },
    {
     "name": "stderr",
     "output_type": "stream",
     "text": [
      "Downloading files:   0%|                                                                                                                                                      | 0.00/1.00 [02:50<?, ?B/s]"
     ]
    },
    {
     "name": "stdout",
     "output_type": "stream",
     "text": [
      "[syn53422084:counts_fil.mtx]: Copying existing file from /storage/my_disk/helical_coding_challenge/.synapsecache/540/132658540/counts_fil.mtx to /storage/my_disk/helical_coding_challenge/data/syn51105515/Processed Data/201025_FTLD_235_snRNA-C7/counts_fil.mtx\n"
     ]
    },
    {
     "name": "stderr",
     "output_type": "stream",
     "text": [
      "Downloading files:   0%|                                                                                                                                                      | 0.00/1.00 [02:50<?, ?B/s]"
     ]
    },
    {
     "name": "stdout",
     "output_type": "stream",
     "text": [
      "[syn53422314:col_metadata.tsv]: Copying existing file from /storage/my_disk/helical_coding_challenge/.synapsecache/782/132658782/col_metadata.tsv to /storage/my_disk/helical_coding_challenge/data/syn51105515/Processed Data/210526_ALS_101_snRNA-H5/col_metadata.tsv\n"
     ]
    },
    {
     "name": "stderr",
     "output_type": "stream",
     "text": [
      "Downloading files:   0%|                                                                                                                                                      | 0.00/1.00 [02:50<?, ?B/s]"
     ]
    },
    {
     "name": "stdout",
     "output_type": "stream",
     "text": [
      "[syn53422003:col_metadata.tsv]: Copying existing file from /storage/my_disk/helical_coding_challenge/.synapsecache/456/132658456/col_metadata.tsv to /storage/my_disk/helical_coding_challenge/data/syn51105515/Processed Data/210526_ALS_104_snRNA-H8/col_metadata.tsv\n"
     ]
    },
    {
     "name": "stderr",
     "output_type": "stream",
     "text": [
      "Downloading files:   0%|                                                                                                                                                      | 0.00/1.00 [02:51<?, ?B/s]"
     ]
    },
    {
     "name": "stdout",
     "output_type": "stream",
     "text": [
      "[syn53422089:counts_fil.mtx]: Copying existing file from /storage/my_disk/helical_coding_challenge/.synapsecache/542/132658542/counts_fil.mtx to /storage/my_disk/helical_coding_challenge/data/syn51105515/Processed Data/210526_ALS_129_snRNA-B3/counts_fil.mtx\n"
     ]
    },
    {
     "name": "stderr",
     "output_type": "stream",
     "text": [
      "Downloading files:   0%|                                                                                                                                                      | 0.00/1.00 [02:52<?, ?B/s]"
     ]
    },
    {
     "name": "stdout",
     "output_type": "stream",
     "text": [
      "[syn53422281:col_metadata.tsv]: Copying existing file from /storage/my_disk/helical_coding_challenge/.synapsecache/747/132658747/col_metadata.tsv to /storage/my_disk/helical_coding_challenge/data/syn51105515/Processed Data/210526_FTLD_207_snRNA-B8/col_metadata.tsv\n"
     ]
    },
    {
     "name": "stderr",
     "output_type": "stream",
     "text": [
      "Downloading files:   0%|                                                                                                                                                      | 0.00/1.00 [02:52<?, ?B/s]"
     ]
    },
    {
     "name": "stdout",
     "output_type": "stream",
     "text": [
      "[syn53422058:row_metadata.tsv]: Copying existing file from /storage/my_disk/helical_coding_challenge/.synapsecache/423/132658423/row_metadata.tsv to /storage/my_disk/helical_coding_challenge/data/syn51105515/Processed Data/210526_FTLD_211_snRNA-B11/row_metadata.tsv\n"
     ]
    },
    {
     "name": "stderr",
     "output_type": "stream",
     "text": [
      "Downloading files:   0%|                                                                                                                                                      | 0.00/1.00 [02:52<?, ?B/s]"
     ]
    },
    {
     "name": "stdout",
     "output_type": "stream",
     "text": [
      "[syn53422315:row_metadata.tsv]: Copying existing file from /storage/my_disk/helical_coding_challenge/.synapsecache/423/132658423/row_metadata.tsv to /storage/my_disk/helical_coding_challenge/data/syn51105515/Processed Data/191113_FTLD_214_snRNA-D9/row_metadata.tsv\n"
     ]
    },
    {
     "name": "stderr",
     "output_type": "stream",
     "text": [
      "Downloading files:   0%|                                                                                                                                                      | 0.00/1.00 [02:52<?, ?B/s]"
     ]
    },
    {
     "name": "stdout",
     "output_type": "stream",
     "text": [
      "[syn53422140:row_metadata.tsv]: Copying existing file from /storage/my_disk/helical_coding_challenge/.synapsecache/423/132658423/row_metadata.tsv to /storage/my_disk/helical_coding_challenge/data/syn51105515/Processed Data/191114_PN_306_snRNA-E10/row_metadata.tsv\n"
     ]
    },
    {
     "name": "stderr",
     "output_type": "stream",
     "text": [
      "Downloading files:   0%|                                                                                                                                                      | 0.00/1.00 [02:53<?, ?B/s]"
     ]
    },
    {
     "name": "stdout",
     "output_type": "stream",
     "text": [
      "[syn53422093:counts_fil.mtx]: Copying existing file from /storage/my_disk/helical_coding_challenge/.synapsecache/545/132658545/counts_fil.mtx to /storage/my_disk/helical_coding_challenge/data/syn51105515/Processed Data/210526_FTLD_211_snRNA-B11/counts_fil.mtx\n"
     ]
    },
    {
     "name": "stderr",
     "output_type": "stream",
     "text": [
      "Downloading files:   0%|                                                                                                                                                      | 0.00/1.00 [02:53<?, ?B/s]"
     ]
    },
    {
     "name": "stdout",
     "output_type": "stream",
     "text": [
      "[syn53422015:row_metadata.tsv]: Copying existing file from /storage/my_disk/helical_coding_challenge/.synapsecache/423/132658423/row_metadata.tsv to /storage/my_disk/helical_coding_challenge/data/syn51105515/Processed Data/210910_MCX_ALS_135_snRNA-C6/row_metadata.tsv\n"
     ]
    },
    {
     "name": "stderr",
     "output_type": "stream",
     "text": [
      "Downloading files:   0%|                                                                                                                                                      | 0.00/1.00 [02:53<?, ?B/s]"
     ]
    },
    {
     "name": "stdout",
     "output_type": "stream",
     "text": [
      "[syn53422101:counts_fil.mtx]: Copying existing file from /storage/my_disk/helical_coding_challenge/.synapsecache/555/132658555/counts_fil.mtx to /storage/my_disk/helical_coding_challenge/data/syn51105515/Processed Data/191113_FTLD_226_snRNA-E4/counts_fil.mtx\n"
     ]
    },
    {
     "name": "stderr",
     "output_type": "stream",
     "text": [
      "Downloading files:   0%|                                                                                                                                                      | 0.00/1.00 [02:54<?, ?B/s]"
     ]
    },
    {
     "name": "stdout",
     "output_type": "stream",
     "text": [
      "[syn53422249:counts_fil.mtx]: Copying existing file from /storage/my_disk/helical_coding_challenge/.synapsecache/713/132658713/counts_fil.mtx to /storage/my_disk/helical_coding_challenge/data/syn51105515/Processed Data/210526_FTLD_226_snRNA-C7/counts_fil.mtx\n"
     ]
    },
    {
     "name": "stderr",
     "output_type": "stream",
     "text": [
      "Downloading files:   0%|                                                                                                                                                      | 0.00/1.00 [02:55<?, ?B/s]"
     ]
    },
    {
     "name": "stdout",
     "output_type": "stream",
     "text": [
      "[syn53422232:col_metadata.tsv]: Copying existing file from /storage/my_disk/helical_coding_challenge/.synapsecache/697/132658697/col_metadata.tsv to /storage/my_disk/helical_coding_challenge/data/syn51105515/Processed Data/210526_FTLD_226_snRNA-C7/col_metadata.tsv\n"
     ]
    },
    {
     "name": "stderr",
     "output_type": "stream",
     "text": [
      "Downloading files:   0%|                                                                                                                                                      | 0.00/1.00 [02:56<?, ?B/s]"
     ]
    },
    {
     "name": "stdout",
     "output_type": "stream",
     "text": [
      "[syn53422258:counts_fil.mtx]: Copying existing file from /storage/my_disk/helical_coding_challenge/.synapsecache/721/132658721/counts_fil.mtx to /storage/my_disk/helical_coding_challenge/data/syn51105515/Processed Data/210910_MCX_ALS_134_snRNA-C5/counts_fil.mtx\n"
     ]
    },
    {
     "name": "stderr",
     "output_type": "stream",
     "text": [
      "Downloading files:   0%|                                                                                                                                                      | 0.00/1.00 [02:57<?, ?B/s]"
     ]
    },
    {
     "name": "stdout",
     "output_type": "stream",
     "text": [
      "[syn53422197:row_metadata.tsv]: Copying existing file from /storage/my_disk/helical_coding_challenge/.synapsecache/423/132658423/row_metadata.tsv to /storage/my_disk/helical_coding_challenge/data/syn51105515/Processed Data/210910_MCX_ALS_136_snRNA-C7/row_metadata.tsv\n"
     ]
    },
    {
     "name": "stderr",
     "output_type": "stream",
     "text": [
      "Downloading files:   0%|                                                                                                                                                      | 0.00/1.00 [02:57<?, ?B/s]"
     ]
    },
    {
     "name": "stdout",
     "output_type": "stream",
     "text": [
      "[syn53422024:row_metadata.tsv]: Copying existing file from /storage/my_disk/helical_coding_challenge/.synapsecache/423/132658423/row_metadata.tsv to /storage/my_disk/helical_coding_challenge/data/syn51105515/Processed Data/201025_FTLD_240_snRNA-C12/row_metadata.tsv\n"
     ]
    },
    {
     "name": "stderr",
     "output_type": "stream",
     "text": [
      "Downloading files:   0%|                                                                                                                                                      | 0.00/1.00 [02:57<?, ?B/s]"
     ]
    },
    {
     "name": "stdout",
     "output_type": "stream",
     "text": [
      "[syn53422203:row_metadata.tsv]: Copying existing file from /storage/my_disk/helical_coding_challenge/.synapsecache/423/132658423/row_metadata.tsv to /storage/my_disk/helical_coding_challenge/data/syn51105515/Processed Data/201019_ALS_108_snRNA-B6/row_metadata.tsv\n"
     ]
    },
    {
     "name": "stderr",
     "output_type": "stream",
     "text": [
      "Downloading files:   0%|                                                                                                                                                      | 0.00/1.00 [02:57<?, ?B/s]"
     ]
    },
    {
     "name": "stdout",
     "output_type": "stream",
     "text": [
      "[syn53422309:col_metadata.tsv]: Copying existing file from /storage/my_disk/helical_coding_challenge/.synapsecache/775/132658775/col_metadata.tsv to /storage/my_disk/helical_coding_challenge/data/syn51105515/Processed Data/210526_FTLD_236_snRNA-D2/col_metadata.tsv\n"
     ]
    },
    {
     "name": "stderr",
     "output_type": "stream",
     "text": [
      "Downloading files:   0%|                                                                                                                                                      | 0.00/1.00 [02:58<?, ?B/s]"
     ]
    },
    {
     "name": "stdout",
     "output_type": "stream",
     "text": [
      "[syn53422027:counts_fil.mtx]: Copying existing file from /storage/my_disk/helical_coding_challenge/.synapsecache/478/132658478/counts_fil.mtx to /storage/my_disk/helical_coding_challenge/data/syn51105515/Processed Data/210526_PN_322_snRNA-E6/counts_fil.mtx\n"
     ]
    },
    {
     "name": "stderr",
     "output_type": "stream",
     "text": [
      "Downloading files:   0%|                                                                                                                                                      | 0.00/1.00 [02:59<?, ?B/s]"
     ]
    },
    {
     "name": "stdout",
     "output_type": "stream",
     "text": [
      "[syn53422026:col_metadata.tsv]: Copying existing file from /storage/my_disk/helical_coding_challenge/.synapsecache/480/132658480/col_metadata.tsv to /storage/my_disk/helical_coding_challenge/data/syn51105515/Processed Data/210910_MCX_ALS_135_snRNA-C6/col_metadata.tsv\n"
     ]
    },
    {
     "name": "stderr",
     "output_type": "stream",
     "text": [
      "Downloading files:   0%|                                                                                                                                                      | 0.00/1.00 [02:59<?, ?B/s]"
     ]
    },
    {
     "name": "stdout",
     "output_type": "stream",
     "text": [
      "[syn53421997:row_metadata.tsv]: Copying existing file from /storage/my_disk/helical_coding_challenge/.synapsecache/423/132658423/row_metadata.tsv to /storage/my_disk/helical_coding_challenge/data/syn51105515/Processed Data/210526_PN_322_snRNA-E6/row_metadata.tsv\n"
     ]
    },
    {
     "name": "stderr",
     "output_type": "stream",
     "text": [
      "Downloading files:   0%|                                                                                                                                                      | 0.00/1.00 [02:59<?, ?B/s]"
     ]
    },
    {
     "name": "stdout",
     "output_type": "stream",
     "text": [
      "[syn53422019:row_metadata.tsv]: Copying existing file from /storage/my_disk/helical_coding_challenge/.synapsecache/423/132658423/row_metadata.tsv to /storage/my_disk/helical_coding_challenge/data/syn51105515/Processed Data/200721_FTLD_214_snRNA-A12/row_metadata.tsv\n"
     ]
    },
    {
     "name": "stderr",
     "output_type": "stream",
     "text": [
      "Downloading files:   0%|                                                                                                                                                      | 0.00/1.00 [02:59<?, ?B/s]"
     ]
    },
    {
     "name": "stdout",
     "output_type": "stream",
     "text": [
      "[syn53422280:row_metadata.tsv]: Copying existing file from /storage/my_disk/helical_coding_challenge/.synapsecache/423/132658423/row_metadata.tsv to /storage/my_disk/helical_coding_challenge/data/syn51105515/Processed Data/191114_PN_319_snRNA-F4/row_metadata.tsv\n"
     ]
    },
    {
     "name": "stderr",
     "output_type": "stream",
     "text": [
      "Downloading files:   0%|                                                                                                                                                      | 0.00/1.00 [02:59<?, ?B/s]"
     ]
    },
    {
     "name": "stdout",
     "output_type": "stream",
     "text": [
      "[syn53422075:col_metadata.tsv]: Copying existing file from /storage/my_disk/helical_coding_challenge/.synapsecache/531/132658531/col_metadata.tsv to /storage/my_disk/helical_coding_challenge/data/syn51105515/Processed Data/210526_FTLD_225_snRNA-C6/col_metadata.tsv\n"
     ]
    },
    {
     "name": "stderr",
     "output_type": "stream",
     "text": [
      "Downloading files:   0%|                                                                                                                                                      | 0.00/1.00 [02:59<?, ?B/s]"
     ]
    },
    {
     "name": "stdout",
     "output_type": "stream",
     "text": [
      "[syn53422236:counts_fil.mtx]: Copying existing file from /storage/my_disk/helical_coding_challenge/.synapsecache/698/132658698/counts_fil.mtx to /storage/my_disk/helical_coding_challenge/data/syn51105515/Processed Data/201019_ALS_108_snRNA-B6/counts_fil.mtx\n"
     ]
    },
    {
     "name": "stderr",
     "output_type": "stream",
     "text": [
      "Downloading files:   0%|                                                                                                                                                      | 0.00/1.00 [03:00<?, ?B/s]"
     ]
    },
    {
     "name": "stdout",
     "output_type": "stream",
     "text": [
      "[syn53421998:row_metadata.tsv]: Copying existing file from /storage/my_disk/helical_coding_challenge/.synapsecache/423/132658423/row_metadata.tsv to /storage/my_disk/helical_coding_challenge/data/syn51105515/Processed Data/200721_FTLD_229_snRNA-B2/row_metadata.tsv\n"
     ]
    },
    {
     "name": "stderr",
     "output_type": "stream",
     "text": [
      "Downloading files:   0%|                                                                                                                                                      | 0.00/1.00 [03:01<?, ?B/s]"
     ]
    },
    {
     "name": "stdout",
     "output_type": "stream",
     "text": [
      "[syn53422169:counts_fil.mtx]: Copying existing file from /storage/my_disk/helical_coding_challenge/.synapsecache/627/132658627/counts_fil.mtx to /storage/my_disk/helical_coding_challenge/data/syn51105515/Processed Data/210526_ALS_102_snRNA-H6/counts_fil.mtx\n"
     ]
    },
    {
     "name": "stderr",
     "output_type": "stream",
     "text": [
      "Downloading files:   0%|                                                                                                                                                      | 0.00/1.00 [03:02<?, ?B/s]"
     ]
    },
    {
     "name": "stdout",
     "output_type": "stream",
     "text": [
      "[syn53422294:col_metadata.tsv]: Copying existing file from /storage/my_disk/helical_coding_challenge/.synapsecache/760/132658760/col_metadata.tsv to /storage/my_disk/helical_coding_challenge/data/syn51105515/Processed Data/191114_PN_319_snRNA-F4/col_metadata.tsv\n"
     ]
    },
    {
     "name": "stderr",
     "output_type": "stream",
     "text": [
      "Downloading files:   0%|                                                                                                                                                      | 0.00/1.00 [03:02<?, ?B/s]"
     ]
    },
    {
     "name": "stdout",
     "output_type": "stream",
     "text": [
      "[syn53422118:row_metadata.tsv]: Copying existing file from /storage/my_disk/helical_coding_challenge/.synapsecache/423/132658423/row_metadata.tsv to /storage/my_disk/helical_coding_challenge/data/syn51105515/Processed Data/210526_ALS_112_snRNA-A2/row_metadata.tsv\n"
     ]
    },
    {
     "name": "stderr",
     "output_type": "stream",
     "text": [
      "Downloading files:   0%|                                                                                                                                                      | 0.00/1.00 [03:02<?, ?B/s]"
     ]
    },
    {
     "name": "stdout",
     "output_type": "stream",
     "text": [
      "[syn53422218:row_metadata.tsv]: Copying existing file from /storage/my_disk/helical_coding_challenge/.synapsecache/423/132658423/row_metadata.tsv to /storage/my_disk/helical_coding_challenge/data/syn51105515/Processed Data/210910_MCX_ALS_134_snRNA-C5/row_metadata.tsv\n"
     ]
    },
    {
     "name": "stderr",
     "output_type": "stream",
     "text": [
      "Downloading files:   0%|                                                                                                                                                      | 0.00/1.00 [03:02<?, ?B/s]"
     ]
    },
    {
     "name": "stdout",
     "output_type": "stream",
     "text": [
      "[syn53422181:row_metadata.tsv]: Copying existing file from /storage/my_disk/helical_coding_challenge/.synapsecache/423/132658423/row_metadata.tsv to /storage/my_disk/helical_coding_challenge/data/syn51105515/Processed Data/210526_FTLD_232_snRNA-C11/row_metadata.tsv\n"
     ]
    },
    {
     "name": "stderr",
     "output_type": "stream",
     "text": [
      "Downloading files:   0%|                                                                                                                                                      | 0.00/1.00 [03:02<?, ?B/s]"
     ]
    },
    {
     "name": "stdout",
     "output_type": "stream",
     "text": [
      "[syn53422326:col_metadata.tsv]: Copying existing file from /storage/my_disk/helical_coding_challenge/.synapsecache/791/132658791/col_metadata.tsv to /storage/my_disk/helical_coding_challenge/data/syn51105515/Processed Data/191113_FTLD_214_snRNA-D9/col_metadata.tsv\n"
     ]
    },
    {
     "name": "stderr",
     "output_type": "stream",
     "text": [
      "Downloading files:   0%|                                                                                                                                                      | 0.00/1.00 [03:02<?, ?B/s]"
     ]
    },
    {
     "name": "stdout",
     "output_type": "stream",
     "text": [
      "[syn53422145:col_metadata.tsv]: Copying existing file from /storage/my_disk/helical_coding_challenge/.synapsecache/602/132658602/col_metadata.tsv to /storage/my_disk/helical_coding_challenge/data/syn51105515/Processed Data/210910_MCX_ALS_131_snRNA-C2/col_metadata.tsv\n"
     ]
    },
    {
     "name": "stderr",
     "output_type": "stream",
     "text": [
      "Downloading files:   0%|                                                                                                                                                      | 0.00/1.00 [03:02<?, ?B/s]"
     ]
    },
    {
     "name": "stdout",
     "output_type": "stream",
     "text": [
      "[syn53422193:col_metadata.tsv]: Copying existing file from /storage/my_disk/helical_coding_challenge/.synapsecache/655/132658655/col_metadata.tsv to /storage/my_disk/helical_coding_challenge/data/syn51105515/Processed Data/210526_FTLD_232_snRNA-C11/col_metadata.tsv\n"
     ]
    },
    {
     "name": "stderr",
     "output_type": "stream",
     "text": [
      "Downloading files:   0%|                                                                                                                                                      | 0.00/1.00 [03:02<?, ?B/s]"
     ]
    },
    {
     "name": "stdout",
     "output_type": "stream",
     "text": [
      "[syn53422161:row_metadata.tsv]: Copying existing file from /storage/my_disk/helical_coding_challenge/.synapsecache/423/132658423/row_metadata.tsv to /storage/my_disk/helical_coding_challenge/data/syn51105515/Processed Data/210526_FTLD_237_snRNA-D3/row_metadata.tsv\n"
     ]
    },
    {
     "name": "stderr",
     "output_type": "stream",
     "text": [
      "Downloading files:   0%|                                                                                                                                                      | 0.00/1.00 [03:02<?, ?B/s]"
     ]
    },
    {
     "name": "stdout",
     "output_type": "stream",
     "text": [
      "[syn53422390:row_metadata.tsv]: Copying existing file from /storage/my_disk/helical_coding_challenge/.synapsecache/423/132658423/row_metadata.tsv to /storage/my_disk/helical_coding_challenge/data/syn51105515/Processed Data/200721_PN_302_snRNA-B4/row_metadata.tsv\n"
     ]
    },
    {
     "name": "stderr",
     "output_type": "stream",
     "text": [
      "Downloading files:   0%|                                                                                                                                                      | 0.00/1.00 [03:02<?, ?B/s]"
     ]
    },
    {
     "name": "stdout",
     "output_type": "stream",
     "text": [
      "[syn53422077:row_metadata.tsv]: Copying existing file from /storage/my_disk/helical_coding_challenge/.synapsecache/423/132658423/row_metadata.tsv to /storage/my_disk/helical_coding_challenge/data/syn51105515/Processed Data/191113_FTLD_229_snRNA-E6/row_metadata.tsv\n"
     ]
    },
    {
     "name": "stderr",
     "output_type": "stream",
     "text": [
      "Downloading files:   0%|                                                                                                                                                      | 0.00/1.00 [03:02<?, ?B/s]"
     ]
    },
    {
     "name": "stdout",
     "output_type": "stream",
     "text": [
      "[syn53422388:col_metadata.tsv]: Copying existing file from /storage/my_disk/helical_coding_challenge/.synapsecache/861/132658861/col_metadata.tsv to /storage/my_disk/helical_coding_challenge/data/syn51105515/Processed Data/210526_FTLD_218_snRNA-C3/col_metadata.tsv\n"
     ]
    },
    {
     "name": "stderr",
     "output_type": "stream",
     "text": [
      "Downloading files:   0%|                                                                                                                                                      | 0.00/1.00 [03:02<?, ?B/s]"
     ]
    },
    {
     "name": "stdout",
     "output_type": "stream",
     "text": [
      "[syn53422124:row_metadata.tsv]: Copying existing file from /storage/my_disk/helical_coding_challenge/.synapsecache/423/132658423/row_metadata.tsv to /storage/my_disk/helical_coding_challenge/data/syn51105515/Processed Data/210526_ALS_102_snRNA-H6/row_metadata.tsv\n"
     ]
    },
    {
     "name": "stderr",
     "output_type": "stream",
     "text": [
      "Downloading files:   0%|                                                                                                                                                      | 0.00/1.00 [03:02<?, ?B/s]"
     ]
    },
    {
     "name": "stdout",
     "output_type": "stream",
     "text": [
      "[syn53422055:row_metadata.tsv]: Copying existing file from /storage/my_disk/helical_coding_challenge/.synapsecache/423/132658423/row_metadata.tsv to /storage/my_disk/helical_coding_challenge/data/syn51105515/Processed Data/210526_ALS_129_snRNA-B3/row_metadata.tsv\n"
     ]
    },
    {
     "name": "stderr",
     "output_type": "stream",
     "text": [
      "Downloading files:   0%|                                                                                                                                                      | 0.00/1.00 [03:02<?, ?B/s]"
     ]
    },
    {
     "name": "stdout",
     "output_type": "stream",
     "text": [
      "[syn53422063:row_metadata.tsv]: Copying existing file from /storage/my_disk/helical_coding_challenge/.synapsecache/423/132658423/row_metadata.tsv to /storage/my_disk/helical_coding_challenge/data/syn51105515/Processed Data/210526_FTLD_225_snRNA-C6/row_metadata.tsv\n"
     ]
    },
    {
     "name": "stderr",
     "output_type": "stream",
     "text": [
      "Downloading files:   0%|                                                                                                                                                      | 0.00/1.00 [03:02<?, ?B/s]"
     ]
    },
    {
     "name": "stdout",
     "output_type": "stream",
     "text": [
      "[syn53422298:counts_fil.mtx]: Copying existing file from /storage/my_disk/helical_coding_challenge/.synapsecache/762/132658762/counts_fil.mtx to /storage/my_disk/helical_coding_challenge/data/syn51105515/Processed Data/210526_FTLD_210_snRNA-B10/counts_fil.mtx\n"
     ]
    },
    {
     "name": "stderr",
     "output_type": "stream",
     "text": [
      "Downloading files:   0%|                                                                                                                                                      | 0.00/1.00 [03:03<?, ?B/s]"
     ]
    },
    {
     "name": "stdout",
     "output_type": "stream",
     "text": [
      "[syn53422040:col_metadata.tsv]: Copying existing file from /storage/my_disk/helical_coding_challenge/.synapsecache/493/132658493/col_metadata.tsv to /storage/my_disk/helical_coding_challenge/data/syn51105515/Processed Data/201025_FTLD_240_snRNA-C12/col_metadata.tsv\n"
     ]
    },
    {
     "name": "stderr",
     "output_type": "stream",
     "text": [
      "Downloading files:   0%|                                                                                                                                                      | 0.00/1.00 [03:03<?, ?B/s]"
     ]
    },
    {
     "name": "stdout",
     "output_type": "stream",
     "text": [
      "[syn53422142:row_metadata.tsv]: Copying existing file from /storage/my_disk/helical_coding_challenge/.synapsecache/423/132658423/row_metadata.tsv to /storage/my_disk/helical_coding_challenge/data/syn51105515/Processed Data/210526_PN_324_snRNA-F4/row_metadata.tsv\n"
     ]
    },
    {
     "name": "stderr",
     "output_type": "stream",
     "text": [
      "Downloading files:   0%|                                                                                                                                                      | 0.00/1.00 [03:03<?, ?B/s]"
     ]
    },
    {
     "name": "stdout",
     "output_type": "stream",
     "text": [
      "[syn53421989:col_metadata.tsv]: Copying existing file from /storage/my_disk/helical_coding_challenge/.synapsecache/435/132658435/col_metadata.tsv to /storage/my_disk/helical_coding_challenge/data/syn51105515/Processed Data/210526_FTLD_202_snRNA-B5/col_metadata.tsv\n"
     ]
    },
    {
     "name": "stderr",
     "output_type": "stream",
     "text": [
      "Downloading files:   0%|                                                                                                                                                      | 0.00/1.00 [03:04<?, ?B/s]"
     ]
    },
    {
     "name": "stdout",
     "output_type": "stream",
     "text": [
      "[syn53422229:counts_fil.mtx]: Copying existing file from /storage/my_disk/helical_coding_challenge/.synapsecache/691/132658691/counts_fil.mtx to /storage/my_disk/helical_coding_challenge/data/syn51105515/Processed Data/210910_MCX_ALS_136_snRNA-C7/counts_fil.mtx\n"
     ]
    },
    {
     "name": "stderr",
     "output_type": "stream",
     "text": [
      "Downloading files:   0%|                                                                                                                                                      | 0.00/1.00 [03:06<?, ?B/s]"
     ]
    },
    {
     "name": "stdout",
     "output_type": "stream",
     "text": [
      "[syn53422210:counts_fil.mtx]: Copying existing file from /storage/my_disk/helical_coding_challenge/.synapsecache/671/132658671/counts_fil.mtx to /storage/my_disk/helical_coding_challenge/data/syn51105515/Processed Data/210526_PN_325_snRNA-F5/counts_fil.mtx\n"
     ]
    },
    {
     "name": "stderr",
     "output_type": "stream",
     "text": [
      "Downloading files:   0%|                                                                                                                                                      | 0.00/1.00 [03:06<?, ?B/s]"
     ]
    },
    {
     "name": "stdout",
     "output_type": "stream",
     "text": [
      "[syn53422241:col_metadata.tsv]: Copying existing file from /storage/my_disk/helical_coding_challenge/.synapsecache/704/132658704/col_metadata.tsv to /storage/my_disk/helical_coding_challenge/data/syn51105515/Processed Data/191114_PN_301_snRNA-E7/col_metadata.tsv\n"
     ]
    },
    {
     "name": "stderr",
     "output_type": "stream",
     "text": [
      "Downloading files:   0%|                                                                                                                                                      | 0.00/1.00 [03:07<?, ?B/s]"
     ]
    },
    {
     "name": "stdout",
     "output_type": "stream",
     "text": [
      "[syn53422260:row_metadata.tsv]: Copying existing file from /storage/my_disk/helical_coding_challenge/.synapsecache/423/132658423/row_metadata.tsv to /storage/my_disk/helical_coding_challenge/data/syn51105515/Processed Data/210526_FTLD_210_snRNA-B10/row_metadata.tsv\n"
     ]
    },
    {
     "name": "stderr",
     "output_type": "stream",
     "text": [
      "Downloading files:   0%|                                                                                                                                                      | 0.00/1.00 [03:07<?, ?B/s]"
     ]
    },
    {
     "name": "stdout",
     "output_type": "stream",
     "text": [
      "[syn53422405:col_metadata.tsv]: Copying existing file from /storage/my_disk/helical_coding_challenge/.synapsecache/877/132658877/col_metadata.tsv to /storage/my_disk/helical_coding_challenge/data/syn51105515/Processed Data/210526_FTLD_204_snRNA-B6/col_metadata.tsv\n"
     ]
    },
    {
     "name": "stderr",
     "output_type": "stream",
     "text": [
      "Downloading files:   0%|                                                                                                                                                      | 0.00/1.00 [03:07<?, ?B/s]"
     ]
    },
    {
     "name": "stdout",
     "output_type": "stream",
     "text": [
      "[syn53422413:counts_fil.mtx]: Copying existing file from /storage/my_disk/helical_coding_challenge/.synapsecache/885/132658885/counts_fil.mtx to /storage/my_disk/helical_coding_challenge/data/syn51105515/Processed Data/210526_FTLD_204_snRNA-B6/counts_fil.mtx\n"
     ]
    },
    {
     "name": "stderr",
     "output_type": "stream",
     "text": [
      "Downloading files:   0%|                                                                                                                                                      | 0.00/1.00 [03:08<?, ?B/s]"
     ]
    },
    {
     "name": "stdout",
     "output_type": "stream",
     "text": [
      "[syn53422091:col_metadata.tsv]: Copying existing file from /storage/my_disk/helical_coding_challenge/.synapsecache/546/132658546/col_metadata.tsv to /storage/my_disk/helical_coding_challenge/data/syn51105515/Processed Data/191113_FTLD_229_snRNA-E6/col_metadata.tsv\n"
     ]
    },
    {
     "name": "stderr",
     "output_type": "stream",
     "text": [
      "Downloading files:   0%|                                                                                                                                                      | 0.00/1.00 [03:08<?, ?B/s]"
     ]
    },
    {
     "name": "stdout",
     "output_type": "stream",
     "text": [
      "[syn53422215:col_metadata.tsv]: Copying existing file from /storage/my_disk/helical_coding_challenge/.synapsecache/676/132658676/col_metadata.tsv to /storage/my_disk/helical_coding_challenge/data/syn51105515/Processed Data/210910_MCX_ALS_136_snRNA-C7/col_metadata.tsv\n"
     ]
    },
    {
     "name": "stderr",
     "output_type": "stream",
     "text": [
      "Downloading files:   0%|                                                                                                                                                      | 0.00/1.00 [03:08<?, ?B/s]"
     ]
    },
    {
     "name": "stdout",
     "output_type": "stream",
     "text": [
      "[syn53422138:col_metadata.tsv]: Copying existing file from /storage/my_disk/helical_coding_challenge/.synapsecache/597/132658597/col_metadata.tsv to /storage/my_disk/helical_coding_challenge/data/syn51105515/Processed Data/210526_ALS_102_snRNA-H6/col_metadata.tsv\n"
     ]
    },
    {
     "name": "stderr",
     "output_type": "stream",
     "text": [
      "Downloading files:   0%|                                                                                                                                                      | 0.00/1.00 [03:08<?, ?B/s]"
     ]
    },
    {
     "name": "stdout",
     "output_type": "stream",
     "text": [
      "[syn53422183:row_metadata.tsv]: Copying existing file from /storage/my_disk/helical_coding_challenge/.synapsecache/423/132658423/row_metadata.tsv to /storage/my_disk/helical_coding_challenge/data/syn51105515/Processed Data/210526_PN_325_snRNA-F5/row_metadata.tsv\n"
     ]
    },
    {
     "name": "stderr",
     "output_type": "stream",
     "text": [
      "Downloading files:   0%|                                                                                                                                                      | 0.00/1.00 [03:08<?, ?B/s]"
     ]
    },
    {
     "name": "stdout",
     "output_type": "stream",
     "text": [
      "[syn53422068:row_metadata.tsv]: Copying existing file from /storage/my_disk/helical_coding_challenge/.synapsecache/423/132658423/row_metadata.tsv to /storage/my_disk/helical_coding_challenge/data/syn51105515/Processed Data/201025_FTLD_235_snRNA-C7/row_metadata.tsv\n"
     ]
    },
    {
     "name": "stderr",
     "output_type": "stream",
     "text": [
      "Downloading files:   0%|                                                                                                                                                      | 0.00/1.00 [03:08<?, ?B/s]"
     ]
    },
    {
     "name": "stdout",
     "output_type": "stream",
     "text": [
      "[syn53421980:col_metadata.tsv]: Copying existing file from /storage/my_disk/helical_coding_challenge/.synapsecache/424/132658424/col_metadata.tsv to /storage/my_disk/helical_coding_challenge/data/syn51105515/Processed Data/210526_PN_319_snRNA-E5/col_metadata.tsv\n"
     ]
    },
    {
     "name": "stderr",
     "output_type": "stream",
     "text": [
      "Downloading files:   0%|                                                                                                                                                      | 0.00/1.00 [03:08<?, ?B/s]"
     ]
    },
    {
     "name": "stdout",
     "output_type": "stream",
     "text": [
      "[syn53422251:counts_fil.mtx]: Copying existing file from /storage/my_disk/helical_coding_challenge/.synapsecache/716/132658716/counts_fil.mtx to /storage/my_disk/helical_coding_challenge/data/syn51105515/Processed Data/191114_PN_301_snRNA-E7/counts_fil.mtx\n"
     ]
    },
    {
     "name": "stderr",
     "output_type": "stream",
     "text": [
      "Downloading files:   0%|                                                                                                                                                      | 0.00/1.00 [03:10<?, ?B/s]"
     ]
    },
    {
     "name": "stdout",
     "output_type": "stream",
     "text": [
      "[syn53422007:counts_fil.mtx]: Copying existing file from /storage/my_disk/helical_coding_challenge/.synapsecache/458/132658458/counts_fil.mtx to /storage/my_disk/helical_coding_challenge/data/syn51105515/Processed Data/210526_PN_319_snRNA-E5/counts_fil.mtx\n"
     ]
    },
    {
     "name": "stderr",
     "output_type": "stream",
     "text": [
      "Downloading files:   0%|                                                                                                                                                      | 0.00/1.00 [03:12<?, ?B/s]"
     ]
    },
    {
     "name": "stdout",
     "output_type": "stream",
     "text": [
      "[syn53422096:counts_fil.mtx]: Copying existing file from /storage/my_disk/helical_coding_challenge/.synapsecache/552/132658552/counts_fil.mtx to /storage/my_disk/helical_coding_challenge/data/syn51105515/Processed Data/191113_FTLD_229_snRNA-E6/counts_fil.mtx\n"
     ]
    },
    {
     "name": "stderr",
     "output_type": "stream",
     "text": [
      "Downloading files:   0%|                                                                                                                                                      | 0.00/1.00 [03:13<?, ?B/s]"
     ]
    },
    {
     "name": "stdout",
     "output_type": "stream",
     "text": [
      "[syn53422045:counts_fil.mtx]: Copying existing file from /storage/my_disk/helical_coding_challenge/.synapsecache/500/132658500/counts_fil.mtx to /storage/my_disk/helical_coding_challenge/data/syn51105515/Processed Data/210910_MCX_ALS_135_snRNA-C6/counts_fil.mtx\n"
     ]
    },
    {
     "name": "stderr",
     "output_type": "stream",
     "text": [
      "Downloading files:   0%|                                                                                                                                                      | 0.00/1.00 [03:13<?, ?B/s]"
     ]
    },
    {
     "name": "stdout",
     "output_type": "stream",
     "text": [
      "[syn53421979:row_metadata.tsv]: Copying existing file from /storage/my_disk/helical_coding_challenge/.synapsecache/422/132658422/row_metadata.tsv to /storage/my_disk/helical_coding_challenge/data/syn51105515/Processed Data/210526_PN_319_snRNA-E5/row_metadata.tsv\n"
     ]
    },
    {
     "name": "stderr",
     "output_type": "stream",
     "text": [
      "Downloading files:   0%|                                                                                                                                                      | 0.00/1.00 [03:13<?, ?B/s]"
     ]
    },
    {
     "name": "stdout",
     "output_type": "stream",
     "text": [
      "[syn53422070:col_metadata.tsv]: Copying existing file from /storage/my_disk/helical_coding_challenge/.synapsecache/524/132658524/col_metadata.tsv to /storage/my_disk/helical_coding_challenge/data/syn51105515/Processed Data/210526_ALS_129_snRNA-B3/col_metadata.tsv\n"
     ]
    },
    {
     "name": "stderr",
     "output_type": "stream",
     "text": [
      "Downloading files:   0%|                                                                                                                                                      | 0.00/1.00 [03:13<?, ?B/s]"
     ]
    },
    {
     "name": "stdout",
     "output_type": "stream",
     "text": [
      "[syn53421978:row_metadata.tsv]: Copying existing file from /storage/my_disk/helical_coding_challenge/.synapsecache/421/132658421/row_metadata.tsv to /storage/my_disk/helical_coding_challenge/data/syn51105515/Processed Data/210526_FTLD_229_snRNA-B9/row_metadata.tsv\n"
     ]
    },
    {
     "name": "stderr",
     "output_type": "stream",
     "text": [
      "Downloading files:   0%|                                                                                                                                                      | 0.00/1.00 [03:13<?, ?B/s]"
     ]
    },
    {
     "name": "stdout",
     "output_type": "stream",
     "text": [
      "[syn53422034:col_metadata.tsv]: Copying existing file from /storage/my_disk/helical_coding_challenge/.synapsecache/492/132658492/col_metadata.tsv to /storage/my_disk/helical_coding_challenge/data/syn51105515/Processed Data/200721_FTLD_214_snRNA-A12/col_metadata.tsv\n"
     ]
    },
    {
     "name": "stderr",
     "output_type": "stream",
     "text": [
      "Downloading files:   0%|                                                                                                                                                      | 0.00/1.00 [03:14<?, ?B/s]"
     ]
    },
    {
     "name": "stdout",
     "output_type": "stream",
     "text": [
      "[syn53422426:counts_fil.mtx]: Copying existing file from /storage/my_disk/helical_coding_challenge/.synapsecache/907/132658907/counts_fil.mtx to /storage/my_disk/helical_coding_challenge/data/syn51105515/Processed Data/210526_FTLD_206_snRNA-B7/counts_fil.mtx\n"
     ]
    },
    {
     "name": "stderr",
     "output_type": "stream",
     "text": [
      "Downloading files:   0%|                                                                                                                                                      | 0.00/1.00 [03:15<?, ?B/s]"
     ]
    },
    {
     "name": "stdout",
     "output_type": "stream",
     "text": [
      "[syn53422073:row_metadata.tsv]: Copying existing file from /storage/my_disk/helical_coding_challenge/.synapsecache/423/132658423/row_metadata.tsv to /storage/my_disk/helical_coding_challenge/data/syn51105515/Processed Data/191113_FTLD_226_snRNA-E4/row_metadata.tsv\n"
     ]
    },
    {
     "name": "stderr",
     "output_type": "stream",
     "text": [
      "Downloading files:   0%|                                                                                                                                                      | 0.00/1.00 [03:15<?, ?B/s]"
     ]
    },
    {
     "name": "stdout",
     "output_type": "stream",
     "text": [
      "[syn53422419:col_metadata.tsv]: Copying existing file from /storage/my_disk/helical_coding_challenge/.synapsecache/896/132658896/col_metadata.tsv to /storage/my_disk/helical_coding_challenge/data/syn51105515/Processed Data/210526_FTLD_206_snRNA-B7/col_metadata.tsv\n"
     ]
    },
    {
     "name": "stderr",
     "output_type": "stream",
     "text": [
      "Downloading files:   0%|                                                                                                                                                      | 0.00/1.00 [03:15<?, ?B/s]"
     ]
    },
    {
     "name": "stdout",
     "output_type": "stream",
     "text": [
      "[syn53422420:counts_fil.mtx]: Copying existing file from /storage/my_disk/helical_coding_challenge/.synapsecache/895/132658895/counts_fil.mtx to /storage/my_disk/helical_coding_challenge/data/syn51105515/Processed Data/200721_PN_302_snRNA-B4/counts_fil.mtx\n"
     ]
    },
    {
     "name": "stderr",
     "output_type": "stream",
     "text": [
      "Downloading files:   0%|                                                                                                                                                      | 0.00/1.00 [03:16<?, ?B/s]"
     ]
    },
    {
     "name": "stdout",
     "output_type": "stream",
     "text": [
      "[syn53422219:row_metadata.tsv]: Copying existing file from /storage/my_disk/helical_coding_challenge/.synapsecache/423/132658423/row_metadata.tsv to /storage/my_disk/helical_coding_challenge/data/syn51105515/Processed Data/210526_FTLD_226_snRNA-C7/row_metadata.tsv\n"
     ]
    },
    {
     "name": "stderr",
     "output_type": "stream",
     "text": [
      "Downloading files:   0%|                                                                                                                                                      | 0.00/1.00 [03:16<?, ?B/s]"
     ]
    },
    {
     "name": "stdout",
     "output_type": "stream",
     "text": [
      "[syn53422271:col_metadata.tsv]: Copying existing file from /storage/my_disk/helical_coding_challenge/.synapsecache/734/132658734/col_metadata.tsv to /storage/my_disk/helical_coding_challenge/data/syn51105515/Processed Data/210526_FTLD_210_snRNA-B10/col_metadata.tsv\n"
     ]
    },
    {
     "name": "stderr",
     "output_type": "stream",
     "text": [
      "Downloading files:   0%|                                                                                                                                                      | 0.00/1.00 [03:16<?, ?B/s]"
     ]
    },
    {
     "name": "stdout",
     "output_type": "stream",
     "text": [
      "[syn53422085:col_metadata.tsv]: Copying existing file from /storage/my_disk/helical_coding_challenge/.synapsecache/543/132658543/col_metadata.tsv to /storage/my_disk/helical_coding_challenge/data/syn51105515/Processed Data/191113_FTLD_226_snRNA-E4/col_metadata.tsv\n"
     ]
    },
    {
     "name": "stderr",
     "output_type": "stream",
     "text": [
      "Downloading files:   0%|                                                                                                                                                      | 0.00/1.00 [03:16<?, ?B/s]"
     ]
    },
    {
     "name": "stdout",
     "output_type": "stream",
     "text": [
      "[syn53422217:col_metadata.tsv]: Copying existing file from /storage/my_disk/helical_coding_challenge/.synapsecache/681/132658681/col_metadata.tsv to /storage/my_disk/helical_coding_challenge/data/syn51105515/Processed Data/201019_ALS_108_snRNA-B6/col_metadata.tsv\n"
     ]
    },
    {
     "name": "stderr",
     "output_type": "stream",
     "text": [
      "Downloading files:   0%|                                                                                                                                                      | 0.00/1.00 [03:16<?, ?B/s]"
     ]
    },
    {
     "name": "stdout",
     "output_type": "stream",
     "text": [
      "[syn53422163:col_metadata.tsv]: Copying existing file from /storage/my_disk/helical_coding_challenge/.synapsecache/621/132658621/col_metadata.tsv to /storage/my_disk/helical_coding_challenge/data/syn51105515/Processed Data/191114_PN_318_snRNA-F3/col_metadata.tsv\n"
     ]
    },
    {
     "name": "stderr",
     "output_type": "stream",
     "text": [
      "Downloading files:   0%|                                                                                                                                                      | 0.00/1.00 [03:16<?, ?B/s]"
     ]
    },
    {
     "name": "stdout",
     "output_type": "stream",
     "text": [
      "[syn53422381:counts_fil.mtx]: Copying existing file from /storage/my_disk/helical_coding_challenge/.synapsecache/846/132658846/counts_fil.mtx to /storage/my_disk/helical_coding_challenge/data/syn51105515/Processed Data/191114_PN_307_snRNA-E11/counts_fil.mtx\n"
     ]
    },
    {
     "name": "stderr",
     "output_type": "stream",
     "text": [
      "Downloading files:   0%|                                                                                                                                                      | 0.00/1.00 [03:17<?, ?B/s]"
     ]
    },
    {
     "name": "stdout",
     "output_type": "stream",
     "text": [
      "[syn53422345:col_metadata.tsv]: Copying existing file from /storage/my_disk/helical_coding_challenge/.synapsecache/812/132658812/col_metadata.tsv to /storage/my_disk/helical_coding_challenge/data/syn51105515/Processed Data/210526_ALS_127_snRNA-B1/col_metadata.tsv\n"
     ]
    },
    {
     "name": "stderr",
     "output_type": "stream",
     "text": [
      "Downloading files:   0%|                                                                                                                                                      | 0.00/1.00 [03:17<?, ?B/s]"
     ]
    },
    {
     "name": "stdout",
     "output_type": "stream",
     "text": [
      "[syn53422059:col_metadata.tsv]: Copying existing file from /storage/my_disk/helical_coding_challenge/.synapsecache/514/132658514/col_metadata.tsv to /storage/my_disk/helical_coding_challenge/data/syn51105515/Processed Data/210526_ALS_124_snRNA-A11/col_metadata.tsv\n"
     ]
    },
    {
     "name": "stderr",
     "output_type": "stream",
     "text": [
      "Downloading files:   0%|                                                                                                                                                      | 0.00/1.00 [03:18<?, ?B/s]"
     ]
    },
    {
     "name": "stdout",
     "output_type": "stream",
     "text": [
      "[syn53422360:counts_fil.mtx]: Copying existing file from /storage/my_disk/helical_coding_challenge/.synapsecache/828/132658828/counts_fil.mtx to /storage/my_disk/helical_coding_challenge/data/syn51105515/Processed Data/210526_ALS_127_snRNA-B1/counts_fil.mtx\n"
     ]
    },
    {
     "name": "stderr",
     "output_type": "stream",
     "text": [
      "Downloading files:   0%|                                                                                                                                                      | 0.00/1.00 [03:19<?, ?B/s]"
     ]
    },
    {
     "name": "stdout",
     "output_type": "stream",
     "text": [
      "[syn53421994:col_metadata.tsv]: Copying existing file from /storage/my_disk/helical_coding_challenge/.synapsecache/444/132658444/col_metadata.tsv to /storage/my_disk/helical_coding_challenge/data/syn51105515/Processed Data/210526_FTLD_229_snRNA-B9/col_metadata.tsv\n"
     ]
    },
    {
     "name": "stderr",
     "output_type": "stream",
     "text": [
      "Downloading files:   0%|                                                                                                                                                      | 0.00/1.00 [03:20<?, ?B/s]"
     ]
    },
    {
     "name": "stdout",
     "output_type": "stream",
     "text": [
      "[syn53422195:counts_fil.mtx]: Copying existing file from /storage/my_disk/helical_coding_challenge/.synapsecache/657/132658657/counts_fil.mtx to /storage/my_disk/helical_coding_challenge/data/syn51105515/Processed Data/191114_PN_318_snRNA-F3/counts_fil.mtx\n"
     ]
    },
    {
     "name": "stderr",
     "output_type": "stream",
     "text": [
      "Downloading files:   0%|                                                                                                                                                      | 0.00/1.00 [03:20<?, ?B/s]"
     ]
    },
    {
     "name": "stdout",
     "output_type": "stream",
     "text": [
      "[syn53422046:row_metadata.tsv]: Copying existing file from /storage/my_disk/helical_coding_challenge/.synapsecache/423/132658423/row_metadata.tsv to /storage/my_disk/helical_coding_challenge/data/syn51105515/Processed Data/210526_ALS_124_snRNA-A11/row_metadata.tsv\n"
     ]
    },
    {
     "name": "stderr",
     "output_type": "stream",
     "text": [
      "Downloading files:   0%|                                                                                                                                                      | 0.00/1.00 [03:20<?, ?B/s]"
     ]
    },
    {
     "name": "stdout",
     "output_type": "stream",
     "text": [
      "[syn53422331:row_metadata.tsv]: Copying existing file from /storage/my_disk/helical_coding_challenge/.synapsecache/423/132658423/row_metadata.tsv to /storage/my_disk/helical_coding_challenge/data/syn51105515/Processed Data/210526_ALS_127_snRNA-B1/row_metadata.tsv\n"
     ]
    },
    {
     "name": "stderr",
     "output_type": "stream",
     "text": [
      "Downloading files:   0%|                                                                                                                                                      | 0.00/1.00 [03:20<?, ?B/s]"
     ]
    },
    {
     "name": "stdout",
     "output_type": "stream",
     "text": [
      "[syn53422278:col_metadata.tsv]: Copying existing file from /storage/my_disk/helical_coding_challenge/.synapsecache/743/132658743/col_metadata.tsv to /storage/my_disk/helical_coding_challenge/data/syn51105515/Processed Data/210910_MCX_ALS_140_snRNA-D7/col_metadata.tsv\n"
     ]
    },
    {
     "name": "stderr",
     "output_type": "stream",
     "text": [
      "Downloading files:   0%|                                                                                                                                                      | 0.00/1.00 [03:20<?, ?B/s]"
     ]
    },
    {
     "name": "stdout",
     "output_type": "stream",
     "text": [
      "[syn53422291:counts_fil.mtx]: Copying existing file from /storage/my_disk/helical_coding_challenge/.synapsecache/756/132658756/counts_fil.mtx to /storage/my_disk/helical_coding_challenge/data/syn51105515/Processed Data/210910_MCX_ALS_140_snRNA-D7/counts_fil.mtx\n"
     ]
    },
    {
     "name": "stderr",
     "output_type": "stream",
     "text": [
      "Downloading files:   0%|                                                                                                                                                      | 0.00/1.00 [03:21<?, ?B/s]"
     ]
    },
    {
     "name": "stdout",
     "output_type": "stream",
     "text": [
      "[syn53422403:col_metadata.tsv]: Copying existing file from /storage/my_disk/helical_coding_challenge/.synapsecache/876/132658876/col_metadata.tsv to /storage/my_disk/helical_coding_challenge/data/syn51105515/Processed Data/200721_PN_302_snRNA-B4/col_metadata.tsv\n"
     ]
    },
    {
     "name": "stderr",
     "output_type": "stream",
     "text": [
      "Downloading files:   0%|                                                                                                                                                      | 0.00/1.00 [03:22<?, ?B/s]"
     ]
    },
    {
     "name": "stdout",
     "output_type": "stream",
     "text": [
      "[syn53422097:counts_fil.mtx]: Copying existing file from /storage/my_disk/helical_coding_challenge/.synapsecache/551/132658551/counts_fil.mtx to /storage/my_disk/helical_coding_challenge/data/syn51105515/Processed Data/210526_ALS_124_snRNA-A11/counts_fil.mtx\n"
     ]
    },
    {
     "name": "stderr",
     "output_type": "stream",
     "text": [
      "Downloading files:   0%|                                                                                                                                                      | 0.00/1.00 [03:23<?, ?B/s]"
     ]
    },
    {
     "name": "stdout",
     "output_type": "stream",
     "text": [
      "[syn53422376:row_metadata.tsv]: Copying existing file from /storage/my_disk/helical_coding_challenge/.synapsecache/423/132658423/row_metadata.tsv to /storage/my_disk/helical_coding_challenge/data/syn51105515/Processed Data/210526_ALS_118_snRNA-A8/row_metadata.tsv\n"
     ]
    },
    {
     "name": "stderr",
     "output_type": "stream",
     "text": [
      "Downloading files:   0%|                                                                                                                                                      | 0.00/1.00 [03:23<?, ?B/s]"
     ]
    },
    {
     "name": "stdout",
     "output_type": "stream",
     "text": [
      "[syn53422389:row_metadata.tsv]: Copying existing file from /storage/my_disk/helical_coding_challenge/.synapsecache/423/132658423/row_metadata.tsv to /storage/my_disk/helical_coding_challenge/data/syn51105515/Processed Data/210526_FTLD_204_snRNA-B6/row_metadata.tsv\n"
     ]
    },
    {
     "name": "stderr",
     "output_type": "stream",
     "text": [
      "Downloading files:   0%|                                                                                                                                                      | 0.00/1.00 [03:23<?, ?B/s]"
     ]
    },
    {
     "name": "stdout",
     "output_type": "stream",
     "text": [
      "[syn53422303:counts_fil.mtx]: Copying existing file from /storage/my_disk/helical_coding_challenge/.synapsecache/770/132658770/counts_fil.mtx to /storage/my_disk/helical_coding_challenge/data/syn51105515/Processed Data/191114_PN_319_snRNA-F4/counts_fil.mtx\n"
     ]
    },
    {
     "name": "stderr",
     "output_type": "stream",
     "text": [
      "Downloading files:   0%|                                                                                                                                                      | 0.00/1.00 [03:24<?, ?B/s]"
     ]
    },
    {
     "name": "stdout",
     "output_type": "stream",
     "text": [
      "[syn53422416:counts_fil.mtx]: Copying existing file from /storage/my_disk/helical_coding_challenge/.synapsecache/883/132658883/counts_fil.mtx to /storage/my_disk/helical_coding_challenge/data/syn51105515/Processed Data/210526_ALS_118_snRNA-A8/counts_fil.mtx\n"
     ]
    },
    {
     "name": "stderr",
     "output_type": "stream",
     "text": [
      "Downloading files:   0%|                                                                                                                                                      | 0.00/1.00 [03:27<?, ?B/s]"
     ]
    },
    {
     "name": "stdout",
     "output_type": "stream",
     "text": [
      "[syn53422080:counts_fil.mtx]: Copying existing file from /storage/my_disk/helical_coding_challenge/.synapsecache/533/132658533/counts_fil.mtx to /storage/my_disk/helical_coding_challenge/data/syn51105515/Processed Data/210526_ALS_108_snRNA-H10/counts_fil.mtx\n"
     ]
    },
    {
     "name": "stderr",
     "output_type": "stream",
     "text": [
      "Downloading files:   0%|                                                                                                                                                      | 0.00/1.00 [03:28<?, ?B/s]"
     ]
    },
    {
     "name": "stdout",
     "output_type": "stream",
     "text": [
      "[syn53422098:counts_fil.mtx]: Copying existing file from /storage/my_disk/helical_coding_challenge/.synapsecache/553/132658553/counts_fil.mtx to /storage/my_disk/helical_coding_challenge/data/syn51105515/Processed Data/200721_FTLD_214_snRNA-A12/counts_fil.mtx\n"
     ]
    },
    {
     "name": "stderr",
     "output_type": "stream",
     "text": [
      "Downloading files:   0%|                                                                                                                                                      | 0.00/1.00 [03:29<?, ?B/s]"
     ]
    },
    {
     "name": "stdout",
     "output_type": "stream",
     "text": [
      "[syn53422150:row_metadata.tsv]: Copying existing file from /storage/my_disk/helical_coding_challenge/.synapsecache/423/132658423/row_metadata.tsv to /storage/my_disk/helical_coding_challenge/data/syn51105515/Processed Data/191114_PN_318_snRNA-F3/row_metadata.tsv\n"
     ]
    },
    {
     "name": "stderr",
     "output_type": "stream",
     "text": [
      "Downloading files:   0%|                                                                                                                                                      | 0.00/1.00 [03:29<?, ?B/s]"
     ]
    },
    {
     "name": "stdout",
     "output_type": "stream",
     "text": [
      "[syn53421974:row_metadata.tsv]: Copying existing file from /storage/my_disk/helical_coding_challenge/.synapsecache/420/132658420/row_metadata.tsv to /storage/my_disk/helical_coding_challenge/data/syn51105515/Processed Data/210526_FTLD_202_snRNA-B5/row_metadata.tsv\n"
     ]
    },
    {
     "name": "stderr",
     "output_type": "stream",
     "text": [
      "Downloading files:   0%|                                                                                                                                                      | 0.00/1.00 [03:29<?, ?B/s]"
     ]
    },
    {
     "name": "stdout",
     "output_type": "stream",
     "text": [
      "[syn53422407:row_metadata.tsv]: Copying existing file from /storage/my_disk/helical_coding_challenge/.synapsecache/423/132658423/row_metadata.tsv to /storage/my_disk/helical_coding_challenge/data/syn51105515/Processed Data/210526_FTLD_206_snRNA-B7/row_metadata.tsv\n"
     ]
    },
    {
     "name": "stderr",
     "output_type": "stream",
     "text": [
      "Downloading files:   0%|                                                                                                                                                      | 0.00/1.00 [03:29<?, ?B/s]"
     ]
    },
    {
     "name": "stdout",
     "output_type": "stream",
     "text": [
      "[syn53422394:col_metadata.tsv]: Copying existing file from /storage/my_disk/helical_coding_challenge/.synapsecache/865/132658865/col_metadata.tsv to /storage/my_disk/helical_coding_challenge/data/syn51105515/Processed Data/210526_ALS_118_snRNA-A8/col_metadata.tsv\n"
     ]
    },
    {
     "name": "stderr",
     "output_type": "stream",
     "text": [
      "Downloading files:   0%|                                                                                                                                                      | 0.00/1.00 [03:29<?, ?B/s]"
     ]
    },
    {
     "name": "stdout",
     "output_type": "stream",
     "text": [
      "[syn53422357:row_metadata.tsv]: Copying existing file from /storage/my_disk/helical_coding_challenge/.synapsecache/423/132658423/row_metadata.tsv to /storage/my_disk/helical_coding_challenge/data/syn51105515/Processed Data/191114_PN_307_snRNA-E11/row_metadata.tsv\n"
     ]
    },
    {
     "name": "stderr",
     "output_type": "stream",
     "text": [
      "Downloading files:   0%|                                                                                                                                                      | 0.00/1.00 [03:29<?, ?B/s]"
     ]
    },
    {
     "name": "stdout",
     "output_type": "stream",
     "text": [
      "[syn53422230:col_metadata.tsv]: Copying existing file from /storage/my_disk/helical_coding_challenge/.synapsecache/693/132658693/col_metadata.tsv to /storage/my_disk/helical_coding_challenge/data/syn51105515/Processed Data/210910_MCX_ALS_134_snRNA-C5/col_metadata.tsv\n"
     ]
    },
    {
     "name": "stderr",
     "output_type": "stream",
     "text": [
      "Downloading files:   0%|                                                                                                                                                      | 0.00/1.00 [03:30<?, ?B/s]"
     ]
    },
    {
     "name": "stdout",
     "output_type": "stream",
     "text": [
      "[syn53422148:counts_fil.mtx]: Copying existing file from /storage/my_disk/helical_coding_challenge/.synapsecache/603/132658603/counts_fil.mtx to /storage/my_disk/helical_coding_challenge/data/syn51105515/Processed Data/220616_BL6_MCX_snRNA-A1/counts_fil.mtx\n"
     ]
    },
    {
     "name": "stderr",
     "output_type": "stream",
     "text": [
      "Downloading files:   0%|                                                                                                                                                      | 0.00/1.00 [03:31<?, ?B/s]"
     ]
    },
    {
     "name": "stdout",
     "output_type": "stream",
     "text": [
      "[syn53422050:counts_fil.mtx]: Copying existing file from /storage/my_disk/helical_coding_challenge/.synapsecache/505/132658505/counts_fil.mtx to /storage/my_disk/helical_coding_challenge/data/syn51105515/Processed Data/201025_FTLD_240_snRNA-C12/counts_fil.mtx\n"
     ]
    },
    {
     "name": "stderr",
     "output_type": "stream",
     "text": [
      "Downloading files:   0%|                                                                                                                                                      | 0.00/1.00 [03:32<?, ?B/s]"
     ]
    },
    {
     "name": "stdout",
     "output_type": "stream",
     "text": [
      "[syn53422373:col_metadata.tsv]: Copying existing file from /storage/my_disk/helical_coding_challenge/.synapsecache/843/132658843/col_metadata.tsv to /storage/my_disk/helical_coding_challenge/data/syn51105515/Processed Data/191114_PN_307_snRNA-E11/col_metadata.tsv\n"
     ]
    },
    {
     "name": "stderr",
     "output_type": "stream",
     "text": [
      "Downloading files:   0%|                                                                                                                                                      | 0.00/1.00 [03:32<?, ?B/s]"
     ]
    },
    {
     "name": "stdout",
     "output_type": "stream",
     "text": [
      "[syn53422042:row_metadata.tsv]: Copying existing file from /storage/my_disk/helical_coding_challenge/.synapsecache/423/132658423/row_metadata.tsv to /storage/my_disk/helical_coding_challenge/data/syn51105515/Processed Data/210526_ALS_108_snRNA-H10/row_metadata.tsv\n"
     ]
    },
    {
     "name": "stderr",
     "output_type": "stream",
     "text": [
      "Downloading files:   0%|                                                                                                                                                      | 0.00/1.00 [03:32<?, ?B/s]"
     ]
    },
    {
     "name": "stdout",
     "output_type": "stream",
     "text": [
      "[syn53422115:row_metadata.tsv]: Copying existing file from /storage/my_disk/helical_coding_challenge/.synapsecache/425/132658425/row_metadata.tsv to /storage/my_disk/helical_coding_challenge/data/syn51105515/Processed Data/220616_BL6_MCX_snRNA-A1/row_metadata.tsv\n"
     ]
    },
    {
     "name": "stderr",
     "output_type": "stream",
     "text": [
      "Downloading files:   0%|                                                                                                                                                      | 0.00/1.00 [03:32<?, ?B/s]"
     ]
    },
    {
     "name": "stdout",
     "output_type": "stream",
     "text": [
      "[syn53422211:col_metadata.tsv]: Copying existing file from /storage/my_disk/helical_coding_challenge/.synapsecache/672/132658672/col_metadata.tsv to /storage/my_disk/helical_coding_challenge/data/syn51105515/Processed Data/210526_PN_325_snRNA-F5/col_metadata.tsv\n"
     ]
    },
    {
     "name": "stderr",
     "output_type": "stream",
     "text": [
      "Downloading files:   0%|                                                                                                                                                      | 0.00/1.00 [03:32<?, ?B/s]"
     ]
    },
    {
     "name": "stdout",
     "output_type": "stream",
     "text": [
      "[syn53422013:counts_fil.mtx]: Copying existing file from /storage/my_disk/helical_coding_challenge/.synapsecache/465/132658465/counts_fil.mtx to /storage/my_disk/helical_coding_challenge/data/syn51105515/Processed Data/210526_FTLD_202_snRNA-B5/counts_fil.mtx\n"
     ]
    },
    {
     "name": "stderr",
     "output_type": "stream",
     "text": [
      "Downloading files:   0%|                                                                                                                                                      | 0.00/1.00 [03:32<?, ?B/s]"
     ]
    },
    {
     "name": "stdout",
     "output_type": "stream",
     "text": [
      "[syn53422266:row_metadata.tsv]: Copying existing file from /storage/my_disk/helical_coding_challenge/.synapsecache/423/132658423/row_metadata.tsv to /storage/my_disk/helical_coding_challenge/data/syn51105515/Processed Data/210910_MCX_ALS_140_snRNA-D7/row_metadata.tsv\n"
     ]
    },
    {
     "name": "stderr",
     "output_type": "stream",
     "text": [
      "Downloading files:   0%|                                                                                                                                                      | 0.00/1.00 [03:32<?, ?B/s]"
     ]
    },
    {
     "name": "stdout",
     "output_type": "stream",
     "text": [
      "[syn53422127:col_metadata.tsv]: Copying existing file from /storage/my_disk/helical_coding_challenge/.synapsecache/585/132658585/col_metadata.tsv to /storage/my_disk/helical_coding_challenge/data/syn51105515/Processed Data/220616_BL6_MCX_snRNA-A1/col_metadata.tsv\n"
     ]
    },
    {
     "name": "stderr",
     "output_type": "stream",
     "text": [
      "Downloading files:   0%|                                                                                                                                                      | 0.00/1.00 [03:32<?, ?B/s]"
     ]
    },
    {
     "name": "stdout",
     "output_type": "stream",
     "text": [
      "[syn53422052:col_metadata.tsv]: Copying existing file from /storage/my_disk/helical_coding_challenge/.synapsecache/508/132658508/col_metadata.tsv to /storage/my_disk/helical_coding_challenge/data/syn51105515/Processed Data/210526_ALS_108_snRNA-H10/col_metadata.tsv\n"
     ]
    },
    {
     "name": "stderr",
     "output_type": "stream",
     "text": [
      "Downloading files:   0%|                                                                                                                                                      | 0.00/1.00 [03:32<?, ?B/s]\n"
     ]
    }
   ],
   "source": [
    "files = synapseutils.syncFromSynapse(syn, 'syn51105515', path=\"../data/syn51105515/\")"
   ]
  },
  {
   "cell_type": "markdown",
   "id": "80138770-5cfe-45c6-b95f-3028b31e9f86",
   "metadata": {},
   "source": [
    "## Concatenate datasets and save"
   ]
  },
  {
   "cell_type": "code",
   "execution_count": 5,
   "id": "e86f07ae-dc70-447f-8858-777b39650a0c",
   "metadata": {},
   "outputs": [
    {
     "data": {
      "text/plain": [
       "{'191113_FTLD_224_snRNA-E2', '191114_PN_308_snRNA-E12'}"
      ]
     },
     "execution_count": 5,
     "metadata": {},
     "output_type": "execute_result"
    }
   ],
   "source": [
    "# Check if GEO samples are all present in Synapse download\n",
    "geo_samples = set(pd.read_csv(\"../data/geo_samples.txt\", header=None)[0].tolist())\n",
    "synapse_samples = set(os.listdir(\"../data/syn51105515/Processed Data\"))\n",
    "geo_samples - synapse_samples"
   ]
  },
  {
   "cell_type": "markdown",
   "id": "b47d05df-4263-447f-af4d-d6d9410801f6",
   "metadata": {},
   "source": [
    "Not all GEO samples seem to be part of Synapse, so one is not a clear subset of the other. Will proceed by just using the Synapse data as stated in the paper."
   ]
  },
  {
   "cell_type": "code",
   "execution_count": 13,
   "id": "4a3d5d18-9aa9-4194-9097-461f0a5bc953",
   "metadata": {},
   "outputs": [],
   "source": [
    "# Make sure we have not lost any metadata during concatenation\n",
    "assert len(adata.var.columns) == len(adata_tmp.var.columns)\n",
    "assert len(adata.obs.columns) == len(adata_tmp.obs.columns)"
   ]
  },
  {
   "cell_type": "code",
   "execution_count": 7,
   "id": "ceb03f27-f065-49d3-b47d-58555844e1fe",
   "metadata": {},
   "outputs": [
    {
     "data": {
      "text/plain": [
       "AnnData object with n_obs × n_vars = 625973 × 36503\n",
       "    obs: 'Sample_ID', 'Donor', 'Region', 'Sex', 'Condition', 'Group', 'C9_pos', 'CellClass', 'CellType', 'SubType', 'full_label', 'DGE_Group', 'Bakken_M1'\n",
       "    var: 'Gene', 'Chromosome', 'Biotype'"
      ]
     },
     "execution_count": 7,
     "metadata": {},
     "output_type": "execute_result"
    }
   ],
   "source": [
    "# Given that not all GEO samples are present in Synapse, we just proceed with the full Synapse data and concatenate them into a single anndata\n",
    "adatas = {}\n",
    "basepath = \"../data/syn51105515/Processed Data\"\n",
    "for f in os.listdir(basepath):\n",
    "    if f.startswith((\"1\", \"2\")) and \"BL6\" not in f: # exluding mouse (BL6) samples\n",
    "        adata_tmp = sc.read_mtx(os.path.join(basepath, f, \"counts_fil.mtx\")).T\n",
    "        adata_tmp.var = pd.read_csv(os.path.join(basepath, f, \"row_metadata.tsv\"), index_col=0, sep=\"\\t\")\n",
    "        adata_tmp.obs = pd.read_csv(os.path.join(basepath, f, \"col_metadata.tsv\"), index_col=0, sep=\"\\t\")\n",
    "        adatas[f] = adata_tmp\n",
    "adata = ad.concat(adatas, merge=\"same\", join=\"inner\") # concatenating dataset\n",
    "\n",
    "# Write concatenated object to file\n",
    "adata.write(\"../data/processed_data.h5ad\", compression=\"gzip\")\n",
    "adata"
   ]
  }
 ],
 "metadata": {
  "kernelspec": {
   "display_name": "Python 3 (ipykernel)",
   "language": "python",
   "name": "python3"
  },
  "language_info": {
   "codemirror_mode": {
    "name": "ipython",
    "version": 3
   },
   "file_extension": ".py",
   "mimetype": "text/x-python",
   "name": "python",
   "nbconvert_exporter": "python",
   "pygments_lexer": "ipython3",
   "version": "3.11.8"
  }
 },
 "nbformat": 4,
 "nbformat_minor": 5
}
